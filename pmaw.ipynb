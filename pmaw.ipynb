{
 "cells": [
  {
   "cell_type": "code",
   "execution_count": null,
   "metadata": {},
   "outputs": [],
   "source": [
    "!pip install pmaw==3.0.0"
   ]
  },
  {
   "cell_type": "code",
   "execution_count": 2,
   "metadata": {},
   "outputs": [],
   "source": [
    "from pmaw import PushshiftAPI\n",
    "\n",
    "api = PushshiftAPI()"
   ]
  },
  {
   "cell_type": "code",
   "execution_count": 3,
   "metadata": {},
   "outputs": [],
   "source": [
    "import praw\n",
    "\n",
    "reddit = praw.Reddit(client_id = \"JgHZRyaH_Ya0sSPJ4WB4ZA\", client_secret=\"yNybsXSQCZVR-r-2mo0Ribuae-zKgw\", user_agent=\"scrape\")"
   ]
  },
  {
   "cell_type": "code",
   "execution_count": 4,
   "metadata": {},
   "outputs": [
    {
     "name": "stderr",
     "output_type": "stream",
     "text": [
      "  0%|          | 0/314 [00:00<?, ?it/s]"
     ]
    },
    {
     "name": "stdout",
     "output_type": "stream",
     "text": [
      "0: Scott Aukerman, host of \"Comedy Bang! Bang!,\" producer/director \"Between Two Ferns\"\n",
      "1: Fred Armisen &amp; Carrie Brownstein! Awards for anyone up on the west coast! Ask us anything!\n"
     ]
    },
    {
     "name": "stderr",
     "output_type": "stream",
     "text": [
      "  0%|          | 1/314 [00:20<1:44:26, 20.02s/it]"
     ]
    },
    {
     "name": "stdout",
     "output_type": "stream",
     "text": [
      "2: We’re Working on Overturning the Citizens United Supreme Court Decision – Ask Us Anything!\n"
     ]
    },
    {
     "name": "stderr",
     "output_type": "stream",
     "text": [
      "  1%|          | 2/314 [00:26<1:01:39, 11.86s/it]"
     ]
    },
    {
     "name": "stdout",
     "output_type": "stream",
     "text": [
      "3: IamA 14yr old Ebola survivor in remote Liberia\n"
     ]
    },
    {
     "name": "stderr",
     "output_type": "stream",
     "text": [
      "  1%|▏         | 4/314 [00:48<58:26, 11.31s/it]  "
     ]
    },
    {
     "name": "stdout",
     "output_type": "stream",
     "text": [
      "4: IamA firefighter AMA!\n"
     ]
    },
    {
     "name": "stderr",
     "output_type": "stream",
     "text": [
      "  2%|▏         | 5/314 [01:00<58:50, 11.42s/it]"
     ]
    },
    {
     "name": "stdout",
     "output_type": "stream",
     "text": [
      "5: We are the Multidisciplinary Association for Psychedelic Studies (MAPS), a non-profit research and educational organization working to legitimize the scientific, medical, and spiritual uses of psychedelics and marijuana. Ask us anything!\n"
     ]
    },
    {
     "name": "stderr",
     "output_type": "stream",
     "text": [
      "  2%|▏         | 6/314 [01:30<1:31:42, 17.86s/it]"
     ]
    },
    {
     "name": "stdout",
     "output_type": "stream",
     "text": [
      "6: IamA (Nightclub Bouncer for 6 1/2 years. I have been beaten, stabbed, had bones broken, bottled over the head, hospitalized, and even attacked by groups of old women, I'm 25 years old!) AMA!\n"
     ]
    },
    {
     "name": "stderr",
     "output_type": "stream",
     "text": [
      "  2%|▏         | 7/314 [01:38<1:14:18, 14.52s/it]"
     ]
    },
    {
     "name": "stdout",
     "output_type": "stream",
     "text": [
      "7: We're Eric Migicovsky + the creators of Pebble Time, AUA!\n",
      "8: We are Colossal Order, the team behind Cities: Skylines, a game close to launch that just released information about modding - AMA!\n"
     ]
    },
    {
     "name": "stderr",
     "output_type": "stream",
     "text": [
      "  3%|▎         | 8/314 [01:53<1:15:33, 14.82s/it]"
     ]
    },
    {
     "name": "stdout",
     "output_type": "stream",
     "text": [
      "9: IamA Stanford trained sleep doctor, treated sleep conditions like apnea, insomnia, exploding head syndrome, restless legs syndrome, narcolepsy. AMA!\n"
     ]
    },
    {
     "name": "stderr",
     "output_type": "stream",
     "text": [
      "  3%|▎         | 9/314 [01:59<1:01:21, 12.07s/it]"
     ]
    },
    {
     "name": "stdout",
     "output_type": "stream",
     "text": [
      "10: I'm Matt McMullen, CEO of RealDoll; AMA\n"
     ]
    },
    {
     "name": "stderr",
     "output_type": "stream",
     "text": [
      "  3%|▎         | 10/314 [02:10<58:37, 11.57s/it] "
     ]
    },
    {
     "name": "stdout",
     "output_type": "stream",
     "text": [
      "11: I am a waver at Liberty Tax service, meaning I work four hours a day, everyday, dressed as a giant maple leaf dancing on the side of the road for minimum wage, AMA!\n"
     ]
    },
    {
     "name": "stderr",
     "output_type": "stream",
     "text": [
      "  4%|▎         | 11/314 [02:26<1:05:55, 13.06s/it]"
     ]
    },
    {
     "name": "stdout",
     "output_type": "stream",
     "text": [
      "12: IamA Female Afghanistan veteran and current anti-poaching advisor (\"poacher hunter\") AMA!\n",
      "13: I am a former undercover investigator who worked in factory farms, and am currently Investigations Manager for a national animal protection organization\n"
     ]
    },
    {
     "name": "stderr",
     "output_type": "stream",
     "text": [
      "  4%|▍         | 13/314 [02:57<1:04:58, 12.95s/it]"
     ]
    },
    {
     "name": "stdout",
     "output_type": "stream",
     "text": [
      "14: I created a business in 3 days with Reddit's help, and now it's been 4 weeks and I'm quitting my software engineering job. AMA!\n"
     ]
    },
    {
     "name": "stderr",
     "output_type": "stream",
     "text": [
      "  4%|▍         | 14/314 [03:10<1:05:06, 13.02s/it]"
     ]
    },
    {
     "name": "stdout",
     "output_type": "stream",
     "text": [
      "15: DAREDEVIL dropped a fire extinguisher on my head in episode 2; AMA.\n",
      "16: Hi, we're a band called Arkells. Happy to answer any questions about life in a band. Songs, lyrics gear, touring etc. Ask away!\n"
     ]
    },
    {
     "name": "stderr",
     "output_type": "stream",
     "text": [
      "  5%|▍         | 15/314 [03:37<1:26:31, 17.36s/it]"
     ]
    },
    {
     "name": "stdout",
     "output_type": "stream",
     "text": [
      "17: I am Chris Hansen. You may know me from \"To Catch a Predator\" or \"Wild Wild Web.\" AMA.\n"
     ]
    },
    {
     "name": "stderr",
     "output_type": "stream",
     "text": [
      "  5%|▌         | 16/314 [04:34<2:25:28, 29.29s/it]"
     ]
    },
    {
     "name": "stdout",
     "output_type": "stream",
     "text": [
      "18: I am Kevin Parker from Tame Impala. Ask me Anything!\n",
      "19: I am Tim Ferriss, author, angel investor, host of the Tim Ferriss Experiment, and human guinea pig. AMA!\n"
     ]
    },
    {
     "name": "stderr",
     "output_type": "stream",
     "text": [
      "  5%|▌         | 17/314 [05:01<2:20:14, 28.33s/it]"
     ]
    },
    {
     "name": "stdout",
     "output_type": "stream",
     "text": [
      "20: IamA former Neo-Nazi/racist skinhead leader turned peace advocate and author AMA!\n",
      "21: Mark Ruffalo, back again on reddit. Let's talk Water Defense with Scott Smith. AMA!\n"
     ]
    },
    {
     "name": "stderr",
     "output_type": "stream",
     "text": [
      "  6%|▌         | 18/314 [05:27<2:17:45, 27.92s/it]"
     ]
    },
    {
     "name": "stdout",
     "output_type": "stream",
     "text": [
      "22: I am Marc Maron, the guy from the thing. What's up?\n",
      "23: We Are \"The Price Is Right\"\n"
     ]
    },
    {
     "name": "stderr",
     "output_type": "stream",
     "text": [
      "  6%|▌         | 19/314 [05:56<2:18:44, 28.22s/it]"
     ]
    },
    {
     "name": "stdout",
     "output_type": "stream",
     "text": [
      "24: We are the team behind Cities: Skylines, ask us anything!\n"
     ]
    },
    {
     "name": "stderr",
     "output_type": "stream",
     "text": [
      "  6%|▋         | 20/314 [06:11<1:58:45, 24.24s/it]"
     ]
    },
    {
     "name": "stdout",
     "output_type": "stream",
     "text": [
      "25: I am Missy Suicide, founder of SuicideGirls, Artist Richard prince sold photos from my instagram for $90,000 so I made posters of his “art” and am selling them for $90…AMA!\n",
      "26: my best friend playfully pushed me into a pool at my bachelorette party and now IAMA quadriplegic known as \"the paralyzed bride\" and a new mom! AMA!\n",
      "27: IamA disabled American expatriate in the Philippines who founded 8ch.net (4chan clone where users make boards like Reddit). An Al Jazeera documentary I did over a year ago is on on the frontpage of r/videos. AMA!\n"
     ]
    },
    {
     "name": "stderr",
     "output_type": "stream",
     "text": [
      "  7%|▋         | 21/314 [06:53<2:23:31, 29.39s/it]"
     ]
    },
    {
     "name": "stdout",
     "output_type": "stream",
     "text": [
      "28: IamA guy who makes science videos on YouTube (Destin from Smarter Every Day). Derek from Veritasium and I performed an experiment in both the North and South hemispheres to finally determine the Truth about Toilet Swirl. It's awesome and we're excited about it. AMA!\n",
      "29: We're Playtonic, ex-Rare devs behind Banjo-Kazooie and Donkey Kong Country! AMA!\n"
     ]
    },
    {
     "name": "stderr",
     "output_type": "stream",
     "text": [
      "  7%|▋         | 22/314 [07:21<2:21:29, 29.07s/it]"
     ]
    },
    {
     "name": "stdout",
     "output_type": "stream",
     "text": [
      "30: I'm a retired bank robber. AMA!\n"
     ]
    },
    {
     "name": "stderr",
     "output_type": "stream",
     "text": [
      "  8%|▊         | 24/314 [07:31<1:20:30, 16.66s/it]"
     ]
    },
    {
     "name": "stdout",
     "output_type": "stream",
     "text": [
      "31: We are the cast and crew of Red vs. Blue! Ask us anything!\n"
     ]
    },
    {
     "name": "stderr",
     "output_type": "stream",
     "text": [
      "  8%|▊         | 25/314 [07:42<1:11:57, 14.94s/it]"
     ]
    },
    {
     "name": "stdout",
     "output_type": "stream",
     "text": [
      "32: I am Rev. Jesse Jackson. AMA.\n",
      "33: We’re the Guardian reporters behind The Counted, a project to chronicle every person killed by police in the US. We're here to answer your questions about police and social justice in America. AUA.\n"
     ]
    },
    {
     "name": "stderr",
     "output_type": "stream",
     "text": [
      "  9%|▊         | 27/314 [08:28<1:32:46, 19.39s/it]"
     ]
    },
    {
     "name": "stdout",
     "output_type": "stream",
     "text": [
      "34: IamA Sir Ian McKellen AMA!\n",
      "35: Chemical and Biological Warfare Specialist. IAmA\n"
     ]
    },
    {
     "name": "stderr",
     "output_type": "stream",
     "text": [
      "  9%|▉         | 28/314 [08:44<1:26:37, 18.17s/it]"
     ]
    },
    {
     "name": "stdout",
     "output_type": "stream",
     "text": [
      "36: I am Jim Obergefell Named Plaintiff in the Supreme Court Marriage Equality Case, AMA!\n"
     ]
    },
    {
     "name": "stderr",
     "output_type": "stream",
     "text": [
      " 10%|▉         | 31/314 [09:09<57:30, 12.19s/it]  "
     ]
    },
    {
     "name": "stdout",
     "output_type": "stream",
     "text": [
      "37: IamA Sex Worker, working legally in Nevada's brothels, AMA\n",
      "38: IamA Mike Shinoda AMA!\n"
     ]
    },
    {
     "name": "stderr",
     "output_type": "stream",
     "text": [
      " 10%|█         | 32/314 [09:35<1:17:23, 16.46s/it]"
     ]
    },
    {
     "name": "stdout",
     "output_type": "stream",
     "text": [
      "39: I'm Lil Dicky, I just released my album 'Professional Rapper,' and I still go on a lot of tinder dates. Ask me anything.\n"
     ]
    },
    {
     "name": "stderr",
     "output_type": "stream",
     "text": [
      " 11%|█         | 33/314 [09:45<1:07:58, 14.51s/it]"
     ]
    },
    {
     "name": "stdout",
     "output_type": "stream",
     "text": [
      "40: We’re scientists on the Event Horizon Telescope Project looking to capture an image of a black hole. Ask us anything about the telescope, astronomy, physics or black holes! AMA!\n"
     ]
    },
    {
     "name": "stderr",
     "output_type": "stream",
     "text": [
      " 11%|█         | 34/314 [09:52<56:50, 12.18s/it]  "
     ]
    },
    {
     "name": "stdout",
     "output_type": "stream",
     "text": [
      "41: Nick Offerman gently tickles fellow dipshits. AMA\n"
     ]
    },
    {
     "name": "stderr",
     "output_type": "stream",
     "text": [
      " 11%|█         | 35/314 [09:59<50:02, 10.76s/it]"
     ]
    },
    {
     "name": "stdout",
     "output_type": "stream",
     "text": [
      "42: IamA Janitor, AMA!\n"
     ]
    },
    {
     "name": "stderr",
     "output_type": "stream",
     "text": [
      " 11%|█▏        | 36/314 [10:16<58:48, 12.69s/it]"
     ]
    },
    {
     "name": "stdout",
     "output_type": "stream",
     "text": [
      "43: I'm Riley Reid, porn star and cool human! AMA!\n"
     ]
    },
    {
     "name": "stderr",
     "output_type": "stream",
     "text": [
      " 12%|█▏        | 37/314 [10:36<1:08:40, 14.88s/it]"
     ]
    },
    {
     "name": "stdout",
     "output_type": "stream",
     "text": [
      "44: IamA Ann Wilson, lead singer of \"Heart\" AMA!\n",
      "45: I am Mary Bonauto, a lawyer (and MacArthur Fellow) who successfully argued the U.S. Supreme Court case establishing the freedom to marry for same-sex couples nationwide. AMA!\n"
     ]
    },
    {
     "name": "stderr",
     "output_type": "stream",
     "text": [
      " 12%|█▏        | 38/314 [10:49<1:05:24, 14.22s/it]"
     ]
    },
    {
     "name": "stdout",
     "output_type": "stream",
     "text": [
      "46: Hi, I’m Hiroshi Lockheimer, here at Google with the team that build Nexus 5X &amp; 6P...Ask Us Anything!\n"
     ]
    },
    {
     "name": "stderr",
     "output_type": "stream",
     "text": [
      " 13%|█▎        | 40/314 [10:58<40:56,  8.97s/it]  "
     ]
    },
    {
     "name": "stdout",
     "output_type": "stream",
     "text": [
      "47: I'm a basketball player, style guru and philanthropist-- Russell Westbrook. Ask me stuff.\n",
      "48: I'm RPG designer Jonathan Tweet, lead designer on D&amp;D 3rd Ed and others, author of the first book to teach evolution to preschoolers, Ask Me Anything!\n"
     ]
    },
    {
     "name": "stderr",
     "output_type": "stream",
     "text": [
      " 13%|█▎        | 41/314 [12:30<2:34:35, 33.98s/it]"
     ]
    },
    {
     "name": "stdout",
     "output_type": "stream",
     "text": [
      "49: Looks like I'm Bill Murray, AMA Round 2!\n",
      "50: I'm Alan, and I created Imgur. AMA!\n"
     ]
    },
    {
     "name": "stderr",
     "output_type": "stream",
     "text": [
      " 13%|█▎        | 42/314 [13:00<2:28:09, 32.68s/it]"
     ]
    },
    {
     "name": "stdout",
     "output_type": "stream",
     "text": [
      "51: My name is Richard Glossip, a death row inmate who received a last-minute stay of execution, AMA.\n",
      "52: I am Christiana Figueres, the top UN Climate Change official. I'm leading the charge on a new global climate change agreement. AMA!\n"
     ]
    },
    {
     "name": "stderr",
     "output_type": "stream",
     "text": [
      " 14%|█▎        | 43/314 [13:27<2:20:28, 31.10s/it]"
     ]
    },
    {
     "name": "stdout",
     "output_type": "stream",
     "text": [
      "53: We are the Microsoft Excel team - Ask Us Anything!\n"
     ]
    },
    {
     "name": "stderr",
     "output_type": "stream",
     "text": [
      " 14%|█▍        | 44/314 [13:42<1:58:16, 26.28s/it]"
     ]
    },
    {
     "name": "stdout",
     "output_type": "stream",
     "text": [
      "54: I am Mindy Kaling, Ask Me Anything!!\n",
      "55: I'm Bill Binney, former NSA Tech Director. Worked for NSA 37 years. I know that you can have your liberty W/O sacrificing security! AMA.\n",
      "56: I am Jerry Stritzke, CEO of REI and we’re closing all of our stores on Black Friday. Ask me anything!\n"
     ]
    },
    {
     "name": "stderr",
     "output_type": "stream",
     "text": [
      " 14%|█▍        | 45/314 [14:23<2:18:03, 30.80s/it]"
     ]
    },
    {
     "name": "stdout",
     "output_type": "stream",
     "text": [
      "57: I'm Jack Douglass of the YouTube channel Jacksfilms. After 9 years, I'm about to release my biggest video yet, AMA!\n"
     ]
    },
    {
     "name": "stderr",
     "output_type": "stream",
     "text": [
      " 15%|█▍        | 47/314 [14:39<1:22:26, 18.53s/it]"
     ]
    },
    {
     "name": "stdout",
     "output_type": "stream",
     "text": [
      "58: IAmA published author, director &amp; a Wicked Picture Contract Star. My name is Asa Akira. Ask Me Anything!\n",
      "59: IamA 63 % burn victim (third degree, except luckily my face is second degree - it will heal.) AMA!\n"
     ]
    },
    {
     "name": "stderr",
     "output_type": "stream",
     "text": [
      " 15%|█▌        | 48/314 [15:04<1:30:42, 20.46s/it]"
     ]
    },
    {
     "name": "stdout",
     "output_type": "stream",
     "text": [
      "60: Hi, I’m Andrew, here at Google and I’m with the team that built the Pixel C...Ask Us Anything!\n",
      "61: [AMA Request] Donald Trump\n"
     ]
    },
    {
     "name": "stderr",
     "output_type": "stream",
     "text": [
      " 16%|█▌        | 49/314 [15:32<1:41:20, 22.94s/it]"
     ]
    },
    {
     "name": "stdout",
     "output_type": "stream",
     "text": [
      "62: [AMA Request] Somebody who has come out of a coma (Doesn't have to be recently)\n"
     ]
    },
    {
     "name": "stderr",
     "output_type": "stream",
     "text": [
      " 16%|█▌        | 50/314 [15:47<1:29:15, 20.29s/it]"
     ]
    },
    {
     "name": "stdout",
     "output_type": "stream",
     "text": [
      "63: Hey man, I'm Tommy Chong, 1/2 of Cheech &amp; Chong &amp; 77-year-old actor, director, activist, musician, who also occasionally smokes a little bit of pot...AMA!\n"
     ]
    },
    {
     "name": "stderr",
     "output_type": "stream",
     "text": [
      " 16%|█▌        | 51/314 [16:00<1:19:23, 18.11s/it]"
     ]
    },
    {
     "name": "stdout",
     "output_type": "stream",
     "text": [
      "64: Year ago I didn't know how to code, few weeks ago I released my first iOS/Android/Windows10 game. AMA!\n"
     ]
    },
    {
     "name": "stderr",
     "output_type": "stream",
     "text": [
      " 17%|█▋        | 52/314 [16:14<1:14:38, 17.09s/it]"
     ]
    },
    {
     "name": "stdout",
     "output_type": "stream",
     "text": [
      "65: I am Palmer Luckey, founder of Oculus and designer of the Rift. AMA!\n"
     ]
    },
    {
     "name": "stderr",
     "output_type": "stream",
     "text": [
      " 17%|█▋        | 53/314 [16:28<1:10:04, 16.11s/it]"
     ]
    },
    {
     "name": "stdout",
     "output_type": "stream",
     "text": [
      "66: We are real people who work in Parks and Recreation. AMA\n"
     ]
    },
    {
     "name": "stderr",
     "output_type": "stream",
     "text": [
      " 17%|█▋        | 54/314 [16:42<1:06:35, 15.37s/it]"
     ]
    },
    {
     "name": "stdout",
     "output_type": "stream",
     "text": [
      "67: IamA girl from GirlsDoPorn.com AMA!\n",
      "68: Hey Reddit, it’s Kris, Rob and Dave from Cyanide &amp; Happiness! Let’s talk about things!\n"
     ]
    },
    {
     "name": "stderr",
     "output_type": "stream",
     "text": [
      " 18%|█▊        | 57/314 [17:13<44:16, 10.34s/it]  "
     ]
    },
    {
     "name": "stdout",
     "output_type": "stream",
     "text": [
      "69: What TPP means for you and how we can stop it. We are EFF, Public Citizen, Fight for the Future, &amp; Sierra Club: Ask Us Anything\n"
     ]
    },
    {
     "name": "stderr",
     "output_type": "stream",
     "text": [
      " 18%|█▊        | 58/314 [17:33<56:26, 13.23s/it]"
     ]
    },
    {
     "name": "stdout",
     "output_type": "stream",
     "text": [
      "70: We are OK Go! We're here to talk, Reddit, so Ask Us Anything!\n",
      "71: I am Larry Wilmore, host of The Nightly Show with Larry Wilmore. Ask Me Anything!\n"
     ]
    },
    {
     "name": "stderr",
     "output_type": "stream",
     "text": [
      " 19%|█▉        | 59/314 [17:47<57:18, 13.48s/it]"
     ]
    },
    {
     "name": "stdout",
     "output_type": "stream",
     "text": [
      "72: I'm the CEO of an indie game development company, saved from bankruptcy by Reddit. AMA!\n"
     ]
    },
    {
     "name": "stderr",
     "output_type": "stream",
     "text": [
      " 19%|█▉        | 60/314 [18:08<1:06:43, 15.76s/it]"
     ]
    },
    {
     "name": "stdout",
     "output_type": "stream",
     "text": [
      "73: IamA YouTuber GradeAUnderA AMA!\n",
      "74: IamA Andrew Sampson, 20 year old developer who scared the music industry with my app Aurous and got sued for a couple million dollars, now I'm back to creating Free and open-source software AMA!\n"
     ]
    },
    {
     "name": "stderr",
     "output_type": "stream",
     "text": [
      " 19%|█▉        | 61/314 [18:23<1:06:20, 15.73s/it]"
     ]
    },
    {
     "name": "stdout",
     "output_type": "stream",
     "text": [
      "75: I am Jason Steele, creator of Charlie the Unicorn, Llamas with Hats, and other internet videos. Ask me anything!\n",
      "76: Hello Reddit, it's Sacha Baron Cohen, star of action comedy family animal porn movie 'The Brothers Grimsby'. Ask me anything. Apart from for money.\n"
     ]
    },
    {
     "name": "stderr",
     "output_type": "stream",
     "text": [
      " 20%|█▉        | 62/314 [18:33<58:26, 13.92s/it]  "
     ]
    },
    {
     "name": "stdout",
     "output_type": "stream",
     "text": [
      "77: I’m Apple Co-founder Steve Wozniak, Ask Me Anything!\n",
      "78: IamA 17 year old blind guy who was shot by his father AMA!\n"
     ]
    },
    {
     "name": "stderr",
     "output_type": "stream",
     "text": [
      " 20%|██        | 63/314 [18:43<53:26, 12.77s/it]"
     ]
    },
    {
     "name": "stdout",
     "output_type": "stream",
     "text": [
      "79: I work at kfc in the uk, AMA\n"
     ]
    },
    {
     "name": "stderr",
     "output_type": "stream",
     "text": [
      " 20%|██        | 64/314 [18:49<44:49, 10.76s/it]"
     ]
    },
    {
     "name": "stdout",
     "output_type": "stream",
     "text": [
      "80: I was imprisoned for 10 years in a North Korean political prisoner camp. My name is Kang Cholhwan, AMA.\n"
     ]
    },
    {
     "name": "stderr",
     "output_type": "stream",
     "text": [
      " 21%|██        | 65/314 [20:40<2:48:30, 40.60s/it]"
     ]
    },
    {
     "name": "stdout",
     "output_type": "stream",
     "text": [
      "81: I am Aisha Tyler and I have all the jobs. AMA!\n",
      "82: We are the Pornhub team. Ask us about porn, VR, data, corn or anything else.\n",
      "83: [AMA Request] Tom from Myspace!\n"
     ]
    },
    {
     "name": "stderr",
     "output_type": "stream",
     "text": [
      " 21%|██▏       | 67/314 [23:16<3:41:26, 53.79s/it]"
     ]
    },
    {
     "name": "stdout",
     "output_type": "stream",
     "text": [
      "84: We are Key &amp; Peele, our new movie \"Keanu\" is out April 29th. Ask us anything!\n"
     ]
    },
    {
     "name": "stderr",
     "output_type": "stream",
     "text": [
      " 22%|██▏       | 68/314 [23:31<2:53:00, 42.20s/it]"
     ]
    },
    {
     "name": "stdout",
     "output_type": "stream",
     "text": [
      "85: I'm a junior doctor on strike in England, back for another AMA\n"
     ]
    },
    {
     "name": "stderr",
     "output_type": "stream",
     "text": [
      " 22%|██▏       | 70/314 [23:48<1:40:08, 24.62s/it]"
     ]
    },
    {
     "name": "stdout",
     "output_type": "stream",
     "text": [
      "86: I am Jill Stein, Green Party candidate for President, AMA!\n",
      "87: We are L.A. Times reporters who spent more than a year investigating the nation’s bestselling painkiller, OxyContin. Ask Us Anything.\n",
      "88: IamA Retired US Navy Chief, with 20 years of experience driving Los Angeles and Virginia Class submarines. I've been on multiple deployments, seen numerous countries, and I was personally involved in the open missile salvos of the 2nd gulf war. AMA!\n"
     ]
    },
    {
     "name": "stderr",
     "output_type": "stream",
     "text": [
      " 23%|██▎       | 71/314 [24:37<2:09:11, 31.90s/it]"
     ]
    },
    {
     "name": "stdout",
     "output_type": "stream",
     "text": [
      "89: IamA the amputee cyborg from BBC's 'Bodyhack: Metal Gear Man' documentary, AMA!\n"
     ]
    },
    {
     "name": "stderr",
     "output_type": "stream",
     "text": [
      " 23%|██▎       | 72/314 [24:51<1:47:02, 26.54s/it]"
     ]
    },
    {
     "name": "stdout",
     "output_type": "stream",
     "text": [
      "90: IAmA survivor of a double-lung organ transplant and stage 4 cancer. I also happen to be 17 years old. AMA!\n"
     ]
    },
    {
     "name": "stderr",
     "output_type": "stream",
     "text": [
      " 23%|██▎       | 73/314 [25:07<1:33:36, 23.31s/it]"
     ]
    },
    {
     "name": "stdout",
     "output_type": "stream",
     "text": [
      "91: I Am an Artificial \"Hive Mind\" called UNU. I correctly picked the Superfecta at the Kentucky Derby—the 1st, 2nd, 3rd, and 4th place horses in order. A reporter from TechRepublic bet $1 on my prediction and won $542. Today I'm answering questions about U.S. Politics. Ask me anything...\n"
     ]
    },
    {
     "name": "stderr",
     "output_type": "stream",
     "text": [
      " 24%|██▍       | 75/314 [25:24<1:00:53, 15.29s/it]"
     ]
    },
    {
     "name": "stdout",
     "output_type": "stream",
     "text": [
      "92: I am actor Tony Hale of VEEP and Arrested Development. Ask me Anything!\n"
     ]
    },
    {
     "name": "stderr",
     "output_type": "stream",
     "text": [
      " 24%|██▍       | 76/314 [25:37<57:39, 14.54s/it]  "
     ]
    },
    {
     "name": "stdout",
     "output_type": "stream",
     "text": [
      "93: I’m Tommy Chong, half of Cheech &amp; Chong, founder of Chong’s Choice &amp; 78 yr old comedian, director, writer, activist, dancer, and I forget the rest…AMA!\n",
      "94: I created a startup that helps people pay off their student loans. AMA!\n"
     ]
    },
    {
     "name": "stderr",
     "output_type": "stream",
     "text": [
      " 25%|██▍       | 77/314 [26:05<1:13:23, 18.58s/it]"
     ]
    },
    {
     "name": "stdout",
     "output_type": "stream",
     "text": [
      "95: IAmA YouTuber with 2.5 Million Subscribers. I'm Nerd³. Let's Talk!\n",
      "96: Hi guys! It’s Gordon Ramsay, back for another AMA, this time from London! There's a lot of exciting things happening in 2016, new restaurants, a mobile game…...so Ask Me Anything! And for my American fans, try not to overcook your burgers next weekend!\n"
     ]
    },
    {
     "name": "stderr",
     "output_type": "stream",
     "text": [
      " 25%|██▍       | 78/314 [27:07<2:04:07, 31.56s/it]"
     ]
    },
    {
     "name": "stdout",
     "output_type": "stream",
     "text": [
      "97: I'm one of the passengers from the \"Miracle on the Hudson\" flight landed by Captain Sully. (Flight 1549)\n"
     ]
    },
    {
     "name": "stderr",
     "output_type": "stream",
     "text": [
      " 25%|██▌       | 79/314 [27:23<1:45:35, 26.96s/it]"
     ]
    },
    {
     "name": "stdout",
     "output_type": "stream",
     "text": [
      "98: We are ACLU lawyers. We're here to talk about policing reform, and knowing your rights when dealing with law enforcement and while protesting. AUA\n",
      "99: I am Werner Herzog, the filmmaker. AMA.\n"
     ]
    },
    {
     "name": "stderr",
     "output_type": "stream",
     "text": [
      " 25%|██▌       | 80/314 [27:37<1:30:41, 23.25s/it]"
     ]
    },
    {
     "name": "stdout",
     "output_type": "stream",
     "text": [
      "100: I make music as TOBACCO (on Ghostly International) and Black Moth Super Rainbow AMA!\n"
     ]
    },
    {
     "name": "stderr",
     "output_type": "stream",
     "text": [
      " 26%|██▌       | 81/314 [27:44<1:11:17, 18.36s/it]"
     ]
    },
    {
     "name": "stdout",
     "output_type": "stream",
     "text": [
      "101: We are Kaspersky Lab's Global Research &amp; Analysis Team (GReAT) AMA!\n"
     ]
    },
    {
     "name": "stderr",
     "output_type": "stream",
     "text": [
      " 26%|██▌       | 82/314 [27:57<1:04:46, 16.75s/it]"
     ]
    },
    {
     "name": "stdout",
     "output_type": "stream",
     "text": [
      "102: IamA progressive congressional candidate running for congress in a conservative state AMA!\n"
     ]
    },
    {
     "name": "stderr",
     "output_type": "stream",
     "text": [
      " 26%|██▋       | 83/314 [28:07<55:47, 14.49s/it]  "
     ]
    },
    {
     "name": "stdout",
     "output_type": "stream",
     "text": [
      "103: We Are Meryl Streep &amp; Hugh Grant, Ask Us Anything!\n",
      "104: IamA 16 year old going for a full colectomy and will poop out my stomach into a bag AMA!\n"
     ]
    },
    {
     "name": "stderr",
     "output_type": "stream",
     "text": [
      " 27%|██▋       | 85/314 [29:07<1:30:59, 23.84s/it]"
     ]
    },
    {
     "name": "stdout",
     "output_type": "stream",
     "text": [
      "105: IamA Pharma company CEO whose drug just helped save the life of the 4th person in America to ever Survive the Brain Eating Amoeba- a 97% fatal disease. AMA!\n",
      "106: My name is Danny Thompson. Last week I set a 400mph speed record in a car my dad originally built in 1968. Ask me anything!\n"
     ]
    },
    {
     "name": "stderr",
     "output_type": "stream",
     "text": [
      " 27%|██▋       | 86/314 [29:17<1:14:04, 19.49s/it]"
     ]
    },
    {
     "name": "stdout",
     "output_type": "stream",
     "text": [
      "107: I am Nicholas Sarwark, Chairman of the the Libertarian Party, the only growing political party in the United States. AMA!\n",
      "108: I Am an Artificial \"Hive Mind\" named UNU. I’ve made headlines for sports predictions like the Kentucky Derby, where I picked the Superfecta—1st, 2nd, 3rd, 4th place horses in order. In June I was the 1st ever Hive Mind A.I. to do an AMA. Today I’ll be talking NFL &amp; FANTASY FOOTBALL. Ask me anything.\n",
      "109: IamA Rubik's Cube Speedsolver AMA!\n"
     ]
    },
    {
     "name": "stderr",
     "output_type": "stream",
     "text": [
      " 28%|██▊       | 87/314 [29:30<1:06:49, 17.66s/it]"
     ]
    },
    {
     "name": "stdout",
     "output_type": "stream",
     "text": [
      "110: I'm David Simon, creator of HBO's The Wire, The Corner, Show Me A Hero, now working on The Deuce. I'm also a 2010 MacArthur Fellow. Go ahead and AMA.\n"
     ]
    },
    {
     "name": "stderr",
     "output_type": "stream",
     "text": [
      " 28%|██▊       | 88/314 [29:46<1:04:02, 17.00s/it]"
     ]
    },
    {
     "name": "stdout",
     "output_type": "stream",
     "text": [
      "111: IamA former Dominos UK customer service representative, Here to take your orders and answer your questions. AMA!\n"
     ]
    },
    {
     "name": "stderr",
     "output_type": "stream",
     "text": [
      " 28%|██▊       | 89/314 [29:57<57:04, 15.22s/it]  "
     ]
    },
    {
     "name": "stdout",
     "output_type": "stream",
     "text": [
      "112: I’m Ken Jeong, creator, writer, and star of ABC’s Dr. Ken. AMA!\n"
     ]
    },
    {
     "name": "stderr",
     "output_type": "stream",
     "text": [
      " 29%|██▊       | 90/314 [30:08<52:00, 13.93s/it]"
     ]
    },
    {
     "name": "stdout",
     "output_type": "stream",
     "text": [
      "113: I’m ultra runner Karl Meltzer. Last week I broke the Appalachian Trail thru-hike record after running 2,190 miles in 45 Days, 22 Hours and 38 minutes. AMA.\n"
     ]
    },
    {
     "name": "stderr",
     "output_type": "stream",
     "text": [
      " 29%|██▉       | 91/314 [30:43<1:15:59, 20.44s/it]"
     ]
    },
    {
     "name": "stdout",
     "output_type": "stream",
     "text": [
      "114: I’m Regina Spektor! Ask me anything!\n"
     ]
    },
    {
     "name": "stderr",
     "output_type": "stream",
     "text": [
      " 29%|██▉       | 92/314 [30:50<1:00:14, 16.28s/it]"
     ]
    },
    {
     "name": "stdout",
     "output_type": "stream",
     "text": [
      "115: I'm Eric. I'm an Andre. Comedy doesn't exist. Ask me anything.\n"
     ]
    },
    {
     "name": "stderr",
     "output_type": "stream",
     "text": [
      " 30%|███       | 95/314 [31:03<30:43,  8.42s/it]  "
     ]
    },
    {
     "name": "stdout",
     "output_type": "stream",
     "text": [
      "116: I found my kidnapped friends in China, and am now finishing a documentary on it - AMA!\n"
     ]
    },
    {
     "name": "stderr",
     "output_type": "stream",
     "text": [
      " 31%|███       | 96/314 [31:18<38:07, 10.49s/it]"
     ]
    },
    {
     "name": "stdout",
     "output_type": "stream",
     "text": [
      "117: We are Obsidian Entertainment, creators of AAA RPGs for over a decade including our upcoming Tyranny! Ask us Anything!\n",
      "118: [AMA Request] Any American who just came out of a coma\n"
     ]
    },
    {
     "name": "stderr",
     "output_type": "stream",
     "text": [
      " 31%|███       | 98/314 [32:01<51:39, 14.35s/it]  "
     ]
    },
    {
     "name": "stdout",
     "output_type": "stream",
     "text": [
      "119: We are Jeremy &amp; Barrett of CinemaSins, MusicVideoSins, &amp; the SinCast podcast. AUA/AMA\n"
     ]
    },
    {
     "name": "stderr",
     "output_type": "stream",
     "text": [
      " 32%|███▏      | 99/314 [32:06<41:08, 11.48s/it]"
     ]
    },
    {
     "name": "stdout",
     "output_type": "stream",
     "text": [
      "120: We are Rhett and Link, creators of Good Mythical Morning and the new YouTube Red Series \"Buddy System.\" ASK US ANYTHING!\n",
      "121: I'm an award-winning sex and relationship expert and resident sexologist for Astroglide who has been featured on Playboy TV. AMA!\n"
     ]
    },
    {
     "name": "stderr",
     "output_type": "stream",
     "text": [
      " 32%|███▏      | 100/314 [32:28<52:17, 14.66s/it]"
     ]
    },
    {
     "name": "stdout",
     "output_type": "stream",
     "text": [
      "122: I train giant rats to detect landmines and tuberculosis. I am Dr. Cindy Fast, Head of Training and Behavioral Research at APOPO, AMA!\n",
      "123: North Korean Defector Who is Sending Information to North Korea\n"
     ]
    },
    {
     "name": "stderr",
     "output_type": "stream",
     "text": [
      " 32%|███▏      | 101/314 [32:57<1:07:22, 18.98s/it]"
     ]
    },
    {
     "name": "stdout",
     "output_type": "stream",
     "text": [
      "124: We are ScrewAttack! Creators of DEATH BATTLE! and internet videos since 2006. Ask us anything!\n"
     ]
    },
    {
     "name": "stderr",
     "output_type": "stream",
     "text": [
      " 32%|███▏      | 102/314 [33:11<1:01:33, 17.42s/it]"
     ]
    },
    {
     "name": "stdout",
     "output_type": "stream",
     "text": [
      "125: We Make Gameplay Videos for a Living, Ask Us Anything!\n",
      "126: I am Gray. 16 years old and fought brain cancer for 10 years. I've had 17 surgeries, 5 chemo regimens, and been on hospice 3 times. Ask me anything!\n"
     ]
    },
    {
     "name": "stderr",
     "output_type": "stream",
     "text": [
      " 33%|███▎      | 104/314 [33:45<56:05, 16.03s/it]  "
     ]
    },
    {
     "name": "stdout",
     "output_type": "stream",
     "text": [
      "127: We’re Achievement Hunter. We play video games on Youtube, we suffer through bad movies, and we host a weekly podcast. Ask Us Anything!\n"
     ]
    },
    {
     "name": "stderr",
     "output_type": "stream",
     "text": [
      " 33%|███▎      | 105/314 [33:55<49:26, 14.19s/it]"
     ]
    },
    {
     "name": "stdout",
     "output_type": "stream",
     "text": [
      "128: I am dr. chuck tingle HUGO NOMINATED AUTHOR of bestsellers Pounded In The Butt By My Own Butt and Space Raptor Butt Invasion please ask me about my way\n"
     ]
    },
    {
     "name": "stderr",
     "output_type": "stream",
     "text": [
      " 34%|███▍      | 106/314 [34:11<51:59, 15.00s/it]"
     ]
    },
    {
     "name": "stdout",
     "output_type": "stream",
     "text": [
      "129: I am Mason Tvert and I am working to legalize marijuana in the United States. I represent the nation’s largest marijuana policy organization. AMA.\n"
     ]
    },
    {
     "name": "stderr",
     "output_type": "stream",
     "text": [
      " 34%|███▍      | 107/314 [34:40<1:05:30, 18.99s/it]"
     ]
    },
    {
     "name": "stdout",
     "output_type": "stream",
     "text": [
      "130: I’m Patrick J. Adams and I play Mike Ross on Suits. Ask me anything.\n",
      "131: Iam Independent Journalist Tim Pool, founding member of VICE News. I was arrested in DC during the riots but released without charge AMA!\n"
     ]
    },
    {
     "name": "stderr",
     "output_type": "stream",
     "text": [
      " 34%|███▍      | 108/314 [35:06<1:12:37, 21.15s/it]"
     ]
    },
    {
     "name": "stdout",
     "output_type": "stream",
     "text": [
      "132: We work for G2A.COM - Global Digital Marketplace &amp; more. Ask us anything!\n",
      "133: I’m Brandon, founder of EDWINS. We’re a fine dining French restaurant in Cleveland staffed entirely by former convicts –AMA!\n"
     ]
    },
    {
     "name": "stderr",
     "output_type": "stream",
     "text": [
      " 35%|███▍      | 109/314 [35:35<1:19:55, 23.39s/it]"
     ]
    },
    {
     "name": "stdout",
     "output_type": "stream",
     "text": [
      "134: IamA 29-year-old married guy who quit his job to make board games for a living. I've now raised $325,000 in two years. Ask me anything!\n"
     ]
    },
    {
     "name": "stderr",
     "output_type": "stream",
     "text": [
      " 35%|███▌      | 110/314 [35:49<1:10:26, 20.72s/it]"
     ]
    },
    {
     "name": "stdout",
     "output_type": "stream",
     "text": [
      "135: [AMA Request] One of the 70 IT personnel at Pacific Gas and Electric being replaced by H1B visa workers.\n"
     ]
    },
    {
     "name": "stderr",
     "output_type": "stream",
     "text": [
      " 35%|███▌      | 111/314 [36:05<1:05:19, 19.31s/it]"
     ]
    },
    {
     "name": "stdout",
     "output_type": "stream",
     "text": [
      "136: We're NASA scientists &amp; exoplanet experts. Ask us anything about today's announcement of seven Earth-size planets orbiting TRAPPIST-1!\n"
     ]
    },
    {
     "name": "stderr",
     "output_type": "stream",
     "text": [
      " 36%|███▌      | 112/314 [36:19<1:00:04, 17.84s/it]"
     ]
    },
    {
     "name": "stdout",
     "output_type": "stream",
     "text": [
      "137: I’m Conan O’Brien, host of CONAN on TBS and renowned microbiologist. Ask me anything!\n"
     ]
    },
    {
     "name": "stderr",
     "output_type": "stream",
     "text": [
      " 36%|███▌      | 113/314 [36:33<55:28, 16.56s/it]  "
     ]
    },
    {
     "name": "stdout",
     "output_type": "stream",
     "text": [
      "138: I’m Margaret Atwood, author of The Handmaid’s Tale, and executive producer of the Hulu original series based on the novel premiering April 26.\n",
      "139: I’m Louis Theroux, here to discuss My Scientology Movie. AMA!\n"
     ]
    },
    {
     "name": "stderr",
     "output_type": "stream",
     "text": [
      " 37%|███▋      | 115/314 [37:03<48:42, 14.68s/it]  "
     ]
    },
    {
     "name": "stdout",
     "output_type": "stream",
     "text": [
      "140: I am in the hospital with my wife of 10 years who has just gotten her gender reassignment surgery. AMA!\n",
      "141: I Am Actor Tom Payne - I play 'Jesus' in THE WALKING DEAD and star in the new movie MINDGAMERS. Ask Me Anything.\n"
     ]
    },
    {
     "name": "stderr",
     "output_type": "stream",
     "text": [
      " 37%|███▋      | 116/314 [37:28<58:14, 17.65s/it]"
     ]
    },
    {
     "name": "stdout",
     "output_type": "stream",
     "text": [
      "142: We are the staff of Giant Bomb, a site about video games, and our decades of video game coverage experience are here to serve you today. Ask Us Anything!\n",
      "143: We’re Jimmy and Eddie Russell, Master Distillers at Wild Turkey. We’ve got a combined 98 years of bourbon-making experience between us. Ask us anything.\n"
     ]
    },
    {
     "name": "stderr",
     "output_type": "stream",
     "text": [
      " 37%|███▋      | 117/314 [37:39<51:13, 15.60s/it]"
     ]
    },
    {
     "name": "stdout",
     "output_type": "stream",
     "text": [
      "144: We are a physicist and a writer who spent two years figuring out what would happen if you dug a hole through earth and jumped into it, stuck your hand in a particle accelerator, base jumped from the space station, and many more equally cheerful scenarios that would most likely kill you. AUA!\n",
      "145: IamA just a computer programmer by day who wrote a sci-fi story in my spare time that somehow made the top 5 overall on amazon and knocked Stephen King from the No.1 spot in the horror genre. It has since been made into a paperback, an audiobook and in talks to be an original TV series. ama\n"
     ]
    },
    {
     "name": "stderr",
     "output_type": "stream",
     "text": [
      " 38%|███▊      | 118/314 [38:10<1:06:34, 20.38s/it]"
     ]
    },
    {
     "name": "stdout",
     "output_type": "stream",
     "text": [
      "146: Hi I'm rapper Lil Dicky and I just released a video for my eleven minute song \"Pillow Talking\" AMA!\n",
      "147: I am some guy who’s saved people £500,000 on airfare in the last 5 months. AMA!\n"
     ]
    },
    {
     "name": "stderr",
     "output_type": "stream",
     "text": [
      " 38%|███▊      | 119/314 [38:37<1:12:43, 22.38s/it]"
     ]
    },
    {
     "name": "stdout",
     "output_type": "stream",
     "text": [
      "148: I am Dr. Michio Kaku: a physicist, co-founder of string theory, and now a space traveler – in the Miniverse. AMA!\n",
      "149: I am Bill Nye and I’m here to dare I say it…. save the world. Ask Me Anything!\n",
      "150: IamA NASA scientist. I invented an ice vest that burns calories just by wearing it, while you sit on your butt. For some reason people find the SECOND part hard to believe. AMA!\n"
     ]
    },
    {
     "name": "stderr",
     "output_type": "stream",
     "text": [
      " 38%|███▊      | 120/314 [38:53<1:05:31, 20.27s/it]"
     ]
    },
    {
     "name": "stdout",
     "output_type": "stream",
     "text": [
      "151: IamA iOS Jailbreak Tweak Developer AMA!\n"
     ]
    },
    {
     "name": "stderr",
     "output_type": "stream",
     "text": [
      " 39%|███▊      | 121/314 [38:58<50:57, 15.84s/it]  "
     ]
    },
    {
     "name": "stdout",
     "output_type": "stream",
     "text": [
      "152: I'm Cheech, ask me anything.\n",
      "153: Today is World Press Freedom Day: We are human rights defenders from around the world, keen to answer anything you want to know about freedom of expression. Ask us anything!\n",
      "154: IamA full face transplant patient that got fucked by The Department of Defense AMA!\n"
     ]
    },
    {
     "name": "stderr",
     "output_type": "stream",
     "text": [
      " 39%|███▉      | 122/314 [39:13<49:32, 15.48s/it]"
     ]
    },
    {
     "name": "stdout",
     "output_type": "stream",
     "text": [
      "155: President Trump has threatened national monuments, resumed Arctic drilling, and approved the Dakota Access pipeline. I’m an environmental lawyer taking him to court. AMA!\n"
     ]
    },
    {
     "name": "stderr",
     "output_type": "stream",
     "text": [
      " 39%|███▉      | 124/314 [39:34<40:23, 12.75s/it]"
     ]
    },
    {
     "name": "stdout",
     "output_type": "stream",
     "text": [
      "156: [AMA request] Those who have created the more popular third party reddit apps. Such as \"reddit is fun\", \"relay\" or \"baconreader\" etc.\n"
     ]
    },
    {
     "name": "stderr",
     "output_type": "stream",
     "text": [
      " 40%|███▉      | 125/314 [39:49<41:59, 13.33s/it]"
     ]
    },
    {
     "name": "stdout",
     "output_type": "stream",
     "text": [
      "157: IamA profoundly deaf male who wears cochlear implants to hear! AMA!\n"
     ]
    },
    {
     "name": "stderr",
     "output_type": "stream",
     "text": [
      " 40%|████      | 126/314 [40:02<41:45, 13.33s/it]"
     ]
    },
    {
     "name": "stdout",
     "output_type": "stream",
     "text": [
      "158: With a PhD in math from Princeton I chose to teach at an elementary school and write a math-inspired children's book. AMA!\n"
     ]
    },
    {
     "name": "stderr",
     "output_type": "stream",
     "text": [
      " 41%|████      | 128/314 [40:24<35:18, 11.39s/it]"
     ]
    },
    {
     "name": "stdout",
     "output_type": "stream",
     "text": [
      "159: I am Brennen Smith, Lead Systems Engineer at Speedtest by Ookla, and I know how to make the internet faster. AMA!\n"
     ]
    },
    {
     "name": "stderr",
     "output_type": "stream",
     "text": [
      " 41%|████      | 129/314 [40:37<36:09, 11.73s/it]"
     ]
    },
    {
     "name": "stdout",
     "output_type": "stream",
     "text": [
      "160: Hello, I'm Lorin :) I make music called Bassnectar - lately i've been working nonstop to remix my record collection into new versions for an experiment called the Freestyle Sessions in Colorado! What's on your mind? An me askything...\n"
     ]
    },
    {
     "name": "stderr",
     "output_type": "stream",
     "text": [
      " 41%|████▏     | 130/314 [40:48<35:24, 11.55s/it]"
     ]
    },
    {
     "name": "stdout",
     "output_type": "stream",
     "text": [
      "161: IAmA survivor of a skydive in which my parachute didn't open. AMA.\n"
     ]
    },
    {
     "name": "stderr",
     "output_type": "stream",
     "text": [
      " 42%|████▏     | 131/314 [41:07<42:14, 13.85s/it]"
     ]
    },
    {
     "name": "stdout",
     "output_type": "stream",
     "text": [
      "162: We are the ACLU. Ask Us Anything about net neutrality!\n",
      "163: Three years ago I was broke and working at McDonalds making minimum wage. I quit my job when my boss called me lazy. Then, I started learning iOS development. Today, I'm 21 years old, working for myself, and making six figures off my apps. AMA.\n"
     ]
    },
    {
     "name": "stderr",
     "output_type": "stream",
     "text": [
      " 42%|████▏     | 133/314 [41:32<37:03, 12.29s/it]"
     ]
    },
    {
     "name": "stdout",
     "output_type": "stream",
     "text": [
      "164: Hi, I'm Adam Conover, the creator and host of Adam Ruins Everything, an informational comedy show on truTV. Ask Me Anything!\n",
      "165: I am Tom Turcich, 687 days, 16 countries and 9600 miles into my dream of walking around the world. AMA!\n"
     ]
    },
    {
     "name": "stderr",
     "output_type": "stream",
     "text": [
      " 43%|████▎     | 134/314 [41:46<38:24, 12.80s/it]"
     ]
    },
    {
     "name": "stdout",
     "output_type": "stream",
     "text": [
      "166: I am Brian Baumgartner, Actor, Golf Enthusiast and Chili Expert. Ask me Anything!\n"
     ]
    },
    {
     "name": "stderr",
     "output_type": "stream",
     "text": [
      " 43%|████▎     | 135/314 [41:52<32:24, 10.86s/it]"
     ]
    },
    {
     "name": "stdout",
     "output_type": "stream",
     "text": [
      "167: Hey Reddit, I'm Jessica Biel. Let's AMA!\n",
      "168: IamA former Greyhound Bus Driver. I've broken down in places with no reception, gotten lost, had to avoid tornados, driven blind thru blizzards, and found out the black dog is real, AMA!\n"
     ]
    },
    {
     "name": "stderr",
     "output_type": "stream",
     "text": [
      " 43%|████▎     | 136/314 [42:12<39:51, 13.43s/it]"
     ]
    },
    {
     "name": "stdout",
     "output_type": "stream",
     "text": [
      "169: It’s Time for Round 2: Leah Remini and Mike Rinder here, Ask Us Anything about Scientology\n"
     ]
    },
    {
     "name": "stderr",
     "output_type": "stream",
     "text": [
      " 44%|████▎     | 137/314 [42:30<43:39, 14.80s/it]"
     ]
    },
    {
     "name": "stdout",
     "output_type": "stream",
     "text": [
      "170: I am James \"Attrition\" Lunning, and I am a swordfighting vagrant who has spent the last 30 months hiking over 15,000 miles around the US.\n"
     ]
    },
    {
     "name": "stderr",
     "output_type": "stream",
     "text": [
      " 44%|████▍     | 138/314 [42:44<42:43, 14.56s/it]"
     ]
    },
    {
     "name": "stdout",
     "output_type": "stream",
     "text": [
      "171: [AMA Request] The \"Real people, Not actors\" from the Chevy commercials\n"
     ]
    },
    {
     "name": "stderr",
     "output_type": "stream",
     "text": [
      " 44%|████▍     | 139/314 [42:58<42:09, 14.45s/it]"
     ]
    },
    {
     "name": "stdout",
     "output_type": "stream",
     "text": [
      "172: [AMA Request] Someone who was in a coma before Trump announced his candidacy and woke up after Election Day\n",
      "173: DACA was just rescinded. I am a 34 year old illegal alien DACA beneficiary who will soon be deportable. Ask me ANYTHING.\n"
     ]
    },
    {
     "name": "stderr",
     "output_type": "stream",
     "text": [
      " 45%|████▍     | 140/314 [43:27<55:09, 19.02s/it]"
     ]
    },
    {
     "name": "stdout",
     "output_type": "stream",
     "text": [
      "174: I am Dr. Jane Goodall, a scientist, conservationist, peacemaker, and mentor. AMA.\n"
     ]
    },
    {
     "name": "stderr",
     "output_type": "stream",
     "text": [
      " 45%|████▍     | 141/314 [43:40<49:31, 17.17s/it]"
     ]
    },
    {
     "name": "stdout",
     "output_type": "stream",
     "text": [
      "175: I’m Nathan Runkle, founder of Mercy For Animals. We go undercover inside slaughterhouses and factory farms, fight “ag-gag” laws, and work to advance “clean meat” (meat grown in cell culture). AMA!\n",
      "176: I’m Dylan Moran, Stand-up comedian, you may know me from Black Books or some movie that you’ve seen at 4 in the morning....\n"
     ]
    },
    {
     "name": "stderr",
     "output_type": "stream",
     "text": [
      " 45%|████▌     | 142/314 [44:09<59:12, 20.65s/it]"
     ]
    },
    {
     "name": "stdout",
     "output_type": "stream",
     "text": [
      "177: Sup muthafuckas! Ron Perlman here. Don’t be shy- Ask Me Anything!\n"
     ]
    },
    {
     "name": "stderr",
     "output_type": "stream",
     "text": [
      " 46%|████▌     | 144/314 [44:26<39:18, 13.87s/it]"
     ]
    },
    {
     "name": "stdout",
     "output_type": "stream",
     "text": [
      "178: I just got out of prison a year ago after doing 11 1/2 years for attempted murder. I was 17 years old when I was arrested (Senior in HS) and now I’m 30. AMA!\n",
      "179: I’m Jocko Willink, retired Navy SEAL Officer, author, and host of JOCKO PODCAST and I'm here for you to Ask Me Anything.\n"
     ]
    },
    {
     "name": "stderr",
     "output_type": "stream",
     "text": [
      " 46%|████▌     | 145/314 [44:52<49:07, 17.44s/it]"
     ]
    },
    {
     "name": "stdout",
     "output_type": "stream",
     "text": [
      "180: We are the Microsoft Excel team - Ask Us Anything!\n",
      "181: I'm Tory Belleci, model maker, sculptor, painter, filmmaker and former co-host of MythBusters and White Rabbit Project. AMA!\n"
     ]
    },
    {
     "name": "stderr",
     "output_type": "stream",
     "text": [
      " 46%|████▋     | 146/314 [45:25<1:02:11, 22.21s/it]"
     ]
    },
    {
     "name": "stdout",
     "output_type": "stream",
     "text": [
      "182: My name is Kevin Rudd and IamA former Australian Prime Minister. AMA!\n"
     ]
    },
    {
     "name": "stderr",
     "output_type": "stream",
     "text": [
      " 47%|████▋     | 147/314 [45:39<55:08, 19.81s/it]  "
     ]
    },
    {
     "name": "stdout",
     "output_type": "stream",
     "text": [
      "183: I’m Warwick Davis. Ewok, Hogwarts Professor, Leprechaun, Tenable quiz show host…AMA!\n",
      "184: I filmed the most extreme \"full contact\" haunted house in the world for over 3 years &amp; made a documentary about the rise of terror as entertainment called \"HAUNTERS: The Art Of The Scare\" - AMA!\n"
     ]
    },
    {
     "name": "stderr",
     "output_type": "stream",
     "text": [
      " 47%|████▋     | 148/314 [46:08<1:01:54, 22.38s/it]"
     ]
    },
    {
     "name": "stdout",
     "output_type": "stream",
     "text": [
      "185: I’m Bill Nye and I’m on a quest to end anti-scientific thinking. AMA\n",
      "186: Message from the Moderators: The Future of IAMA\n",
      "187: I'm the Florida reporter that investigated stolen guns and where they end up. AMA\n"
     ]
    },
    {
     "name": "stderr",
     "output_type": "stream",
     "text": [
      " 48%|████▊     | 150/314 [46:52<55:39, 20.36s/it]  "
     ]
    },
    {
     "name": "stdout",
     "output_type": "stream",
     "text": [
      "188: IamA Guy Who Setup a Low-Latency Rural Wireless ISP That Launches in January, AMA!\n",
      "189: Protect Net Neutrality. Save the Internet.\n"
     ]
    },
    {
     "name": "stderr",
     "output_type": "stream",
     "text": [
      " 48%|████▊     | 151/314 [47:20<1:01:32, 22.65s/it]"
     ]
    },
    {
     "name": "stdout",
     "output_type": "stream",
     "text": [
      "190: IamA Puerto Rican still living without power for 70 days AMA!\n",
      "191: I'm Andy Slavitt. I ran the ACA and I want to help you get health coverage at HealthCare.gov. AMA.\n",
      "192: Hi, I’m Colin Furze. I am a British plumber turned Garage Inventor/Video Maker with over 5.5 million video views. I hold over six Guinness World Records for the largest bonfire, the longest motorcycle, the fastest speed on a mobility scooter, the fastest pram and the fastest toilet. AMA!\n"
     ]
    },
    {
     "name": "stderr",
     "output_type": "stream",
     "text": [
      " 48%|████▊     | 152/314 [48:03<1:17:39, 28.76s/it]"
     ]
    },
    {
     "name": "stdout",
     "output_type": "stream",
     "text": [
      "193: IamA VIP Host at a Las Vegas Strip Club AMA!\n",
      "194: I'm Grant Imahara, robot builder, engineer, model maker and former co-host of MythBusters!\n"
     ]
    },
    {
     "name": "stderr",
     "output_type": "stream",
     "text": [
      " 49%|████▊     | 153/314 [48:14<1:03:15, 23.57s/it]"
     ]
    },
    {
     "name": "stdout",
     "output_type": "stream",
     "text": [
      "195: I am Figure Skater, Mirai Nagasu. I won the US national title at 14 years old and am closing out the Winter Olympics Athlete AMA Series today, so Ask Me Anything as I get ready to go for the Gold for TEAM USA!\n"
     ]
    },
    {
     "name": "stderr",
     "output_type": "stream",
     "text": [
      " 49%|████▉     | 154/314 [48:21<49:09, 18.43s/it]  "
     ]
    },
    {
     "name": "stdout",
     "output_type": "stream",
     "text": [
      "196: Congress is trying to sneak an expansion of mass surveillance into law this afternoon. We’re ACLU experts and Edward Snowden, and we’re here to help. Ask us anything.\n",
      "197: We are Austrian Audio GmbH; a team of many of the core people from the now defunct AKG in Vienna, Austria. Ask us about engineering, our past, building a business or (nearly) anything at all!\n"
     ]
    },
    {
     "name": "stderr",
     "output_type": "stream",
     "text": [
      " 49%|████▉     | 155/314 [48:41<50:07, 18.92s/it]"
     ]
    },
    {
     "name": "stdout",
     "output_type": "stream",
     "text": [
      "198: Almost 10 years ago I walked away from a plane crash AMA\n"
     ]
    },
    {
     "name": "stderr",
     "output_type": "stream",
     "text": [
      " 50%|████▉     | 156/314 [48:49<41:33, 15.78s/it]"
     ]
    },
    {
     "name": "stdout",
     "output_type": "stream",
     "text": [
      "199: IamA Head Distiller who makes whiskey, bourbon and other spirits all day! AMA!\n",
      "200: I investigate oil companies that manipulate gasoline and oil prices. I track oil tankers at sea, deal with whistle blowers, research Standard Oil, and have gone undercover at industry conferences. AMA!\n",
      "201: [AMA Request] Somebody who's won Publisher's Clearing House's $5,000 a week for life.\n"
     ]
    },
    {
     "name": "stderr",
     "output_type": "stream",
     "text": [
      " 50%|█████     | 157/314 [49:38<1:07:08, 25.66s/it]"
     ]
    },
    {
     "name": "stdout",
     "output_type": "stream",
     "text": [
      "202: [AMA Request] Deyshia Hargrave, Louisiana teacher who was arrested for asking why superintendent received a raise\n",
      "203: [AMA Request] Somebody who lived in Rhodesia during it's brief existence\n"
     ]
    },
    {
     "name": "stderr",
     "output_type": "stream",
     "text": [
      " 50%|█████     | 158/314 [49:49<55:10, 21.22s/it]  "
     ]
    },
    {
     "name": "stdout",
     "output_type": "stream",
     "text": [
      "204: [REQUEST] Blind Person Who Has Taken a Psychedelic\n",
      "205: I left school to cook with Cannabis &amp; have created a successful business. Grateful to be featured on major news networks &amp; cooked with some celebrities. Currently working on my 1st Restaurant...AMA!\n",
      "206: I’m Paul Thomas Anderson, writer and director of PHANTOM THREAD, AMA!\n",
      "207: IAmA Boy from Venezuela, the country of the news in the world.... I´m just a youth (Probably no too young for some people haha) trying to survive in this country.. I will explain what are happening in Venezuela... AMA!\n"
     ]
    },
    {
     "name": "stderr",
     "output_type": "stream",
     "text": [
      " 51%|█████     | 159/314 [50:17<1:00:36, 23.46s/it]"
     ]
    },
    {
     "name": "stdout",
     "output_type": "stream",
     "text": [
      "208: Sean Schemmel and Christopher Sabat here, the voices of Goku and Vegeta from Dragon Ball Super. Ask us anything!\n"
     ]
    },
    {
     "name": "stderr",
     "output_type": "stream",
     "text": [
      " 51%|█████     | 160/314 [50:25<48:10, 18.77s/it]  "
     ]
    },
    {
     "name": "stdout",
     "output_type": "stream",
     "text": [
      "209: I'm a scientist who studies sleep, attention and consciousness in animals. Ask Me Anything!\n",
      "210: I used to faint every day until I got one of the world's first cardiac alert service dogs - ask me anything!\n"
     ]
    },
    {
     "name": "stderr",
     "output_type": "stream",
     "text": [
      " 51%|█████▏    | 161/314 [50:40<45:04, 17.68s/it]"
     ]
    },
    {
     "name": "stdout",
     "output_type": "stream",
     "text": [
      "211: This is Glenn Howerton and Patton Oswalt from NBC's AP Bio. Ask Us Anything!\n",
      "212: 2 years ago, I built a wild scavenger hunt date for my reddit Secret Santa Giftee and created a business! Now I travel around the country building intricate scavenger hunts for clients! I’m the Architect! AMA!\n"
     ]
    },
    {
     "name": "stderr",
     "output_type": "stream",
     "text": [
      " 52%|█████▏    | 163/314 [51:02<36:08, 14.36s/it]"
     ]
    },
    {
     "name": "stdout",
     "output_type": "stream",
     "text": [
      "213: I am Michio Kaku, physicist, futurist and author of **The Future of Humanity**. AMA!\n",
      "214: IamA Former Jehovah's Witness, author of a JW memoir currently being sued by the cult &amp; just made a short 8bit walking simulator about being a teenage Jehovah's Witness. AMA!\n",
      "215: [AMA Request] \"That's my fucking tit, bitch\" Cashier\n"
     ]
    },
    {
     "name": "stderr",
     "output_type": "stream",
     "text": [
      " 52%|█████▏    | 164/314 [51:26<42:41, 17.08s/it]"
     ]
    },
    {
     "name": "stdout",
     "output_type": "stream",
     "text": [
      "216: In L.A., a $35 ticket for sleeping on the sidewalk can turn into $238 in total charges. We are L.A. Times reporters who spent a year investigating police enforcement against homeless people – ask us anything.\n",
      "217: I'm an ex white supremacist and klansman. AMA\n",
      "218: We're Jordon Dyrdahl-Roberts and Isaac Saul. Jordon quit his job when he was asked to process data that would be used to locate and detain undocumented immigrants. Isaac Saul is reporter at A Plus. We're here to answer your questions about immigration and undocumented immigrants in the U.S. AMA!\n"
     ]
    },
    {
     "name": "stderr",
     "output_type": "stream",
     "text": [
      " 53%|█████▎    | 166/314 [51:46<31:37, 12.82s/it]"
     ]
    },
    {
     "name": "stdout",
     "output_type": "stream",
     "text": [
      "219: We are Haemimont Games, Developers of Tropico and Surviving Mars. Ask us Anything!\n",
      "220: I wrote a book about how Hulk Hogan sued Gawker, won $140M, and bankrupted a media empire...funded by billionaire Peter Thiel to get revenge (or justice). AMA\n",
      "221: I Left the Amish 13 Years ago. I Self Published my Memoir and I am in the Last Year of Nursing School. AMA!\n"
     ]
    },
    {
     "name": "stderr",
     "output_type": "stream",
     "text": [
      " 53%|█████▎    | 167/314 [52:05<36:16, 14.81s/it]"
     ]
    },
    {
     "name": "stdout",
     "output_type": "stream",
     "text": [
      "222: Just finished fighting aggressive stage three breastcancer. AMA!\n"
     ]
    },
    {
     "name": "stderr",
     "output_type": "stream",
     "text": [
      " 54%|█████▍    | 170/314 [52:33<26:59, 11.24s/it]"
     ]
    },
    {
     "name": "stdout",
     "output_type": "stream",
     "text": [
      "223: Hi Reddit! I’m Staff Sgt. Cathrine \"Katie\" Schmid, one of the thousands of transgender people currently serving in the U.S. military. I'm also a plaintiff in Karnoski v. Trump, the case against the #TransMilitaryBan. Ask Me Anything!\n"
     ]
    },
    {
     "name": "stderr",
     "output_type": "stream",
     "text": [
      " 54%|█████▍    | 171/314 [52:54<33:58, 14.25s/it]"
     ]
    },
    {
     "name": "stdout",
     "output_type": "stream",
     "text": [
      "224: I am receiving Universal Basic Income payments as part of a pilot project being tested in Ontario, Canada. AMA!\n"
     ]
    },
    {
     "name": "stderr",
     "output_type": "stream",
     "text": [
      " 55%|█████▌    | 173/314 [53:13<26:32, 11.29s/it]"
     ]
    },
    {
     "name": "stdout",
     "output_type": "stream",
     "text": [
      "225: I am a Carnivore biologist. I have studied black bear ecology across the state of Florida. AMA!\n"
     ]
    },
    {
     "name": "stderr",
     "output_type": "stream",
     "text": [
      " 55%|█████▌    | 174/314 [53:26<27:52, 11.95s/it]"
     ]
    },
    {
     "name": "stdout",
     "output_type": "stream",
     "text": [
      "226: I’m a 23 year old woman living with Addison’s Disease, Lupus, Psoriasis and Psoriatic Arthritis. Basically a walking autoimmune disease. Ask me anything!\n",
      "227: I'm AellaGirl, a top-earning camgirl and nude mime for five years. You may remember me from Gonewild's Gnome photoset. AMA!\n"
     ]
    },
    {
     "name": "stderr",
     "output_type": "stream",
     "text": [
      " 56%|█████▌    | 175/314 [53:54<38:49, 16.76s/it]"
     ]
    },
    {
     "name": "stdout",
     "output_type": "stream",
     "text": [
      "228: We Are U.S. West Coast Volcano Experts. Ask us Anything!\n",
      "229: I am a National Guardsman helping with the eruption in Hawai'i. Ask me anything!\n"
     ]
    },
    {
     "name": "stderr",
     "output_type": "stream",
     "text": [
      " 56%|█████▌    | 176/314 [54:23<47:02, 20.45s/it]"
     ]
    },
    {
     "name": "stdout",
     "output_type": "stream",
     "text": [
      "230: I am Macaulay Culkin. This is the 2nd most important thing I've ever done in my life. AMA\n",
      "231: We are TWRP, rockstars from the future, collaborators with Game Grumps, NSP, Starbomb and Chris Hadfield. We just released a new album, AUA!\n"
     ]
    },
    {
     "name": "stderr",
     "output_type": "stream",
     "text": [
      " 56%|█████▋    | 177/314 [54:51<51:48, 22.69s/it]"
     ]
    },
    {
     "name": "stdout",
     "output_type": "stream",
     "text": [
      "232: IamA Starbucks Employee who underwent racial sensitivity training today AMA!\n",
      "233: I’m Christian Ramirez, running for San Diego city council. Our city’s spent nearly $3 million on Trump’s border wall prototype. I want to use those funds to solve SD’s environmental health crisis. AMA!\n"
     ]
    },
    {
     "name": "stderr",
     "output_type": "stream",
     "text": [
      " 57%|█████▋    | 178/314 [55:19<55:04, 24.30s/it]"
     ]
    },
    {
     "name": "stdout",
     "output_type": "stream",
     "text": [
      "234: Hi all, I am a man who ate a portion of his own amputated leg. Ask me anything\n",
      "235: IamA Video and Audio Forensic Expert who has consulted on cases like Trayvon Martin, Malaysia Airlines Flight 307, and the JFK Tapes AMA!\n"
     ]
    },
    {
     "name": "stderr",
     "output_type": "stream",
     "text": [
      " 57%|█████▋    | 179/314 [55:47<56:48, 25.25s/it]"
     ]
    },
    {
     "name": "stdout",
     "output_type": "stream",
     "text": [
      "236: We are ClickHole. Ask Us Anything.\n",
      "237: My name is Chas Allen, when I was 19 I was involved in the Transylvania Book Heist which was famously listed among the F.B.I.’s all-time most significant art theft cases and landed me in prison for 7 years. AMA!\n"
     ]
    },
    {
     "name": "stderr",
     "output_type": "stream",
     "text": [
      " 57%|█████▋    | 180/314 [56:14<58:00, 25.97s/it]"
     ]
    },
    {
     "name": "stdout",
     "output_type": "stream",
     "text": [
      "238: We're 5 actors from cult film, THE ROOM, ask us anything!\n",
      "239: I am Ken Jennings. I was on Jeopardy! for six months a very long time ago. My new book about comedy is called PLANET FUNNY. AMA!\n",
      "240: Hello Brains! We're How to ADHD, a YouTube channel that helps ADHD brains (and the hearts who love them!) better understand ADHD! Ask us anything!\n"
     ]
    },
    {
     "name": "stderr",
     "output_type": "stream",
     "text": [
      " 58%|█████▊    | 181/314 [56:57<1:08:51, 31.07s/it]"
     ]
    },
    {
     "name": "stdout",
     "output_type": "stream",
     "text": [
      "241: Beach House- Ask us Anything\n",
      "242: I am Jesus and iam one of the few citizens of Cuba with internet access.\n",
      "243: IamA former lobbyist who started a crowdfunding platform that lets everyday people hire lobbyists... AMA!\n"
     ]
    },
    {
     "name": "stderr",
     "output_type": "stream",
     "text": [
      " 58%|█████▊    | 182/314 [57:34<1:12:20, 32.89s/it]"
     ]
    },
    {
     "name": "stdout",
     "output_type": "stream",
     "text": [
      "244: I’m a guy who just finished working on the Fourth of July at one of those pop-up fireworks stores. AMA!\n"
     ]
    },
    {
     "name": "stderr",
     "output_type": "stream",
     "text": [
      " 58%|█████▊    | 183/314 [57:42<55:03, 25.22s/it]  "
     ]
    },
    {
     "name": "stdout",
     "output_type": "stream",
     "text": [
      "245: I run a Renaissance Festival...AMA\n",
      "246: I am Justin Lehmiller, a Research Fellow at The Kinsey Institute who conducted the largest survey of sexual fantasies in America and just wrote a book about it. AMA!\n"
     ]
    },
    {
     "name": "stderr",
     "output_type": "stream",
     "text": [
      " 59%|█████▊    | 184/314 [57:52<44:58, 20.76s/it]"
     ]
    },
    {
     "name": "stdout",
     "output_type": "stream",
     "text": [
      "247: I’m Michael Finkel and I wrote Nat Geo’s cover story about the science of sleep (and how most of us are not getting enough of it) AMA!\n"
     ]
    },
    {
     "name": "stderr",
     "output_type": "stream",
     "text": [
      " 59%|█████▉    | 186/314 [58:20<37:31, 17.59s/it]"
     ]
    },
    {
     "name": "stdout",
     "output_type": "stream",
     "text": [
      "248: We're Former Members of Congress, ask us anything!\n",
      "249: I am DJ Shadow (DJ, producer, podcaster)… Ask Me Anything!\n"
     ]
    },
    {
     "name": "stderr",
     "output_type": "stream",
     "text": [
      " 60%|█████▉    | 187/314 [58:37<36:53, 17.43s/it]"
     ]
    },
    {
     "name": "stdout",
     "output_type": "stream",
     "text": [
      "250: IamA garbage man in Norway, AMA!\n"
     ]
    },
    {
     "name": "stderr",
     "output_type": "stream",
     "text": [
      " 60%|█████▉    | 188/314 [58:45<31:04, 14.80s/it]"
     ]
    },
    {
     "name": "stdout",
     "output_type": "stream",
     "text": [
      "251: I am Lee Auman, 25 yr old Democrat running for U.S. Congress in Alabama. AMA!\n"
     ]
    },
    {
     "name": "stderr",
     "output_type": "stream",
     "text": [
      " 60%|██████    | 189/314 [58:53<26:31, 12.73s/it]"
     ]
    },
    {
     "name": "stdout",
     "output_type": "stream",
     "text": [
      "252: I am a Female Porn Director, Producer &amp; Writer in both VR &amp; 2D, with my most recent credit being the 2018 Pornhub Games. AMA!\n",
      "253: Iama prostitute reviewer in Amsterdam. AMA!\n",
      "254: A bunch of people told me to do an AMA since I'm deaf and I just got bilateral Cochlear Implants. So go ahead!\n",
      "255: IamA cold water survival expert. Ask me anything!\n",
      "256: I'm a reporter who has been covering the grand jury investigation into clergy sex abuse in Pennsylvania. AMA!\n"
     ]
    },
    {
     "name": "stderr",
     "output_type": "stream",
     "text": [
      " 61%|██████    | 190/314 [59:23<36:51, 17.84s/it]"
     ]
    },
    {
     "name": "stdout",
     "output_type": "stream",
     "text": [
      "257: HELLO! I am Michael Mando, Nacho from Better Call Saul. AMA!\n",
      "258: IamA Harvard-trained Addiction Psychiatrist with a focus on video game addiction, here to answer questions about gaming &amp; mental health. AMA!\n",
      "259: I am Brendan Weinstein, 27 yr old wingsuit pilot that loves flying long terrain lines in the mountains. My most recent project was flying on my back a little bit above the ground as I mirror'd my friend Greg's body movements above me for navigation. AMA!\n"
     ]
    },
    {
     "name": "stderr",
     "output_type": "stream",
     "text": [
      " 61%|██████    | 191/314 [59:59<48:00, 23.42s/it]"
     ]
    },
    {
     "name": "stdout",
     "output_type": "stream",
     "text": [
      "260: I grew up in a polygamous cult in Utah. I escaped at age 17 to avoid an arranged marriage to my 1st cousin. AMA\n",
      "261: IAmA Police Officer in Northern England\n"
     ]
    },
    {
     "name": "stderr",
     "output_type": "stream",
     "text": [
      " 61%|██████    | 192/314 [1:00:10<39:47, 19.57s/it]"
     ]
    },
    {
     "name": "stdout",
     "output_type": "stream",
     "text": [
      "262: Today is world suicide prevention day. I am a suicidologist and psychiatrist from BC Children's Hospital in Vancouver, Canada. Ask me anything about suicidology or suicide prevention!\n"
     ]
    },
    {
     "name": "stderr",
     "output_type": "stream",
     "text": [
      " 61%|██████▏   | 193/314 [1:00:20<33:26, 16.58s/it]"
     ]
    },
    {
     "name": "stdout",
     "output_type": "stream",
     "text": [
      "263: I'm a Catholic Bishop and Philosopher Who Loves Dialoguing with Atheists and Agnostics Online. AMA!\n"
     ]
    },
    {
     "name": "stderr",
     "output_type": "stream",
     "text": [
      " 62%|██████▏   | 194/314 [1:00:27<27:41, 13.85s/it]"
     ]
    },
    {
     "name": "stdout",
     "output_type": "stream",
     "text": [
      "264: I am Dr. Andy Yen, a particle physicist who left CERN after the Snowden leaks to start ProtonMail, the world’s largest encrypted email service. AMA\n",
      "265: Today is National Voter Registration Day. I am an expert in the weird world of voter registration in the United States. AMA about your state laws, the weirdest voter registration quirks, or about your rights at the polls.\n",
      "266: I am Alexandria Brown, a dominatrix who recently published a book on my relationship to Charlottesville organizer and former neo-Nazi candidate for U.S. Senator—Augustus Sol Invictus. AMA.\n"
     ]
    },
    {
     "name": "stderr",
     "output_type": "stream",
     "text": [
      " 62%|██████▏   | 195/314 [1:00:58<37:19, 18.82s/it]"
     ]
    },
    {
     "name": "stdout",
     "output_type": "stream",
     "text": [
      "267: I am Dmitry Sudakov, editor of Russia’s leading newspaper Pravda\n"
     ]
    },
    {
     "name": "stderr",
     "output_type": "stream",
     "text": [
      " 62%|██████▏   | 196/314 [1:01:04<29:37, 15.06s/it]"
     ]
    },
    {
     "name": "stdout",
     "output_type": "stream",
     "text": [
      "268: I am Jodie Whittaker. I play The Doctor on Doctor Who. AMA.\n"
     ]
    },
    {
     "name": "stderr",
     "output_type": "stream",
     "text": [
      " 63%|██████▎   | 197/314 [1:01:16<27:32, 14.13s/it]"
     ]
    },
    {
     "name": "stdout",
     "output_type": "stream",
     "text": [
      "269: What is an anti-war conservative? I am the Editor of The American Conservative magazine, Kelley Vlahos, Ask Me Anything!\n",
      "270: We are Jon Favreau, Jon Lovett, and Tommy Vietor - hosts of the new HBO Midterm Specials: Pod Save America. Ask Us Anything!\n",
      "271: We are Jake and Amir and we are coming out of Web Series retirement with a new Patreon Channel! Ask Us Anything.\n"
     ]
    },
    {
     "name": "stderr",
     "output_type": "stream",
     "text": [
      " 63%|██████▎   | 198/314 [1:01:32<28:28, 14.73s/it]"
     ]
    },
    {
     "name": "stdout",
     "output_type": "stream",
     "text": [
      "272: I'm Rowan Atkinson, star of JOHNNY ENGLISH STRIKES AGAIN, AMA!\n",
      "273: We are Colossal Order, the Finnish developers of Cities: Skylines! A game now on it's 3rd year of existence which just got it's 7th Expansion, Industries! Ask us Anything!\n",
      "274: I am ABC 7 investigative reporter Lisa Fletcher. I broke the story about a euthanasia drug being found in some pet food. AMA!\n",
      "275: Hi Reddit, IamA snake rescuer in Cape Town, South Africa - I relocate wild snakes found in people’s homes and businesses back to nature. Ask Me Anything about snakes, snakebite, and snake safety.\n"
     ]
    },
    {
     "name": "stderr",
     "output_type": "stream",
     "text": [
      " 63%|██████▎   | 199/314 [1:01:50<30:24, 15.87s/it]"
     ]
    },
    {
     "name": "stdout",
     "output_type": "stream",
     "text": [
      "276: We're the editorial board of The Eagle Eye, Marjory Stoneman Douglas’ award-winning school newspaper in Parkland. We’re here to take your questions on activism, journalism and gun culture in America.\n",
      "277: I'm Alexey Kovalev, an investigative reporter from Russia. I'm here to answer your questions about being a journalist in Russia, election meddling, troll farms, and other fun stuff.\n"
     ]
    },
    {
     "name": "stderr",
     "output_type": "stream",
     "text": [
      " 64%|██████▎   | 200/314 [1:02:04<28:50, 15.18s/it]"
     ]
    },
    {
     "name": "stdout",
     "output_type": "stream",
     "text": [
      "278: I made a free alternative to Photoshop, that is used by 1.5 millions of people. Ask me Anything!\n",
      "279: We are the Microsoft Excel team - Ask Us Anything!\n"
     ]
    },
    {
     "name": "stderr",
     "output_type": "stream",
     "text": [
      " 64%|██████▍   | 202/314 [1:02:30<24:42, 13.24s/it]"
     ]
    },
    {
     "name": "stdout",
     "output_type": "stream",
     "text": [
      "280: I am an employment attorney here to tell you how to respond to sexual harassment in the workplace in the \"#MeToo\" era. Ask Me Anything!\n",
      "281: IAmA Broward County Government employee who worked as a Voter Systems Technician on the November 2018 Midterm Election, worked as an alternate for the Broward County Canvassing Board, and worked as a volunteer to recount the ballots today for the Agriculture Commissioner.\n"
     ]
    },
    {
     "name": "stderr",
     "output_type": "stream",
     "text": [
      " 65%|██████▍   | 203/314 [1:02:54<30:11, 16.32s/it]"
     ]
    },
    {
     "name": "stdout",
     "output_type": "stream",
     "text": [
      "282: I am Tim Meadows, taking on all challengers!\n",
      "283: My daughter died from Zellweger Syndrome. My wife and I are here to answer your questions about our experience and our non-profit Lily's List. AMA!\n"
     ]
    },
    {
     "name": "stderr",
     "output_type": "stream",
     "text": [
      " 65%|██████▍   | 204/314 [1:03:20<35:33, 19.40s/it]"
     ]
    },
    {
     "name": "stdout",
     "output_type": "stream",
     "text": [
      "284: I'm Jonna Mendez, the former Chief of Disguise for the CIA. Ask Me Anything.\n",
      "285: IamA A Heart Attack Survivor just released from the hospital, AMA!!\n"
     ]
    },
    {
     "name": "stderr",
     "output_type": "stream",
     "text": [
      " 65%|██████▌   | 205/314 [1:03:48<39:59, 22.01s/it]"
     ]
    },
    {
     "name": "stdout",
     "output_type": "stream",
     "text": [
      "286: I'm Dr Helen Webberley, gender specialist. I have been in the UK media a lot over my work with trans patients and I'm here to separate fact from fiction - AMA!\n",
      "287: IAmA --- Identity Theft expert --- I want to help clear up the BS in typical ID Theft prevention so AMA\n"
     ]
    },
    {
     "name": "stderr",
     "output_type": "stream",
     "text": [
      " 66%|██████▌   | 206/314 [1:04:15<42:26, 23.58s/it]"
     ]
    },
    {
     "name": "stdout",
     "output_type": "stream",
     "text": [
      "288: I’m David Fahrenthold, The Washington Post reporter investigating the Trump Foundation for the past few years. The Foundation is now shutting down. AMA!\n",
      "289: I’m Jennifer Valentino-DeVries, a tech reporter on the NY Times investigations team that uncovered how companies track and sell location data from smartphones. Ask me anything.\n",
      "290: I'm the Monopoly Man that trolled Google - AMA!\n",
      "291: Today Tumblr officially banned porn. I made Sharesome.com, a place where everyone is free to share hot stuff. Ask me anything!\n"
     ]
    },
    {
     "name": "stderr",
     "output_type": "stream",
     "text": [
      " 66%|██████▌   | 208/314 [1:05:26<48:52, 27.67s/it]"
     ]
    },
    {
     "name": "stdout",
     "output_type": "stream",
     "text": [
      "292: My parents denied me vaccinations as a child. Today, I was finally able to take my health into my own hands. Ask me anything!\n",
      "293: I created Juliet, an AI that could help you find love. AMA\n",
      "294: I'm Max Karson, I was (quite publicly) arrested in college for comments about the Virginia Tech shooting\n",
      "295: IAMA Casualty Claims Adjuster and I investigate liability and settle bodily injury claims for one of the biggest insurance companies in the US-- AMA\n"
     ]
    },
    {
     "name": "stderr",
     "output_type": "stream",
     "text": [
      " 67%|██████▋   | 209/314 [1:06:19<1:02:06, 35.49s/it]"
     ]
    },
    {
     "name": "stdout",
     "output_type": "stream",
     "text": [
      "296: IamA Former Prime Minister of Australia Kevin Rudd AMA!\n",
      "297: IAmA Reddit's Own Vacuum Repair Tech and I've lost my job. Thanks for a great time, but this is my last AMA.\n"
     ]
    },
    {
     "name": "stderr",
     "output_type": "stream",
     "text": [
      " 67%|██████▋   | 210/314 [1:06:47<57:22, 33.10s/it]  "
     ]
    },
    {
     "name": "stdout",
     "output_type": "stream",
     "text": [
      "298: IamA Nate Robinson, 3x NBA Slam Dunk Champion AMA!\n",
      "299: I'm the man that biked over 19,000 miles while vaping weed to disprove the lazy stoner myth. Ask me anything.\n"
     ]
    },
    {
     "name": "stderr",
     "output_type": "stream",
     "text": [
      " 67%|██████▋   | 211/314 [1:07:14<53:51, 31.38s/it]"
     ]
    },
    {
     "name": "stdout",
     "output_type": "stream",
     "text": [
      "300: I am an English as a Second Language Teacher &amp; Author of 'English is Stupid' &amp; 'Backpacker's Guide to Teaching English'\n",
      "301: I'm Sarah Kliff, Senior Policy Correspondent at Vox. I spent the last year reading 1,182 emergency bills to expose the nightmare that is hospital billing in the US. AMA!\n"
     ]
    },
    {
     "name": "stderr",
     "output_type": "stream",
     "text": [
      " 68%|██████▊   | 213/314 [1:07:38<34:49, 20.69s/it]"
     ]
    },
    {
     "name": "stdout",
     "output_type": "stream",
     "text": [
      "302: Me COOKIE MONSTER. Me want you to come visit me on Sesame Street! Me will bring da COOKIES! AMA.\n",
      "303: I'm surviving Stage IV Pancreatic cancer (acinar cell) and just got another CT scan showing now evidence of disease! AmA!\n",
      "304: I am the Heckler who called Howard Schultz an \"Egotistical Billionaire Asshole\"\n"
     ]
    },
    {
     "name": "stderr",
     "output_type": "stream",
     "text": [
      " 68%|██████▊   | 214/314 [1:07:52<31:03, 18.64s/it]"
     ]
    },
    {
     "name": "stdout",
     "output_type": "stream",
     "text": [
      "305: I'm a 27 years old guy with albinism and you can AmA\n",
      "306: I’m ethan, an 18 year old who made national headlines for getting vaccinated despite an antivaxx mother. AMA!\n"
     ]
    },
    {
     "name": "stderr",
     "output_type": "stream",
     "text": [
      " 69%|██████▉   | 216/314 [1:08:11<21:48, 13.35s/it]"
     ]
    },
    {
     "name": "stdout",
     "output_type": "stream",
     "text": [
      "307: I'm a Russian journalist who hates Putin, AMA!\n"
     ]
    },
    {
     "name": "stderr",
     "output_type": "stream",
     "text": [
      " 69%|██████▉   | 217/314 [1:08:34<26:26, 16.36s/it]"
     ]
    },
    {
     "name": "stdout",
     "output_type": "stream",
     "text": [
      "308: We're reporters at The Desert Sun in Palm Springs, California. Our reporting shows that cartel violence is driving a wave of Mexican asylum seekers to the U.S. because of death threats. Ask Us Anything\n"
     ]
    },
    {
     "name": "stderr",
     "output_type": "stream",
     "text": [
      " 69%|██████▉   | 218/314 [1:08:48<24:52, 15.55s/it]"
     ]
    },
    {
     "name": "stdout",
     "output_type": "stream",
     "text": [
      "309: We are at CERN today to celebrate 30 years of the World Wide Web: ask us anything about the history of the Web, its future and everything in between!\n",
      "310: I’m Ryan Creamer, I make wholesome, SFW videos on Pornhub. Ask me anything!\n"
     ]
    },
    {
     "name": "stderr",
     "output_type": "stream",
     "text": [
      " 70%|██████▉   | 219/314 [1:09:12<28:30, 18.00s/it]"
     ]
    },
    {
     "name": "stdout",
     "output_type": "stream",
     "text": [
      "311: My name is Andrew &amp; I have been a janitor since I was 14 years old. I am now 32. Ask me anything.\n",
      "312: My name is Bill Bostock, and I’m the reporter for Business Insider who broke a report on the Saudi government app \"Absher,\" which amongst many functions lets men control where women travel, and offers SMS alerts when women use their passports at check-in. AMA\n"
     ]
    },
    {
     "name": "stderr",
     "output_type": "stream",
     "text": [
      " 70%|███████   | 220/314 [1:09:34<30:15, 19.31s/it]"
     ]
    },
    {
     "name": "stdout",
     "output_type": "stream",
     "text": [
      "313: Iam Joseph Gordon-Levitt, my new show “Band Together with Logic” is now streaming on YouTube. So, AMA…\n",
      "314: We are a senior Mueller reporter and former federal investigators who worked on some of the biggest cases since Watergate. Ask us anything.\n"
     ]
    },
    {
     "name": "stderr",
     "output_type": "stream",
     "text": [
      " 70%|███████   | 221/314 [1:10:00<33:15, 21.46s/it]"
     ]
    },
    {
     "name": "stdout",
     "output_type": "stream",
     "text": [
      "315: I'm a NYC-based pianist who got sick of the office life, resigned my job, and started renting out concert halls to give out my own concerts. Today I have a concert at Merkin Hall NYC and we're livestreaming the whole thing for free. AMA!\n"
     ]
    },
    {
     "name": "stderr",
     "output_type": "stream",
     "text": [
      " 71%|███████   | 223/314 [1:10:31<28:58, 19.10s/it]"
     ]
    },
    {
     "name": "stdout",
     "output_type": "stream",
     "text": [
      "316: Hi! I’m Satnam Singh, I’ve been trucking for 25 years and my community of Punjabi Sikhs is very active in truck driving. I crossed the U.S.-Mexico border, got detained and now I own a trucking company that makes $200k a year. Ask me anything!\n",
      "317: I am Scott Stedman, 23-year-old investigative journalist and author of the brand new book \"Real News\" chronicling my 18+ months investigating the Trump/Russia story.\n",
      "318: I'm Astronaut Col. Terry Virts – Ask Me Anything!\n"
     ]
    },
    {
     "name": "stderr",
     "output_type": "stream",
     "text": [
      " 71%|███████▏  | 224/314 [1:10:46<26:38, 17.76s/it]"
     ]
    },
    {
     "name": "stdout",
     "output_type": "stream",
     "text": [
      "319: Hi, I’m Lila Rose, President of Live Action. Planned Parenthood kills over 330,000 preborn children every year via abortion, profits off of the pain of vulnerable women and children, and has been engaged in widespread human rights abuses. AMA!\n",
      "320: I am Michio Kaku, physicist, futurist and author of THE FUTURE OF HUMANITY-AMA!!\n",
      "321: We’re experts working with NASA to deflect asteroids from impacting Earth. Ask us anything!\n"
     ]
    },
    {
     "name": "stderr",
     "output_type": "stream",
     "text": [
      " 72%|███████▏  | 225/314 [1:11:21<33:54, 22.86s/it]"
     ]
    },
    {
     "name": "stdout",
     "output_type": "stream",
     "text": [
      "322: I'm Will Witt, political influencer for PragerU. Ask me anything, I'm an open book!\n",
      "323: I’m Mark Lawrenson, European Cup winner and former Republic of Ireland, Liverpool, Preston and Brighton defender. Ask me anything.\n"
     ]
    },
    {
     "name": "stderr",
     "output_type": "stream",
     "text": [
      " 72%|███████▏  | 227/314 [1:11:34<20:31, 14.16s/it]"
     ]
    },
    {
     "name": "stdout",
     "output_type": "stream",
     "text": [
      "324: Hey, I'm director Chad Stahelski! Let's talk about John Wick: Chapter 3 - Parabellum - AMA\n",
      "325: I’m Chef Roy Choi, here to talk about complex social justice issues, food insecurity, and more, all seen in my new TV series Broken Bread. I’m a chef and social warrior trying to make sh** happen. AMA\n",
      "326: I’m a Lucid Dreamer, and I teach people how to control their dreams every night. AMA!\n"
     ]
    },
    {
     "name": "stderr",
     "output_type": "stream",
     "text": [
      " 73%|███████▎  | 228/314 [1:11:48<20:15, 14.13s/it]"
     ]
    },
    {
     "name": "stdout",
     "output_type": "stream",
     "text": [
      "327: I'm an investigative journalist. I've found evidence showing that Altria, America's biggest tobacco company, asked Mitch McConnell to present the Tobacco to 21 bill he introduced on Monday and that it's probably not meant to keep nicotine away from kids. AMA.\n",
      "328: I drove my Jeep around Africa. Reddit said I would never make it. I made it. AMA\n"
     ]
    },
    {
     "name": "stderr",
     "output_type": "stream",
     "text": [
      " 73%|███████▎  | 229/314 [1:12:16<25:40, 18.12s/it]"
     ]
    },
    {
     "name": "stdout",
     "output_type": "stream",
     "text": [
      "329: Sexual harassment at music festivals is a well-known problem. I’m Desert Sun health reporter Nicole Hayden, and I spoke to women at Coachella about their experiences, and one in six said they were sexually harassed this year. AMA.\n",
      "330: After a five-month search, I found two of my kidnapped friends who had been forced into marriage in China. For the past six years I've been a full-time volunteer with a grassroots organisation to raise awareness of human trafficking - AMA!\n",
      "331: I am Keanna Erickson-Chang, the only full-time female rally car driver in the USA... AMA! 😊\n"
     ]
    },
    {
     "name": "stderr",
     "output_type": "stream",
     "text": [
      " 73%|███████▎  | 230/314 [1:13:00<36:23, 25.99s/it]"
     ]
    },
    {
     "name": "stdout",
     "output_type": "stream",
     "text": [
      "332: We are The Promoters/Producers of The Governors Ball Music Festival. Day 3 of the festival experienced a delayed opening ＆ eventual evacuation - both due to severe weather. Ask us questions about the day, why we did what we did, ＆ give us additional feedback on the festival\n",
      "333: We are Chuck Carter and Rand Miller, creators of the game Myst. We're releasing a new game tomorrow called ZED. Ask us anything!\n",
      "334: IAMA Sexologist and Licensed Therapist, specializing in Relationships, LGBT and all things Kinky AMA this Sunday Funday\n"
     ]
    },
    {
     "name": "stderr",
     "output_type": "stream",
     "text": [
      " 74%|███████▎  | 231/314 [1:13:41<42:00, 30.37s/it]"
     ]
    },
    {
     "name": "stdout",
     "output_type": "stream",
     "text": [
      "335: Former bank robber here. AMA!\n"
     ]
    },
    {
     "name": "stderr",
     "output_type": "stream",
     "text": [
      " 74%|███████▍  | 232/314 [1:13:54<34:36, 25.32s/it]"
     ]
    },
    {
     "name": "stdout",
     "output_type": "stream",
     "text": [
      "336: We are an internist, a neurologist, and a migraine researcher. Ask us anything about migraine headaches.\n"
     ]
    },
    {
     "name": "stderr",
     "output_type": "stream",
     "text": [
      " 74%|███████▍  | 233/314 [1:14:08<29:42, 22.00s/it]"
     ]
    },
    {
     "name": "stdout",
     "output_type": "stream",
     "text": [
      "337: I am a survival expert. I've provided official training to the United States Marine Corps, Navy, Air Force, Department of Defense, LAPD, CA Dept of Justice and more, as a civilian. I am a former Fire/Rescue Helicopter Crewmember in SO CAL. People travel across the globe to train with me AMA at all.\n"
     ]
    },
    {
     "name": "stderr",
     "output_type": "stream",
     "text": [
      " 75%|███████▍  | 234/314 [1:14:23<26:33, 19.92s/it]"
     ]
    },
    {
     "name": "stdout",
     "output_type": "stream",
     "text": [
      "338: I made a free alternative to Photoshop, that is used by 3 millions of people. Ask me Anything!\n",
      "339: Last week I donated my left kidney anonymously to a total stranger on the kidney waitlist. AMA!\n"
     ]
    },
    {
     "name": "stderr",
     "output_type": "stream",
     "text": [
      " 75%|███████▍  | 235/314 [1:14:50<28:51, 21.92s/it]"
     ]
    },
    {
     "name": "stdout",
     "output_type": "stream",
     "text": [
      "340: IAmA Rubik's Cube Speedsolver, preparing for the World Championship this weekend. Ask Me Anything!\n",
      "341: I’m Rick Smith, the founder and CEO of Taser (now known as Axon Enterprises). I’m on a mission to make the bullet obsolete, and I've spent my entire life trying to build alternatives to guns. AMA!\n"
     ]
    },
    {
     "name": "stderr",
     "output_type": "stream",
     "text": [
      " 75%|███████▌  | 236/314 [1:15:24<33:16, 25.59s/it]"
     ]
    },
    {
     "name": "stdout",
     "output_type": "stream",
     "text": [
      "342: I'm Katie Benner, Justice Department reporter for The New York Times. I covered the department's decision not to charge NYPD officer Daniel Pantaleo in the death of Eric Garner. Ask me anything about that decision, the public reaction, the Garner case or the Justice Department's civil rights work.\n",
      "343: I’m Apollo astronaut Charlie Duke, CAPCOM for Apollo 11. Ask me anything about being the spacecraft communicator for this historic Moon landing today at 10:30 a.m. EDT.\n",
      "344: Richard D. Wolff here, Professor of Economics, radio host, and co-founder of democracyatwork.info and author of Understanding Marxism. I'm here to answer any questions about Marxism, socialism and economics. AMA!\n"
     ]
    },
    {
     "name": "stderr",
     "output_type": "stream",
     "text": [
      " 75%|███████▌  | 237/314 [1:16:04<38:21, 29.89s/it]"
     ]
    },
    {
     "name": "stdout",
     "output_type": "stream",
     "text": [
      "345: I'm Dan Schilling, 30 year special operations and Black Hawk Down veteran and author of Alone at Dawn a book about Medal of Honor recipient John Chapman, who saved 23 teammates. This was the first time that a Medal of Honor act was captured on film. AMA!\n"
     ]
    },
    {
     "name": "stderr",
     "output_type": "stream",
     "text": [
      " 76%|███████▌  | 238/314 [1:16:19<31:57, 25.23s/it]"
     ]
    },
    {
     "name": "stdout",
     "output_type": "stream",
     "text": [
      "346: I'm Jack Nicas, a tech reporter for The New York Times. I investigated con artists who impersonate American servicemen on Facebook and Instagram to scam women. For the story, I traveled to Nigeria to meet these scammers. Ask me anything about Facebook, internet cons and scamming culture in Nigeria.\n"
     ]
    },
    {
     "name": "stderr",
     "output_type": "stream",
     "text": [
      " 76%|███████▌  | 239/314 [1:16:33<27:20, 21.88s/it]"
     ]
    },
    {
     "name": "stdout",
     "output_type": "stream",
     "text": [
      "347: I’m Astead W. Herndon, a national political reporter for The New York Times. I spent 3 months reporting on the Sunrise Movement, a group of young climate activists trying to push Democrats to the left ahead of the 2020 election. Ask me anything.\n"
     ]
    },
    {
     "name": "stderr",
     "output_type": "stream",
     "text": [
      " 76%|███████▋  | 240/314 [1:16:47<24:11, 19.62s/it]"
     ]
    },
    {
     "name": "stdout",
     "output_type": "stream",
     "text": [
      "348: We’re Max Fisher and Amanda Taub, writers for The New York Times. We investigated how YouTube’s algorithm, which is built to keep you hooked, can also spread extremism and conspiracies. Ask us anything.\n"
     ]
    },
    {
     "name": "stderr",
     "output_type": "stream",
     "text": [
      " 77%|███████▋  | 242/314 [1:17:09<18:06, 15.09s/it]"
     ]
    },
    {
     "name": "stdout",
     "output_type": "stream",
     "text": [
      "349: I am Governor Steve Bullock, U.S. Presidential Candidate. I'm the only candidate for President who’s won a Trump state, and I've spent my career fighting the influence of Dark Money in politics.\n"
     ]
    },
    {
     "name": "stderr",
     "output_type": "stream",
     "text": [
      " 77%|███████▋  | 243/314 [1:17:19<16:00, 13.53s/it]"
     ]
    },
    {
     "name": "stdout",
     "output_type": "stream",
     "text": [
      "350: I am the father of 2 American kids kidnapped by ISIS, I am searching for them in Syria with VICE News Correspondent Seb Walker. AMA.\n"
     ]
    },
    {
     "name": "stderr",
     "output_type": "stream",
     "text": [
      " 78%|███████▊  | 244/314 [1:17:33<15:46, 13.51s/it]"
     ]
    },
    {
     "name": "stdout",
     "output_type": "stream",
     "text": [
      "351: What’s up everybody, my name is Martins Licis and I just won \"World’s Strongest Man\"! Ask Me Anything!\n"
     ]
    },
    {
     "name": "stderr",
     "output_type": "stream",
     "text": [
      " 78%|███████▊  | 246/314 [1:17:58<14:33, 12.84s/it]"
     ]
    },
    {
     "name": "stdout",
     "output_type": "stream",
     "text": [
      "352: I dropped out of MIT and started a new college in San Francisco. AMA!\n",
      "353: I'm a former Catholic monk. AMA\n"
     ]
    },
    {
     "name": "stderr",
     "output_type": "stream",
     "text": [
      " 79%|███████▊  | 247/314 [1:18:16<16:08, 14.45s/it]Not all PushShift shards are active. Query results may be incomplete.\n",
      " 79%|███████▉  | 248/314 [1:19:57<44:24, 40.37s/it]"
     ]
    },
    {
     "name": "stdout",
     "output_type": "stream",
     "text": [
      "354: I brought a support clown to my redundancy meeting, ask me anything\n",
      "355: I am a 17 year old protest medic for the on-going Hong Kong protests, I helped treat a lot of injured protesters while they were protesting. AMA.\n",
      "356: I spent the past three years embedded with internet trolls and propagandists in order to write a new nonfiction book, ANTISOCIAL, about how the internet is breaking our society. I also spent a lot of time reporting from Reddit's HQ in San Francisco. AMA!\n"
     ]
    },
    {
     "name": "stderr",
     "output_type": "stream",
     "text": [
      " 79%|███████▉  | 249/314 [1:20:47<46:54, 43.30s/it]"
     ]
    },
    {
     "name": "stdout",
     "output_type": "stream",
     "text": [
      "357: Iam Pornstar Jessa Rhodes, AMA!\n"
     ]
    },
    {
     "name": "stderr",
     "output_type": "stream",
     "text": [
      " 80%|███████▉  | 250/314 [1:20:53<34:14, 32.10s/it]"
     ]
    },
    {
     "name": "stdout",
     "output_type": "stream",
     "text": [
      "358: I am Andrew Rea (aka Babish), creator of Binging/Basics/Being with Babish. My second cookbook hits shelves today, and I pretty much owe my entire career to the Reddit community, sooooo amA (ask me ANYTHING)!\n"
     ]
    },
    {
     "name": "stderr",
     "output_type": "stream",
     "text": [
      " 80%|███████▉  | 251/314 [1:20:59<25:31, 24.31s/it]"
     ]
    },
    {
     "name": "stdout",
     "output_type": "stream",
     "text": [
      "359: I am Ramon Solhkhah, an expert in psychiatry and behavioral health. I’m trying to address the crisis of high rates of anxiety and suicides among young people. AMA.\n"
     ]
    },
    {
     "name": "stderr",
     "output_type": "stream",
     "text": [
      " 81%|████████  | 254/314 [1:24:54<1:05:56, 65.93s/it]"
     ]
    },
    {
     "name": "stdout",
     "output_type": "stream",
     "text": [
      "360: After working at Google ＆ Facebook for 15 years, I wrote a book called Lean Out, debunking modern feminist rhetoric and telling the truth about women ＆ power in corporate America. AMA!\n"
     ]
    },
    {
     "name": "stderr",
     "output_type": "stream",
     "text": [
      " 81%|████████  | 255/314 [1:25:12<50:35, 51.45s/it]  "
     ]
    },
    {
     "name": "stdout",
     "output_type": "stream",
     "text": [
      "361: I [21F] have had a full set of dentures since age 19. AMA!\n",
      "362: Hi, I’m Anonymous, the author of A WARNING\n",
      "363: I do medical billing for a major hospital and I believe for-profit health care is evil. AMAA\n"
     ]
    },
    {
     "name": "stderr",
     "output_type": "stream",
     "text": [
      " 82%|████████▏ | 256/314 [1:25:53<46:49, 48.44s/it]"
     ]
    },
    {
     "name": "stdout",
     "output_type": "stream",
     "text": [
      "364: I spent 22 years in prison for a crime I didn’t commit. Ask me anything\n"
     ]
    },
    {
     "name": "stderr",
     "output_type": "stream",
     "text": [
      " 82%|████████▏ | 257/314 [1:26:08<36:23, 38.30s/it]"
     ]
    },
    {
     "name": "stdout",
     "output_type": "stream",
     "text": [
      "365: I am Rushan Abbas - Uyghur Activist and survivor of Chinese oppression. My sister and my friends are currently trapped in western China's concentration camps. Ask me anything!\n",
      "366: Over 1/3 of the entire population of earth has trouble breathing through their nose and it causes all kinds of problems people don't realize. I am helping people resolve this with a new treatment! AMA\n"
     ]
    },
    {
     "name": "stderr",
     "output_type": "stream",
     "text": [
      " 82%|████████▏ | 259/314 [1:26:38<23:16, 25.39s/it]"
     ]
    },
    {
     "name": "stdout",
     "output_type": "stream",
     "text": [
      "367: It's Christmas Eve, and I'm a parish pastor. AMA!\n",
      "368: I am former NASA Mechanical Engineer turned YouTuber Mark Rober. I've been making videos for 9 years and just passed 10M subs. AMA!\n",
      "369: I am a former Jewel Thief. I stole over 15 million dollars worth of diamonds and jewels up and down the East Coast. AMA!\n"
     ]
    },
    {
     "name": "stderr",
     "output_type": "stream",
     "text": [
      " 83%|████████▎ | 260/314 [1:27:15<25:54, 28.79s/it]"
     ]
    },
    {
     "name": "stdout",
     "output_type": "stream",
     "text": [
      "370: My name is Todd Graves, I am the CEO and founder of Raising Cane's Chicken Fingers! AMA\n",
      "371: I was in several comas over a four months period. From 2017-2018, doctors diagnosed me as brain dead and said I would most likely die. However, I was in a pseudo coma, locked in, conscious the entire time. AMA\n"
     ]
    },
    {
     "name": "stderr",
     "output_type": "stream",
     "text": [
      " 83%|████████▎ | 261/314 [1:27:26<20:47, 23.53s/it]"
     ]
    },
    {
     "name": "stdout",
     "output_type": "stream",
     "text": [
      "372: 3 years ago I quit my job &amp; started writing poems for strangers in public parks. I've written ~10,000 poems. This past year I started staging \"interventions\" with the pick-up artists who were running rampant in the park. Ask me anything!\n",
      "373: I am Peter Zeihan, a geopolitical strategist, futurist and author the new book Disunited Nations. AMA\n"
     ]
    },
    {
     "name": "stderr",
     "output_type": "stream",
     "text": [
      " 83%|████████▎ | 262/314 [1:27:43<18:31, 21.38s/it]"
     ]
    },
    {
     "name": "stdout",
     "output_type": "stream",
     "text": [
      "374: We are Hero Forge, the internet's home for custom 3D printed tabletop minis. We just launched a new Kickstarter for full-color 3D printed minis! Ask us anything.\n",
      "375: Hi, I'm David Sinclair -- Professor of Genetics at Harvard Medical School &amp; Author of Lifespan: Why We Age- and Why We Don't Have To -- AMA\n",
      "376: IAmA concierge at a condominium for the rich and ultra-rich, AMA.\n"
     ]
    },
    {
     "name": "stderr",
     "output_type": "stream",
     "text": [
      " 84%|████████▍ | 263/314 [1:28:00<17:08, 20.17s/it]"
     ]
    },
    {
     "name": "stdout",
     "output_type": "stream",
     "text": [
      "377: What’s the deal with food allergy? It’s become an epidemic, but now we have ways to treat it! I am an Allergy, Asthma, and Immunology Doctor who does food allergy immunotherapy (OIT). AMA\n"
     ]
    },
    {
     "name": "stderr",
     "output_type": "stream",
     "text": [
      " 85%|████████▍ | 266/314 [1:31:49<39:35, 49.48s/it]"
     ]
    },
    {
     "name": "stdout",
     "output_type": "stream",
     "text": [
      "378: I am a Mattress Expert with over 25+ years of experience – AMA\n"
     ]
    },
    {
     "name": "stderr",
     "output_type": "stream",
     "text": [
      " 85%|████████▌ | 267/314 [1:32:02<30:17, 38.68s/it]"
     ]
    },
    {
     "name": "stdout",
     "output_type": "stream",
     "text": [
      "379: We are Paradox Development Studio - creators of the game Hearts of Iron IV and its upcoming expansion La Résistance - Ask us anything!\n"
     ]
    },
    {
     "name": "stderr",
     "output_type": "stream",
     "text": [
      " 86%|████████▌ | 270/314 [1:32:31<14:24, 19.64s/it]Not all PushShift shards are active. Query results may be incomplete.\n",
      " 86%|████████▋ | 271/314 [1:34:12<31:30, 43.97s/it]"
     ]
    },
    {
     "name": "stdout",
     "output_type": "stream",
     "text": [
      "380: Hello, I am an anesthesiologist, ICU physician, and have a PhD in Pharmacology. I'm here to discuss why \"flattening the curve\" matters. AMA!\n",
      "381: I Work at a Costco in Oregon dealing with this corona virus craze, AMA!\n"
     ]
    },
    {
     "name": "stderr",
     "output_type": "stream",
     "text": [
      " 87%|████████▋ | 274/314 [1:34:49<14:03, 21.10s/it]"
     ]
    },
    {
     "name": "stdout",
     "output_type": "stream",
     "text": [
      "382: IamA guy who bought a 22-building 'ghost town' over a year ago with a friend. It was once California's largest silver producer and had a murder a week. I've been up here for past 3 weeks quarantining and currently snowed-in with no way out of the town. AMA!\n",
      "383: We are Last Podcast On The Left and we have a new book out this week! Ask Us Anything!\n",
      "384: Recently, the “5G causes Covid19” conspiracy theory has gained popularity. I’m a Radar Engineer with a masters degree in Telecommunication Engineering and a teaching qualification in high school physics!\n"
     ]
    },
    {
     "name": "stderr",
     "output_type": "stream",
     "text": [
      " 88%|████████▊ | 275/314 [1:35:27<16:59, 26.14s/it]"
     ]
    },
    {
     "name": "stdout",
     "output_type": "stream",
     "text": [
      "385: Hi Reddit! My name is Jeff Lowe, I'm the CEO and Founder of Greater Wynnewood Exotic Animal Park and was recently featured on Netflix's TIGER KING\n"
     ]
    },
    {
     "name": "stderr",
     "output_type": "stream",
     "text": [
      " 88%|████████▊ | 276/314 [1:35:41<14:14, 22.50s/it]"
     ]
    },
    {
     "name": "stdout",
     "output_type": "stream",
     "text": [
      "386: HELLO! I’m Michael Mando, Nacho from Better Call Saul - AMA!\n",
      "387: I’m Dr. Jud, a psychiatrist and neuroscientist at Brown University. I have over 20 years of experience with mindfulness training, and I’m passionate about helping people treat addictions, form new habits and make deep, permanent change in their lives.\n"
     ]
    },
    {
     "name": "stderr",
     "output_type": "stream",
     "text": [
      " 89%|████████▊ | 278/314 [1:36:11<10:36, 17.68s/it]"
     ]
    },
    {
     "name": "stdout",
     "output_type": "stream",
     "text": [
      "388: I am Don Vultaggio, Founder &amp; Chairman of AriZona Beverage Company. AMA\n",
      "389: I'm homeless in a deadly pandemic, AMA...\n"
     ]
    },
    {
     "name": "stderr",
     "output_type": "stream",
     "text": [
      " 89%|████████▉ | 280/314 [1:36:39<08:22, 14.79s/it]"
     ]
    },
    {
     "name": "stdout",
     "output_type": "stream",
     "text": [
      "390: Keidmil! My name is David J. Peterson, and I'm the language creator from HBO's Game of Thrones, Netflix's The Witcher, Freeform's Motherland: Fort Salem, the CW's The 100, Legendary's Dune, and others. AMA!\n"
     ]
    },
    {
     "name": "stderr",
     "output_type": "stream",
     "text": [
      " 90%|████████▉ | 282/314 [1:37:04<07:20, 13.77s/it]"
     ]
    },
    {
     "name": "stdout",
     "output_type": "stream",
     "text": [
      "391: I was one of the 307 people arrested in Cincinnati on Sunday night, where many people I was taken in with were left without food, water, bathroom privileges, or shelter for several hours. AMA!\n",
      "392: I have anaphylaxis to basically the world. I am allergic to so many things that I require a special drink to ensure I meet dietary requirements.\n"
     ]
    },
    {
     "name": "stderr",
     "output_type": "stream",
     "text": [
      " 90%|█████████ | 283/314 [1:37:47<11:37, 22.49s/it]"
     ]
    },
    {
     "name": "stdout",
     "output_type": "stream",
     "text": [
      "393: I'm a dad who quit his job 5 years ago to make board games with my wife. We have now sold over $2 million in games. Ask me anything!\n",
      "394: I am Kailee Scales, Managing Director for Black Lives Matter. Ask me anything.\n"
     ]
    },
    {
     "name": "stderr",
     "output_type": "stream",
     "text": [
      " 91%|█████████ | 285/314 [1:38:01<06:49, 14.10s/it]"
     ]
    },
    {
     "name": "stdout",
     "output_type": "stream",
     "text": [
      "395: Hi I’m Sabrina Nichole former Playboy model and current nude freelance and couch potato, I’m unsure what questions will be asked but ask away!\n"
     ]
    },
    {
     "name": "stderr",
     "output_type": "stream",
     "text": [
      " 91%|█████████▏| 287/314 [1:38:33<07:12, 16.01s/it]"
     ]
    },
    {
     "name": "stdout",
     "output_type": "stream",
     "text": [
      "396: Hey, it's Brian Baumgartner! I portrayed Kevin Malone (accounting guru and chili master) on NBC's The Office and I'm here today to discuss my new podcast, “An Oral History of The Office\", Ask Me Anything!\n",
      "397: My dad founded New Jersey's Action Park, widely believed to be the most dangerous theme park in the country. I worked there for 10 incredible summers. AMA.\n"
     ]
    },
    {
     "name": "stderr",
     "output_type": "stream",
     "text": [
      " 92%|█████████▏| 289/314 [1:38:56<05:25, 13.00s/it]"
     ]
    },
    {
     "name": "stdout",
     "output_type": "stream",
     "text": [
      "398: There’s more to being a Navy pilot than what you see in the movies – I would know, I’m a TOPGUN instructor. Ask me anything!\n"
     ]
    },
    {
     "name": "stderr",
     "output_type": "stream",
     "text": [
      " 93%|█████████▎| 291/314 [1:39:18<04:31, 11.79s/it]"
     ]
    },
    {
     "name": "stdout",
     "output_type": "stream",
     "text": [
      "399: I am Daryl Davis the Rock'n'Roll Race Reconciliator. Klan We Talk about race and music, police and peace? A missed opportunity for dialogue, is a missed opportunity for conflict resolution. Ask Me Anything!\n"
     ]
    },
    {
     "name": "stderr",
     "output_type": "stream",
     "text": [
      " 93%|█████████▎| 292/314 [1:39:32<04:35, 12.54s/it]"
     ]
    },
    {
     "name": "stdout",
     "output_type": "stream",
     "text": [
      "400: I made a free alternative to Photoshop, that is used by 7 million people. Ask me Anything!\n",
      "401: I am David Tennant and I was the tenth Doctor Who, Kilgrave in Jessica Jones and Crowley in Good Omens. I am here today to talk to you about the second season of my podcast “David Tennant Does a Podcast With…”. Ask Me Anything!\n"
     ]
    },
    {
     "name": "stderr",
     "output_type": "stream",
     "text": [
      " 93%|█████████▎| 293/314 [1:40:06<06:38, 18.95s/it]"
     ]
    },
    {
     "name": "stdout",
     "output_type": "stream",
     "text": [
      "402: I made Silicon Valley publish its diversity data (which sucked, obviously), got micro-famous for it, then got so much online harassment that I started a whole company to try to fix it. I'm Tracy Chou, founder and CEO of Block Party. AMA\n",
      "403: I Hunt Medical Serial Killers. Ask Me Anything.\n"
     ]
    },
    {
     "name": "stderr",
     "output_type": "stream",
     "text": [
      " 94%|█████████▎| 294/314 [1:40:18<05:37, 16.86s/it]"
     ]
    },
    {
     "name": "stdout",
     "output_type": "stream",
     "text": [
      "404: I am Matt Elmes, PhD; Cannabis scientist. After making discoveries about how we process cannabinoids at the cellular level, I transitioned to work in the California cannabis industry. I’ve also been a regular cannabis user myself for 20 years. Now that you’ve read my qualifications as Dr. Weed, AMA!\n",
      "405: IAmA dark web expert, investigative journalist and true crime author. I’ve met dark web kingpins in far flung prisons and delved the murky depths of child predator forums. I’ve written six books and over a dozen Casefile podcast episodes. AMA\n"
     ]
    },
    {
     "name": "stderr",
     "output_type": "stream",
     "text": [
      " 95%|█████████▍| 297/314 [1:40:51<03:47, 13.37s/it]"
     ]
    },
    {
     "name": "stdout",
     "output_type": "stream",
     "text": [
      "406: Hi Reddit! We're the author and illustrator of \"The President's New Clothes\", a satire and parody of 'The Emperor's New Clothes' featuring a naked Donald Trump that we self published and have been sneaking into stores locally in Texas. AMA!\n",
      "407: I’ve had a 71-year career in nuclear energy and have seen many setbacks but believe strongly that nuclear power can provide a clean, reliable, and relatively inexpensive source of energy to the world. AMA\n"
     ]
    },
    {
     "name": "stderr",
     "output_type": "stream",
     "text": [
      " 95%|█████████▍| 298/314 [1:41:09<03:57, 14.83s/it]"
     ]
    },
    {
     "name": "stdout",
     "output_type": "stream",
     "text": [
      "408: I am actor Nikolaj Coster-Waldau. You may remember me as Jaime Lannister on GoT... I've just launched a platform for grassroots giving called Dandi. AMA!\n",
      "409: I am a photographer who shoots nude couples and singles AMA\n"
     ]
    },
    {
     "name": "stderr",
     "output_type": "stream",
     "text": [
      " 96%|█████████▌| 300/314 [1:41:28<02:40, 11.49s/it]"
     ]
    },
    {
     "name": "stdout",
     "output_type": "stream",
     "text": [
      "410: I Am former Secretary of Defense William Perry and nuclear policy think-tank director Tom Collina, ask us anything about Presidential nuclear authority!\n",
      "411: Iama guy who has been living alone in an abandoned ‘ghost town’ for over 6 months. I bought the town just over two years ago. AMA!\n"
     ]
    },
    {
     "name": "stderr",
     "output_type": "stream",
     "text": [
      " 96%|█████████▌| 301/314 [1:41:45<02:52, 13.31s/it]"
     ]
    },
    {
     "name": "stdout",
     "output_type": "stream",
     "text": [
      "412: Hey, ya’ll! I’m Jenelle Marie Pierce, and I have genital herpes! I am also a Sexual Health Educator, Executive Director of The STI Project, and an Adjunct Professor. I’m here to eradicate the stigma surrounding STIs by sharing my experience and normalizing the conversation around sexual health. AMA!\n"
     ]
    },
    {
     "name": "stderr",
     "output_type": "stream",
     "text": [
      " 96%|█████████▌| 302/314 [1:42:01<02:50, 14.19s/it]"
     ]
    },
    {
     "name": "stdout",
     "output_type": "stream",
     "text": [
      "413: We are non-partisan voter protection experts. 2020 will be an election like none other. Ask us anything about voting, elections and how we'll make sure every voter's voice is heard.\n",
      "414: I am a Canadian cannabis policy researcher and today we're celebrating the second anniversary of legalization in Canada and launching a new survey on young people's perception of public education efforts. AMA about cannabis in Canada!\n"
     ]
    },
    {
     "name": "stderr",
     "output_type": "stream",
     "text": [
      " 96%|█████████▋| 303/314 [1:43:23<06:19, 34.51s/it]"
     ]
    },
    {
     "name": "stdout",
     "output_type": "stream",
     "text": [
      "415: I'm Elliott Morris, a data journalist at The Economist working on our US presidential election forecast. Ask me anything!\n"
     ]
    },
    {
     "name": "stderr",
     "output_type": "stream",
     "text": [
      " 97%|█████████▋| 304/314 [1:43:40<04:51, 29.14s/it]"
     ]
    },
    {
     "name": "stdout",
     "output_type": "stream",
     "text": [
      "416: I'm Jon Rineman, former Head Monologue Writer for the Tonight Show with Jimmy Fallon. I helped write Seth Meyers’ 2011 White House Correspondents’ Dinner which some believe drove Donald Trump to run for President. Ask me anything.\n",
      "417: I am Aubrey Cottle a.k.a. Kirtaner. I am the founder of the hacker collective \"Anonymous\". Yes. Really. Ask me anything.\n"
     ]
    },
    {
     "name": "stderr",
     "output_type": "stream",
     "text": [
      " 97%|█████████▋| 305/314 [1:44:09<04:23, 29.26s/it]"
     ]
    },
    {
     "name": "stdout",
     "output_type": "stream",
     "text": [
      "418: I'm Jack Douglass of the YouTube channel Jacksfilms, and I'm releasing a board game based on one of my series. AMA!\n"
     ]
    },
    {
     "name": "stderr",
     "output_type": "stream",
     "text": [
      " 97%|█████████▋| 306/314 [1:44:23<03:16, 24.61s/it]"
     ]
    },
    {
     "name": "stdout",
     "output_type": "stream",
     "text": [
      "419: I’m Lynda Carter, Wonder Woman actress &amp; singer. Ask Me Anything!\n"
     ]
    },
    {
     "name": "stderr",
     "output_type": "stream",
     "text": [
      " 98%|█████████▊| 308/314 [1:44:41<01:36, 16.11s/it]"
     ]
    },
    {
     "name": "stdout",
     "output_type": "stream",
     "text": [
      "420: We are researchers who work on nutrition and the gut. Our research looks at our amazing gut microbiome and the role of nutrition in health and disease. Ask us anything!\n",
      "421: I am a woman living in a cabin without running water in Alaska. Ama.\n"
     ]
    },
    {
     "name": "stderr",
     "output_type": "stream",
     "text": [
      " 98%|█████████▊| 309/314 [1:45:11<01:42, 20.41s/it]"
     ]
    },
    {
     "name": "stdout",
     "output_type": "stream",
     "text": [
      "422: Hi, I’m Comedian and Actor Gabriel “Fluffy” Iglesias – Ask Me Anything!\n",
      "423: I’m Ray Dalio—founder of Bridgewater Associates. We are in unusual and risky times. I’ve been studying the forces behind the rise and fall of great empires and their reserve currencies throughout history, with a focus on what that means for the US and China today. Ask me about this—or anything.\n"
     ]
    },
    {
     "name": "stderr",
     "output_type": "stream",
     "text": [
      " 99%|█████████▉| 311/314 [1:46:35<01:38, 32.72s/it]"
     ]
    },
    {
     "name": "stdout",
     "output_type": "stream",
     "text": [
      "424: I created a business from Reddit post when I was on the brink of homelessness a year ago, and it's still going strong! Ask me Anything\n"
     ]
    },
    {
     "name": "stderr",
     "output_type": "stream",
     "text": [
      "100%|█████████▉| 313/314 [1:46:59<00:22, 22.55s/it]"
     ]
    },
    {
     "name": "stdout",
     "output_type": "stream",
     "text": [
      "425: I am Justin Kan, cofounder of Twitch (world's biggest live-streaming platform). I've been a serial entrepreneur, technology investor at Y Combinator and now my new fund Goat Capital. AMA!\n",
      "426: I just set the Guinness World Record for longest distance swim in the ocean on a single breath. I also hold the record for longest freedive under ice on a single breath in speedos and can hold my breath for 22 minutes. Ask me anything!\n"
     ]
    },
    {
     "name": "stderr",
     "output_type": "stream",
     "text": [
      "100%|██████████| 314/314 [1:47:22<00:00, 20.52s/it]\n"
     ]
    }
   ],
   "source": [
    "import datetime as dt\n",
    "from tqdm import tqdm\n",
    "import pandas as pd\n",
    "\n",
    "def filter_list_of_dicts(dicts):\n",
    "    ids = set()\n",
    "    for d in dicts:\n",
    "        if d['id'] not in ids:\n",
    "            ids.add(d['id'])\n",
    "            yield d\n",
    "\n",
    "# starting from 1/1/2014 to 1/1/2023 call api to get posts for each week\n",
    "start_epoch=int(dt.datetime(2015, 1, 1).timestamp())\n",
    "end_epoch=int(dt.datetime(2021, 1, 1).timestamp())\n",
    "\n",
    "post_list = []\n",
    "counter = 0\n",
    "for current_epoch in tqdm(range(start_epoch, end_epoch, 604800)):\n",
    "    posts = api.search_submissions(subreddit=\"IAmA\", limit=None, after=current_epoch, before=current_epoch+604800)\n",
    "    # post_list = [post for post in posts]\n",
    "    new_posts = [post for post in posts if post['num_comments'] > 1000]\n",
    "    # eliminate duplicates in new_posts by checking id\n",
    "    new_posts = list(filter_list_of_dicts(new_posts))\n",
    "\n",
    "\n",
    "    for i, post in enumerate(new_posts):\n",
    "        print(f'{counter}: {post[\"title\"]}')\n",
    "        counter += 1\n",
    "        submission = reddit.submission(id=post['id'])\n",
    "        submission.comments.replace_more(limit=0)\n",
    "        # comment_list = [comment.body for comment in submission.comments.list()]\n",
    "        comment_list = [{'body': comment.body, 'score': comment.score} for comment in submission.comments.list()]\n",
    "            \n",
    "        new_posts[i]['comments'] = comment_list\n",
    "\n",
    "    post_list.extend(new_posts)\n",
    "    df = pd.DataFrame(post_list)\n",
    "    df.to_csv('data_2015_to_2021.csv', index=False)\n"
   ]
  },
  {
   "cell_type": "code",
   "execution_count": null,
   "metadata": {},
   "outputs": [],
   "source": [
    "import pandas as pd\n",
    "\n",
    "# convert list of posts to dataframe\n",
    "df = pd.DataFrame(post_list)\n",
    "\n",
    "# filter out posts that have less than 100 comments\n",
    "df = df[df['num_comments'] > 100]"
   ]
  },
  {
   "cell_type": "code",
   "execution_count": null,
   "metadata": {},
   "outputs": [],
   "source": [
    "comments = api.search_comments(subreddit=\"IAmA\", limit=1000, after=1609459200, before=1612137600)\n",
    "comment_list = [comment for comment in comments]"
   ]
  },
  {
   "cell_type": "code",
   "execution_count": null,
   "metadata": {},
   "outputs": [],
   "source": [
    "comment_list[:2]"
   ]
  },
  {
   "cell_type": "code",
   "execution_count": null,
   "metadata": {},
   "outputs": [],
   "source": [
    "comment_parents = list(map(lambda x: x['permalink'].split('/')[4], comment_list))"
   ]
  },
  {
   "cell_type": "code",
   "execution_count": null,
   "metadata": {},
   "outputs": [],
   "source": [
    "group_comments_by_post(comment_list).keys()"
   ]
  },
  {
   "cell_type": "code",
   "execution_count": null,
   "metadata": {},
   "outputs": [],
   "source": [
    "post_list[:2]"
   ]
  },
  {
   "cell_type": "code",
   "execution_count": null,
   "metadata": {},
   "outputs": [],
   "source": [
    "post_ids = list(map(lambda x: x['id'], post_list))"
   ]
  },
  {
   "cell_type": "code",
   "execution_count": null,
   "metadata": {},
   "outputs": [],
   "source": [
    "'gljcc38' in post_ids"
   ]
  }
 ],
 "metadata": {
  "kernelspec": {
   "display_name": "final582",
   "language": "python",
   "name": "python3"
  },
  "language_info": {
   "codemirror_mode": {
    "name": "ipython",
    "version": 3
   },
   "file_extension": ".py",
   "mimetype": "text/x-python",
   "name": "python",
   "nbconvert_exporter": "python",
   "pygments_lexer": "ipython3",
   "version": "3.9.16"
  },
  "orig_nbformat": 4
 },
 "nbformat": 4,
 "nbformat_minor": 2
}
