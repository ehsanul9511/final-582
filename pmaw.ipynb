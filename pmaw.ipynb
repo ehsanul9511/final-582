{
 "cells": [
  {
   "cell_type": "code",
   "execution_count": null,
   "metadata": {},
   "outputs": [],
   "source": [
    "!pip install pmaw==3.0.0"
   ]
  },
  {
   "cell_type": "code",
   "execution_count": null,
   "metadata": {},
   "outputs": [],
   "source": [
    "from pmaw import PushshiftAPI\n",
    "\n",
    "api = PushshiftAPI()"
   ]
  },
  {
   "cell_type": "code",
   "execution_count": null,
   "metadata": {},
   "outputs": [],
   "source": [
    "import praw\n",
    "\n",
    "reddit = praw.Reddit(client_id = \"###\", client_secret=\"###\", user_agent=\"###\")"
   ]
  },
  {
   "cell_type": "code",
   "execution_count": null,
   "metadata": {},
   "outputs": [],
   "source": [
    "import datetime as dt\n",
    "from tqdm import tqdm\n",
    "import pandas as pd\n",
    "\n",
    "def filter_list_of_dicts(dicts):\n",
    "    ids = set()\n",
    "    for d in dicts:\n",
    "        if d['id'] not in ids:\n",
    "            ids.add(d['id'])\n",
    "            yield d\n",
    "\n",
    "# starting from 1/1/2014 to 1/1/2023 call api to get posts for each week\n",
    "start_epoch=int(dt.datetime(2015, 1, 1).timestamp())\n",
    "end_epoch=int(dt.datetime(2021, 1, 1).timestamp())\n",
    "\n",
    "post_list = []\n",
    "counter = 0\n",
    "for current_epoch in tqdm(range(start_epoch, end_epoch, 604800)):\n",
    "    posts = api.search_submissions(subreddit=\"IAmA\", limit=None, after=current_epoch, before=current_epoch+604800)\n",
    "    # post_list = [post for post in posts]\n",
    "    new_posts = [post for post in posts if post['num_comments'] > 1000]\n",
    "    # eliminate duplicates in new_posts by checking id\n",
    "    new_posts = list(filter_list_of_dicts(new_posts))\n",
    "\n",
    "\n",
    "    for i, post in enumerate(new_posts):\n",
    "        print(f'{counter}: {post[\"title\"]}')\n",
    "        counter += 1\n",
    "        submission = reddit.submission(id=post['id'])\n",
    "        submission.comments.replace_more(limit=0)\n",
    "        # comment_list = [comment.body for comment in submission.comments.list()]\n",
    "        comment_list = [{'body': comment.body, 'score': comment.score} for comment in submission.comments.list()]\n",
    "            \n",
    "        new_posts[i]['comments'] = comment_list\n",
    "\n",
    "    post_list.extend(new_posts)\n",
    "    df = pd.DataFrame(post_list)\n",
    "    df.to_csv('data_2015_to_2021.csv', index=False)\n"
   ]
  }
 ],
 "metadata": {
  "kernelspec": {
   "display_name": "final582",
   "language": "python",
   "name": "python3"
  },
  "language_info": {
   "codemirror_mode": {
    "name": "ipython",
    "version": 3
   },
   "file_extension": ".py",
   "mimetype": "text/x-python",
   "name": "python",
   "nbconvert_exporter": "python",
   "pygments_lexer": "ipython3",
   "version": "3.9.16"
  },
  "orig_nbformat": 4
 },
 "nbformat": 4,
 "nbformat_minor": 2
}
