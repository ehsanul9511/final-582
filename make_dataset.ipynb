{
 "cells": [
  {
   "cell_type": "code",
   "execution_count": 14,
   "metadata": {},
   "outputs": [],
   "source": [
    "import pandas as pd"
   ]
  },
  {
   "cell_type": "code",
   "execution_count": 15,
   "metadata": {},
   "outputs": [],
   "source": [
    "df = pd.read_csv('data_2015_to_2021_with_topics.csv')\n",
    "wiki_df = pd.read_csv('data_2015_to_2021_with_context.csv')"
   ]
  },
  {
   "cell_type": "code",
   "execution_count": 16,
   "metadata": {},
   "outputs": [],
   "source": [
    "# merge the two dataframes using index\n",
    "df = df.merge(wiki_df, left_index=True, right_index=True)"
   ]
  },
  {
   "cell_type": "code",
   "execution_count": 17,
   "metadata": {},
   "outputs": [],
   "source": [
    "df = df[['comments', 'context']]"
   ]
  },
  {
   "cell_type": "code",
   "execution_count": 18,
   "metadata": {},
   "outputs": [],
   "source": [
    "# drop rows with context as empty string\n",
    "df = df[df['context'] != '']\n",
    "df = df[df['context'] != 'nan']"
   ]
  },
  {
   "cell_type": "code",
   "execution_count": 19,
   "metadata": {},
   "outputs": [],
   "source": [
    "import ast\n",
    "df['comments'] = df['comments'].apply(ast.literal_eval)"
   ]
  },
  {
   "cell_type": "code",
   "execution_count": 20,
   "metadata": {},
   "outputs": [],
   "source": [
    "# filter rows that does not have topic in the comments\n",
    "z = lambda x: 'topic' in x['comments'][0]\n",
    "\n",
    "df = df[df.apply(z, axis=1)]"
   ]
  },
  {
   "cell_type": "code",
   "execution_count": 21,
   "metadata": {},
   "outputs": [],
   "source": [
    "# pivot the dataframe to have one comment per row\n",
    "df_new = df.explode('comments')"
   ]
  },
  {
   "cell_type": "code",
   "execution_count": 22,
   "metadata": {},
   "outputs": [],
   "source": [
    "# drop rows that have comments with no topic\n",
    "df_new = df_new[df_new['comments'].apply(lambda x: 'topic' in x)]"
   ]
  },
  {
   "cell_type": "code",
   "execution_count": 23,
   "metadata": {},
   "outputs": [],
   "source": [
    "df_new['question'] = df_new['comments'].apply(lambda x: x['body'])\n",
    "df_new['topic'] = df_new['comments'].apply(lambda x: x['topic'])\n",
    "\n",
    "# strip whitespaces from the topic\n",
    "df_new['topic'] = df_new['topic'].apply(lambda x: x.strip())\n",
    "\n",
    "df_new = df_new[['context', 'question', 'topic']]"
   ]
  },
  {
   "cell_type": "code",
   "execution_count": 24,
   "metadata": {},
   "outputs": [],
   "source": [
    "# df_new[['question', 'topic']].to_csv('qa_evaluator.csv', index=False)\n",
    "qa_evaluator = df_new[['question', 'topic']].copy()\n",
    "\n",
    "# reset the index\n",
    "qa_evaluator.reset_index(drop=True, inplace=True)\n",
    "\n",
    "# split the dataframe into train and val using pandas\n",
    "train = qa_evaluator.sample(frac=0.5, random_state=42)\n",
    "val = qa_evaluator.drop(train.index)\n",
    "\n",
    "# save the train and val dataframes\n",
    "train.to_csv('qt_evaluator_train.csv', index=False)\n",
    "val.to_csv('qt_evaluator_val.csv', index=False)"
   ]
  },
  {
   "cell_type": "code",
   "execution_count": 25,
   "metadata": {},
   "outputs": [],
   "source": [
    "df_new['text'] = df_new.apply(lambda x: f'<topic> {x[\"topic\"]} <context> {x[\"context\"]}', axis=1)"
   ]
  },
  {
   "cell_type": "code",
   "execution_count": 26,
   "metadata": {},
   "outputs": [],
   "source": [
    "# df_new[['question', 'text']].to_csv('question_generator.csv', index=False)\n",
    "question_generator = df_new[['question', 'text']].copy()\n",
    "\n",
    "# reset the index\n",
    "question_generator.reset_index(drop=True, inplace=True)\n",
    "\n",
    "# split the dataframe into train and val using pandas\n",
    "train = question_generator.sample(frac=0.5, random_state=42)\n",
    "val = question_generator.drop(train.index)\n",
    "\n",
    "# save the train and val dataframes\n",
    "train.to_csv('question_generator_train.csv', index=False)\n",
    "val.to_csv('question_generator_val.csv', index=False)"
   ]
  }
 ],
 "metadata": {
  "kernelspec": {
   "display_name": "final582",
   "language": "python",
   "name": "python3"
  },
  "language_info": {
   "codemirror_mode": {
    "name": "ipython",
    "version": 3
   },
   "file_extension": ".py",
   "mimetype": "text/x-python",
   "name": "python",
   "nbconvert_exporter": "python",
   "pygments_lexer": "ipython3",
   "version": "3.9.16"
  },
  "orig_nbformat": 4
 },
 "nbformat": 4,
 "nbformat_minor": 2
}
