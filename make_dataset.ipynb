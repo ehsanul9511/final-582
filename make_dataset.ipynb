{
 "cells": [
  {
   "cell_type": "code",
   "execution_count": 72,
   "metadata": {},
   "outputs": [],
   "source": [
    "import pandas as pd\n",
    "import numpy as np"
   ]
  },
  {
   "cell_type": "code",
   "execution_count": 41,
   "metadata": {},
   "outputs": [],
   "source": [
    "df = pd.read_csv('data_2015_to_2021_with_topics.csv')\n",
    "wiki_df = pd.read_csv('data_2015_to_2021_with_context.csv')"
   ]
  },
  {
   "cell_type": "code",
   "execution_count": 42,
   "metadata": {},
   "outputs": [],
   "source": [
    "# merge the two dataframes using index\n",
    "df = df.merge(wiki_df, left_index=True, right_index=True)"
   ]
  },
  {
   "cell_type": "code",
   "execution_count": 43,
   "metadata": {},
   "outputs": [],
   "source": [
    "df = df[['comments', 'context']]"
   ]
  },
  {
   "cell_type": "code",
   "execution_count": 44,
   "metadata": {},
   "outputs": [],
   "source": [
    "# drop rows with context as empty string\n",
    "df = df[df['context'] != '']\n",
    "df = df[df['context'] != 'nan']"
   ]
  },
  {
   "cell_type": "code",
   "execution_count": 45,
   "metadata": {},
   "outputs": [],
   "source": [
    "import ast\n",
    "df['comments'] = df['comments'].apply(ast.literal_eval)"
   ]
  },
  {
   "cell_type": "code",
   "execution_count": 46,
   "metadata": {},
   "outputs": [],
   "source": [
    "# filter rows that does not have topic in the comments\n",
    "z = lambda x: 'topic' in x['comments'][0]\n",
    "\n",
    "df = df[df.apply(z, axis=1)]"
   ]
  },
  {
   "cell_type": "code",
   "execution_count": 89,
   "metadata": {},
   "outputs": [],
   "source": [
    "# pivot the dataframe to have one comment per row\n",
    "df_new = df.explode('comments')"
   ]
  },
  {
   "cell_type": "code",
   "execution_count": 90,
   "metadata": {},
   "outputs": [],
   "source": [
    "df_new['context_index'] = df_new.index"
   ]
  },
  {
   "cell_type": "code",
   "execution_count": 91,
   "metadata": {},
   "outputs": [],
   "source": [
    "# create a new column label and randomly assign 1 or 0 to it\n",
    "import random\n",
    "df_new['label'] = df_new['context_index'].apply(lambda x: random.randint(0, 1))"
   ]
  },
  {
   "cell_type": "code",
   "execution_count": 92,
   "metadata": {},
   "outputs": [],
   "source": [
    "# if label is 1, do not change the context\n",
    "# if label is 0, change the context to a random context using the context_index column and df\n",
    "def change_context(row):\n",
    "    if row['label'] == 0:\n",
    "        incorrect_context_index = row['context_index']\n",
    "        while incorrect_context_index == row['context_index']:\n",
    "            incorrect_context_index = random.randint(0, len(df) - 1)\n",
    "        row['context'] = df.iloc[incorrect_context_index]['context']\n",
    "    return row\n",
    "\n",
    "df_new = df_new.apply(change_context, axis=1)"
   ]
  },
  {
   "cell_type": "code",
   "execution_count": 93,
   "metadata": {},
   "outputs": [],
   "source": [
    "# drop rows with context as NaN\n",
    "df_new = df_new.dropna(subset=['context'])"
   ]
  },
  {
   "cell_type": "code",
   "execution_count": 94,
   "metadata": {},
   "outputs": [],
   "source": [
    "# drop rows that have comments with no topic\n",
    "df_new = df_new[df_new['comments'].apply(lambda x: 'topic' in x)]"
   ]
  },
  {
   "cell_type": "code",
   "execution_count": 95,
   "metadata": {},
   "outputs": [],
   "source": [
    "df_new['question'] = df_new['comments'].apply(lambda x: x['body'])\n",
    "df_new['topic'] = df_new['comments'].apply(lambda x: x['topic'])\n",
    "\n",
    "# strip whitespaces from the topic\n",
    "df_new['topic'] = df_new['topic'].apply(lambda x: x.strip())\n"
   ]
  },
  {
   "cell_type": "code",
   "execution_count": 97,
   "metadata": {},
   "outputs": [],
   "source": [
    "# df_new[['question', 'topic']].to_csv('question_ranking_data.csv', index=False)\n",
    "question_ranking_data = df_new[['question', 'context', 'label']].copy()\n",
    "\n",
    "# reset the index\n",
    "question_ranking_data.reset_index(drop=True, inplace=True)\n",
    "\n",
    "# split the dataframe into train and val using pandas\n",
    "train = question_ranking_data.sample(frac=0.5, random_state=42)\n",
    "val = question_ranking_data.drop(train.index)\n",
    "\n",
    "# save the train and val dataframes\n",
    "train.to_csv('question_ranking_data_train.csv', index=False)\n",
    "val.to_csv('question_ranking_data_val.csv', index=False)"
   ]
  },
  {
   "cell_type": "code",
   "execution_count": 38,
   "metadata": {},
   "outputs": [],
   "source": [
    "df_new['text'] = df_new.apply(lambda x: f'<topic> {x[\"topic\"]} <context> {x[\"context\"]}', axis=1)"
   ]
  },
  {
   "cell_type": "code",
   "execution_count": 39,
   "metadata": {},
   "outputs": [],
   "source": [
    "# df_new[['question', 'text']].to_csv('question_generator.csv', index=False)\n",
    "question_generator = df_new[['question', 'text']].copy()\n",
    "\n",
    "# reset the index\n",
    "question_generator.reset_index(drop=True, inplace=True)\n",
    "\n",
    "# split the dataframe into train and val using pandas\n",
    "train = question_generator.sample(frac=0.5, random_state=42)\n",
    "val = question_generator.drop(train.index)\n",
    "\n",
    "# save the train and val dataframes\n",
    "train.to_csv('question_generator_train.csv', index=False)\n",
    "val.to_csv('question_generator_val.csv', index=False)"
   ]
  }
 ],
 "metadata": {
  "kernelspec": {
   "display_name": "final582",
   "language": "python",
   "name": "python3"
  },
  "language_info": {
   "codemirror_mode": {
    "name": "ipython",
    "version": 3
   },
   "file_extension": ".py",
   "mimetype": "text/x-python",
   "name": "python",
   "nbconvert_exporter": "python",
   "pygments_lexer": "ipython3",
   "version": "3.9.16"
  },
  "orig_nbformat": 4
 },
 "nbformat": 4,
 "nbformat_minor": 2
}
