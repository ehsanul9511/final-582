{
  "cells": [
    {
      "cell_type": "code",
      "execution_count": 1,
      "metadata": {
        "colab": {
          "base_uri": "https://localhost:8080/"
        },
        "id": "F87Jj2Mp-t-W",
        "outputId": "3d35d7bf-aa51-40ba-8031-ff168b9d95ee"
      },
      "outputs": [
        {
          "name": "stdout",
          "output_type": "stream",
          "text": [
            "Collecting praw\n",
            "  Using cached praw-7.7.0-py3-none-any.whl (189 kB)\n",
            "Collecting prawcore<3,>=2.1 (from praw)\n",
            "  Using cached prawcore-2.3.0-py3-none-any.whl (16 kB)\n",
            "Collecting update-checker>=0.18 (from praw)\n",
            "  Using cached update_checker-0.18.0-py3-none-any.whl (7.0 kB)\n",
            "Collecting websocket-client>=0.54.0 (from praw)\n",
            "  Using cached websocket_client-1.5.1-py3-none-any.whl (55 kB)\n",
            "Collecting requests<3.0,>=2.6.0 (from prawcore<3,>=2.1->praw)\n",
            "  Using cached requests-2.29.0-py3-none-any.whl (62 kB)\n",
            "Collecting charset-normalizer<4,>=2 (from requests<3.0,>=2.6.0->prawcore<3,>=2.1->praw)\n",
            "  Downloading charset_normalizer-3.1.0-cp311-cp311-macosx_11_0_arm64.whl (121 kB)\n",
            "\u001b[2K     \u001b[90m━━━━━━━━━━━━━━━━━━━━━━━━━━━━━━━━━━━━━━━\u001b[0m \u001b[32m121.7/121.7 kB\u001b[0m \u001b[31m2.4 MB/s\u001b[0m eta \u001b[36m0:00:00\u001b[0ma \u001b[36m0:00:01\u001b[0m\n",
            "\u001b[?25hCollecting idna<4,>=2.5 (from requests<3.0,>=2.6.0->prawcore<3,>=2.1->praw)\n",
            "  Using cached idna-3.4-py3-none-any.whl (61 kB)\n",
            "Collecting urllib3<1.27,>=1.21.1 (from requests<3.0,>=2.6.0->prawcore<3,>=2.1->praw)\n",
            "  Using cached urllib3-1.26.15-py2.py3-none-any.whl (140 kB)\n",
            "Collecting certifi>=2017.4.17 (from requests<3.0,>=2.6.0->prawcore<3,>=2.1->praw)\n",
            "  Using cached certifi-2022.12.7-py3-none-any.whl (155 kB)\n",
            "Installing collected packages: websocket-client, urllib3, idna, charset-normalizer, certifi, requests, update-checker, prawcore, praw\n",
            "Successfully installed certifi-2022.12.7 charset-normalizer-3.1.0 idna-3.4 praw-7.7.0 prawcore-2.3.0 requests-2.29.0 update-checker-0.18.0 urllib3-1.26.15 websocket-client-1.5.1\n"
          ]
        }
      ],
      "source": [
        "!pip install praw"
      ]
    },
    {
      "cell_type": "code",
      "execution_count": 8,
      "metadata": {},
      "outputs": [
        {
          "name": "stdout",
          "output_type": "stream",
          "text": [
            "Collecting pandas\n",
            "  Downloading pandas-2.0.1-cp311-cp311-macosx_11_0_arm64.whl (10.7 MB)\n",
            "\u001b[2K     \u001b[90m━━━━━━━━━━━━━━━━━━━━━━━━━━━━━━━━━━━━━━━━\u001b[0m \u001b[32m10.7/10.7 MB\u001b[0m \u001b[31m13.1 MB/s\u001b[0m eta \u001b[36m0:00:00\u001b[0m00:01\u001b[0m00:01\u001b[0m\n",
            "\u001b[?25hRequirement already satisfied: python-dateutil>=2.8.2 in /Users/ehsanulkabir/miniconda/envs/torrent/lib/python3.11/site-packages (from pandas) (2.8.2)\n",
            "Collecting pytz>=2020.1 (from pandas)\n",
            "  Using cached pytz-2023.3-py2.py3-none-any.whl (502 kB)\n",
            "Collecting tzdata>=2022.1 (from pandas)\n",
            "  Using cached tzdata-2023.3-py2.py3-none-any.whl (341 kB)\n",
            "Collecting numpy>=1.21.0 (from pandas)\n",
            "  Downloading numpy-1.24.3-cp311-cp311-macosx_11_0_arm64.whl (13.8 MB)\n",
            "\u001b[2K     \u001b[90m━━━━━━━━━━━━━━━━━━━━━━━━━━━━━━━━━━━━━━━━\u001b[0m \u001b[32m13.8/13.8 MB\u001b[0m \u001b[31m3.5 MB/s\u001b[0m eta \u001b[36m0:00:00\u001b[0m00:01\u001b[0m00:01\u001b[0m\n",
            "\u001b[?25hRequirement already satisfied: six>=1.5 in /Users/ehsanulkabir/miniconda/envs/torrent/lib/python3.11/site-packages (from python-dateutil>=2.8.2->pandas) (1.16.0)\n",
            "Installing collected packages: pytz, tzdata, numpy, pandas\n",
            "Successfully installed numpy-1.24.3 pandas-2.0.1 pytz-2023.3 tzdata-2023.3\n"
          ]
        }
      ],
      "source": [
        "!pip install pandas"
      ]
    },
    {
      "cell_type": "code",
      "execution_count": 2,
      "metadata": {
        "id": "pq4Vvsj0_Ga3"
      },
      "outputs": [],
      "source": [
        "import praw"
      ]
    },
    {
      "cell_type": "code",
      "execution_count": 3,
      "metadata": {
        "id": "PlhUitj-_R3a"
      },
      "outputs": [],
      "source": [
        "reddit = praw.Reddit(client_id = \"JgHZRyaH_Ya0sSPJ4WB4ZA\", client_secret=\"yNybsXSQCZVR-r-2mo0Ribuae-zKgw\", user_agent=\"scrape\")"
      ]
    },
    {
      "cell_type": "code",
      "execution_count": 4,
      "metadata": {
        "id": "8T5_c7tT_arh"
      },
      "outputs": [],
      "source": [
        "subreddit_name = \"IAmA\""
      ]
    },
    {
      "cell_type": "code",
      "execution_count": 5,
      "metadata": {
        "id": "C64jn5oP_5eE"
      },
      "outputs": [],
      "source": [
        "subreddit = reddit.subreddit(subreddit_name)"
      ]
    },
    {
      "cell_type": "code",
      "execution_count": 6,
      "metadata": {},
      "outputs": [],
      "source": [
        "# Get top 1000 posts from subreddit\n",
        "top_subreddit = subreddit.top(limit=1000)\n",
        "\n",
        "# Create a list of posts\n",
        "posts = []\n",
        "for post in top_subreddit:\n",
        "    posts.append([post.title, post.score, post.id, post.subreddit, post.url, post.num_comments, post.selftext, post.created])"
      ]
    },
    {
      "cell_type": "code",
      "execution_count": 9,
      "metadata": {},
      "outputs": [],
      "source": [
        "# Create a dataframe from the list of posts\n",
        "import pandas as pd\n",
        "import numpy as np\n",
        "\n",
        "posts = pd.DataFrame(posts,columns=['title', 'score', 'id', 'subreddit', 'url', 'num_comments', 'body', 'created'])"
      ]
    },
    {
      "cell_type": "code",
      "execution_count": 10,
      "metadata": {},
      "outputs": [
        {
          "data": {
            "text/html": [
              "<div>\n",
              "<style scoped>\n",
              "    .dataframe tbody tr th:only-of-type {\n",
              "        vertical-align: middle;\n",
              "    }\n",
              "\n",
              "    .dataframe tbody tr th {\n",
              "        vertical-align: top;\n",
              "    }\n",
              "\n",
              "    .dataframe thead th {\n",
              "        text-align: right;\n",
              "    }\n",
              "</style>\n",
              "<table border=\"1\" class=\"dataframe\">\n",
              "  <thead>\n",
              "    <tr style=\"text-align: right;\">\n",
              "      <th></th>\n",
              "      <th>title</th>\n",
              "      <th>score</th>\n",
              "      <th>id</th>\n",
              "      <th>subreddit</th>\n",
              "      <th>url</th>\n",
              "      <th>num_comments</th>\n",
              "      <th>body</th>\n",
              "      <th>created</th>\n",
              "    </tr>\n",
              "  </thead>\n",
              "  <tbody>\n",
              "    <tr>\n",
              "      <th>0</th>\n",
              "      <td>I am Barack Obama, President of the United Sta...</td>\n",
              "      <td>216186</td>\n",
              "      <td>z1c9z</td>\n",
              "      <td>IAmA</td>\n",
              "      <td>https://www.reddit.com/r/IAmA/comments/z1c9z/i...</td>\n",
              "      <td>22903</td>\n",
              "      <td>Hi, I’m Barack Obama, President of the United ...</td>\n",
              "      <td>1.346270e+09</td>\n",
              "    </tr>\n",
              "    <tr>\n",
              "      <th>1</th>\n",
              "      <td>Protect Net Neutrality. Save the Internet.</td>\n",
              "      <td>201657</td>\n",
              "      <td>7eojwf</td>\n",
              "      <td>IAmA</td>\n",
              "      <td>https://www.battleforthenet.com/</td>\n",
              "      <td>2713</td>\n",
              "      <td></td>\n",
              "      <td>1.511329e+09</td>\n",
              "    </tr>\n",
              "    <tr>\n",
              "      <th>2</th>\n",
              "      <td>[AMA Request] Victoria, ex-AMA mod</td>\n",
              "      <td>126772</td>\n",
              "      <td>3c0iw2</td>\n",
              "      <td>IAmA</td>\n",
              "      <td>https://www.reddit.com/r/IAmA/comments/3c0iw2/...</td>\n",
              "      <td>2786</td>\n",
              "      <td>**My 6 Questions:**\\n\\n1. How did you enjoy yo...</td>\n",
              "      <td>1.435945e+09</td>\n",
              "    </tr>\n",
              "    <tr>\n",
              "      <th>3</th>\n",
              "      <td>FCC just voted to kill Net Neutrality. Now we ...</td>\n",
              "      <td>121801</td>\n",
              "      <td>7jtes4</td>\n",
              "      <td>IAmA</td>\n",
              "      <td>https://www.reddit.com/r/IAmA/comments/7jtes4/...</td>\n",
              "      <td>2609</td>\n",
              "      <td>The FCC just voted to throw out the Net Neutra...</td>\n",
              "      <td>1.513275e+09</td>\n",
              "    </tr>\n",
              "    <tr>\n",
              "      <th>4</th>\n",
              "      <td>I’m American citizen, undecided voter, loving ...</td>\n",
              "      <td>116911</td>\n",
              "      <td>57dw9a</td>\n",
              "      <td>IAmA</td>\n",
              "      <td>https://www.reddit.com/r/IAmA/comments/57dw9a/...</td>\n",
              "      <td>16684</td>\n",
              "      <td>Hello Reddit,\\n\\nI’m just a normal guy, who sp...</td>\n",
              "      <td>1.476408e+09</td>\n",
              "    </tr>\n",
              "    <tr>\n",
              "      <th>...</th>\n",
              "      <td>...</td>\n",
              "      <td>...</td>\n",
              "      <td>...</td>\n",
              "      <td>...</td>\n",
              "      <td>...</td>\n",
              "      <td>...</td>\n",
              "      <td>...</td>\n",
              "      <td>...</td>\n",
              "    </tr>\n",
              "    <tr>\n",
              "      <th>993</th>\n",
              "      <td>[AMA Request] The Duke University scientists w...</td>\n",
              "      <td>11716</td>\n",
              "      <td>6xtwmm</td>\n",
              "      <td>IAmA</td>\n",
              "      <td>https://www.reddit.com/r/IAmA/comments/6xtwmm/...</td>\n",
              "      <td>152</td>\n",
              "      <td>This is an amazing discovery! Thank you for yo...</td>\n",
              "      <td>1.504454e+09</td>\n",
              "    </tr>\n",
              "    <tr>\n",
              "      <th>994</th>\n",
              "      <td>[AMA Request] Chris Pratt</td>\n",
              "      <td>11684</td>\n",
              "      <td>2cok8r</td>\n",
              "      <td>IAmA</td>\n",
              "      <td>https://www.reddit.com/r/IAmA/comments/2cok8r/...</td>\n",
              "      <td>597</td>\n",
              "      <td>The amount of Chris Pratt I've seen on reddit ...</td>\n",
              "      <td>1.407241e+09</td>\n",
              "    </tr>\n",
              "    <tr>\n",
              "      <th>995</th>\n",
              "      <td>IamA 90 year old coal miner and WW2 and Korean...</td>\n",
              "      <td>11685</td>\n",
              "      <td>3ugwhx</td>\n",
              "      <td>IAmA</td>\n",
              "      <td>https://www.reddit.com/r/IAmA/comments/3ugwhx/...</td>\n",
              "      <td>1787</td>\n",
              "      <td>I'm his grandson and will be fielding the ques...</td>\n",
              "      <td>1.448635e+09</td>\n",
              "    </tr>\n",
              "    <tr>\n",
              "      <th>996</th>\n",
              "      <td>We are engineers from Zipline, the largest aut...</td>\n",
              "      <td>11316</td>\n",
              "      <td>120tytk</td>\n",
              "      <td>IAmA</td>\n",
              "      <td>https://www.reddit.com/r/IAmA/comments/120tytk...</td>\n",
              "      <td>804</td>\n",
              "      <td>**EDIT: Thanks everyone for your questions! We...</td>\n",
              "      <td>1.679684e+09</td>\n",
              "    </tr>\n",
              "    <tr>\n",
              "      <th>997</th>\n",
              "      <td>I'm a dad who quit his job to make board games...</td>\n",
              "      <td>10817</td>\n",
              "      <td>10l0lhh</td>\n",
              "      <td>IAmA</td>\n",
              "      <td>https://www.reddit.com/r/IAmA/comments/10l0lhh...</td>\n",
              "      <td>721</td>\n",
              "      <td>In 2015 my wife and I created a board game as ...</td>\n",
              "      <td>1.674659e+09</td>\n",
              "    </tr>\n",
              "  </tbody>\n",
              "</table>\n",
              "<p>998 rows × 8 columns</p>\n",
              "</div>"
            ],
            "text/plain": [
              "                                                 title   score       id   \n",
              "0    I am Barack Obama, President of the United Sta...  216186    z1c9z  \\\n",
              "1           Protect Net Neutrality. Save the Internet.  201657   7eojwf   \n",
              "2                   [AMA Request] Victoria, ex-AMA mod  126772   3c0iw2   \n",
              "3    FCC just voted to kill Net Neutrality. Now we ...  121801   7jtes4   \n",
              "4    I’m American citizen, undecided voter, loving ...  116911   57dw9a   \n",
              "..                                                 ...     ...      ...   \n",
              "993  [AMA Request] The Duke University scientists w...   11716   6xtwmm   \n",
              "994                          [AMA Request] Chris Pratt   11684   2cok8r   \n",
              "995  IamA 90 year old coal miner and WW2 and Korean...   11685   3ugwhx   \n",
              "996  We are engineers from Zipline, the largest aut...   11316  120tytk   \n",
              "997  I'm a dad who quit his job to make board games...   10817  10l0lhh   \n",
              "\n",
              "    subreddit                                                url   \n",
              "0        IAmA  https://www.reddit.com/r/IAmA/comments/z1c9z/i...  \\\n",
              "1        IAmA                   https://www.battleforthenet.com/   \n",
              "2        IAmA  https://www.reddit.com/r/IAmA/comments/3c0iw2/...   \n",
              "3        IAmA  https://www.reddit.com/r/IAmA/comments/7jtes4/...   \n",
              "4        IAmA  https://www.reddit.com/r/IAmA/comments/57dw9a/...   \n",
              "..        ...                                                ...   \n",
              "993      IAmA  https://www.reddit.com/r/IAmA/comments/6xtwmm/...   \n",
              "994      IAmA  https://www.reddit.com/r/IAmA/comments/2cok8r/...   \n",
              "995      IAmA  https://www.reddit.com/r/IAmA/comments/3ugwhx/...   \n",
              "996      IAmA  https://www.reddit.com/r/IAmA/comments/120tytk...   \n",
              "997      IAmA  https://www.reddit.com/r/IAmA/comments/10l0lhh...   \n",
              "\n",
              "     num_comments                                               body   \n",
              "0           22903  Hi, I’m Barack Obama, President of the United ...  \\\n",
              "1            2713                                                      \n",
              "2            2786  **My 6 Questions:**\\n\\n1. How did you enjoy yo...   \n",
              "3            2609  The FCC just voted to throw out the Net Neutra...   \n",
              "4           16684  Hello Reddit,\\n\\nI’m just a normal guy, who sp...   \n",
              "..            ...                                                ...   \n",
              "993           152  This is an amazing discovery! Thank you for yo...   \n",
              "994           597  The amount of Chris Pratt I've seen on reddit ...   \n",
              "995          1787  I'm his grandson and will be fielding the ques...   \n",
              "996           804  **EDIT: Thanks everyone for your questions! We...   \n",
              "997           721  In 2015 my wife and I created a board game as ...   \n",
              "\n",
              "          created  \n",
              "0    1.346270e+09  \n",
              "1    1.511329e+09  \n",
              "2    1.435945e+09  \n",
              "3    1.513275e+09  \n",
              "4    1.476408e+09  \n",
              "..            ...  \n",
              "993  1.504454e+09  \n",
              "994  1.407241e+09  \n",
              "995  1.448635e+09  \n",
              "996  1.679684e+09  \n",
              "997  1.674659e+09  \n",
              "\n",
              "[998 rows x 8 columns]"
            ]
          },
          "execution_count": 10,
          "metadata": {},
          "output_type": "execute_result"
        }
      ],
      "source": [
        "posts"
      ]
    },
    {
      "cell_type": "code",
      "execution_count": 13,
      "metadata": {},
      "outputs": [
        {
          "ename": "OSError",
          "evalue": "[Errno 30] Read-only file system: '1000_ama_posts.csv'",
          "output_type": "error",
          "traceback": [
            "\u001b[0;31m---------------------------------------------------------------------------\u001b[0m",
            "\u001b[0;31mOSError\u001b[0m                                   Traceback (most recent call last)",
            "Cell \u001b[0;32mIn[13], line 2\u001b[0m\n\u001b[1;32m      1\u001b[0m \u001b[39m# Save dataframe to csv\u001b[39;00m\n\u001b[0;32m----> 2\u001b[0m posts\u001b[39m.\u001b[39;49mto_csv(\u001b[39m'\u001b[39;49m\u001b[39m1000_ama_posts.csv\u001b[39;49m\u001b[39m'\u001b[39;49m, index\u001b[39m=\u001b[39;49m\u001b[39mFalse\u001b[39;49;00m)\n",
            "File \u001b[0;32m~/miniconda/envs/torrent/lib/python3.11/site-packages/pandas/core/generic.py:3772\u001b[0m, in \u001b[0;36mNDFrame.to_csv\u001b[0;34m(self, path_or_buf, sep, na_rep, float_format, columns, header, index, index_label, mode, encoding, compression, quoting, quotechar, lineterminator, chunksize, date_format, doublequote, escapechar, decimal, errors, storage_options)\u001b[0m\n\u001b[1;32m   3761\u001b[0m df \u001b[39m=\u001b[39m \u001b[39mself\u001b[39m \u001b[39mif\u001b[39;00m \u001b[39misinstance\u001b[39m(\u001b[39mself\u001b[39m, ABCDataFrame) \u001b[39melse\u001b[39;00m \u001b[39mself\u001b[39m\u001b[39m.\u001b[39mto_frame()\n\u001b[1;32m   3763\u001b[0m formatter \u001b[39m=\u001b[39m DataFrameFormatter(\n\u001b[1;32m   3764\u001b[0m     frame\u001b[39m=\u001b[39mdf,\n\u001b[1;32m   3765\u001b[0m     header\u001b[39m=\u001b[39mheader,\n\u001b[0;32m   (...)\u001b[0m\n\u001b[1;32m   3769\u001b[0m     decimal\u001b[39m=\u001b[39mdecimal,\n\u001b[1;32m   3770\u001b[0m )\n\u001b[0;32m-> 3772\u001b[0m \u001b[39mreturn\u001b[39;00m DataFrameRenderer(formatter)\u001b[39m.\u001b[39;49mto_csv(\n\u001b[1;32m   3773\u001b[0m     path_or_buf,\n\u001b[1;32m   3774\u001b[0m     lineterminator\u001b[39m=\u001b[39;49mlineterminator,\n\u001b[1;32m   3775\u001b[0m     sep\u001b[39m=\u001b[39;49msep,\n\u001b[1;32m   3776\u001b[0m     encoding\u001b[39m=\u001b[39;49mencoding,\n\u001b[1;32m   3777\u001b[0m     errors\u001b[39m=\u001b[39;49merrors,\n\u001b[1;32m   3778\u001b[0m     compression\u001b[39m=\u001b[39;49mcompression,\n\u001b[1;32m   3779\u001b[0m     quoting\u001b[39m=\u001b[39;49mquoting,\n\u001b[1;32m   3780\u001b[0m     columns\u001b[39m=\u001b[39;49mcolumns,\n\u001b[1;32m   3781\u001b[0m     index_label\u001b[39m=\u001b[39;49mindex_label,\n\u001b[1;32m   3782\u001b[0m     mode\u001b[39m=\u001b[39;49mmode,\n\u001b[1;32m   3783\u001b[0m     chunksize\u001b[39m=\u001b[39;49mchunksize,\n\u001b[1;32m   3784\u001b[0m     quotechar\u001b[39m=\u001b[39;49mquotechar,\n\u001b[1;32m   3785\u001b[0m     date_format\u001b[39m=\u001b[39;49mdate_format,\n\u001b[1;32m   3786\u001b[0m     doublequote\u001b[39m=\u001b[39;49mdoublequote,\n\u001b[1;32m   3787\u001b[0m     escapechar\u001b[39m=\u001b[39;49mescapechar,\n\u001b[1;32m   3788\u001b[0m     storage_options\u001b[39m=\u001b[39;49mstorage_options,\n\u001b[1;32m   3789\u001b[0m )\n",
            "File \u001b[0;32m~/miniconda/envs/torrent/lib/python3.11/site-packages/pandas/io/formats/format.py:1186\u001b[0m, in \u001b[0;36mDataFrameRenderer.to_csv\u001b[0;34m(self, path_or_buf, encoding, sep, columns, index_label, mode, compression, quoting, quotechar, lineterminator, chunksize, date_format, doublequote, escapechar, errors, storage_options)\u001b[0m\n\u001b[1;32m   1165\u001b[0m     created_buffer \u001b[39m=\u001b[39m \u001b[39mFalse\u001b[39;00m\n\u001b[1;32m   1167\u001b[0m csv_formatter \u001b[39m=\u001b[39m CSVFormatter(\n\u001b[1;32m   1168\u001b[0m     path_or_buf\u001b[39m=\u001b[39mpath_or_buf,\n\u001b[1;32m   1169\u001b[0m     lineterminator\u001b[39m=\u001b[39mlineterminator,\n\u001b[0;32m   (...)\u001b[0m\n\u001b[1;32m   1184\u001b[0m     formatter\u001b[39m=\u001b[39m\u001b[39mself\u001b[39m\u001b[39m.\u001b[39mfmt,\n\u001b[1;32m   1185\u001b[0m )\n\u001b[0;32m-> 1186\u001b[0m csv_formatter\u001b[39m.\u001b[39;49msave()\n\u001b[1;32m   1188\u001b[0m \u001b[39mif\u001b[39;00m created_buffer:\n\u001b[1;32m   1189\u001b[0m     \u001b[39massert\u001b[39;00m \u001b[39misinstance\u001b[39m(path_or_buf, StringIO)\n",
            "File \u001b[0;32m~/miniconda/envs/torrent/lib/python3.11/site-packages/pandas/io/formats/csvs.py:240\u001b[0m, in \u001b[0;36mCSVFormatter.save\u001b[0;34m(self)\u001b[0m\n\u001b[1;32m    236\u001b[0m \u001b[39m\u001b[39m\u001b[39m\"\"\"\u001b[39;00m\n\u001b[1;32m    237\u001b[0m \u001b[39mCreate the writer & save.\u001b[39;00m\n\u001b[1;32m    238\u001b[0m \u001b[39m\"\"\"\u001b[39;00m\n\u001b[1;32m    239\u001b[0m \u001b[39m# apply compression and byte/text conversion\u001b[39;00m\n\u001b[0;32m--> 240\u001b[0m \u001b[39mwith\u001b[39;00m get_handle(\n\u001b[1;32m    241\u001b[0m     \u001b[39mself\u001b[39;49m\u001b[39m.\u001b[39;49mfilepath_or_buffer,\n\u001b[1;32m    242\u001b[0m     \u001b[39mself\u001b[39;49m\u001b[39m.\u001b[39;49mmode,\n\u001b[1;32m    243\u001b[0m     encoding\u001b[39m=\u001b[39;49m\u001b[39mself\u001b[39;49m\u001b[39m.\u001b[39;49mencoding,\n\u001b[1;32m    244\u001b[0m     errors\u001b[39m=\u001b[39;49m\u001b[39mself\u001b[39;49m\u001b[39m.\u001b[39;49merrors,\n\u001b[1;32m    245\u001b[0m     compression\u001b[39m=\u001b[39;49m\u001b[39mself\u001b[39;49m\u001b[39m.\u001b[39;49mcompression,\n\u001b[1;32m    246\u001b[0m     storage_options\u001b[39m=\u001b[39;49m\u001b[39mself\u001b[39;49m\u001b[39m.\u001b[39;49mstorage_options,\n\u001b[1;32m    247\u001b[0m ) \u001b[39mas\u001b[39;00m handles:\n\u001b[1;32m    248\u001b[0m     \u001b[39m# Note: self.encoding is irrelevant here\u001b[39;00m\n\u001b[1;32m    249\u001b[0m     \u001b[39mself\u001b[39m\u001b[39m.\u001b[39mwriter \u001b[39m=\u001b[39m csvlib\u001b[39m.\u001b[39mwriter(\n\u001b[1;32m    250\u001b[0m         handles\u001b[39m.\u001b[39mhandle,\n\u001b[1;32m    251\u001b[0m         lineterminator\u001b[39m=\u001b[39m\u001b[39mself\u001b[39m\u001b[39m.\u001b[39mlineterminator,\n\u001b[0;32m   (...)\u001b[0m\n\u001b[1;32m    256\u001b[0m         quotechar\u001b[39m=\u001b[39m\u001b[39mself\u001b[39m\u001b[39m.\u001b[39mquotechar,\n\u001b[1;32m    257\u001b[0m     )\n\u001b[1;32m    259\u001b[0m     \u001b[39mself\u001b[39m\u001b[39m.\u001b[39m_save()\n",
            "File \u001b[0;32m~/miniconda/envs/torrent/lib/python3.11/site-packages/pandas/io/common.py:859\u001b[0m, in \u001b[0;36mget_handle\u001b[0;34m(path_or_buf, mode, encoding, compression, memory_map, is_text, errors, storage_options)\u001b[0m\n\u001b[1;32m    854\u001b[0m \u001b[39melif\u001b[39;00m \u001b[39misinstance\u001b[39m(handle, \u001b[39mstr\u001b[39m):\n\u001b[1;32m    855\u001b[0m     \u001b[39m# Check whether the filename is to be opened in binary mode.\u001b[39;00m\n\u001b[1;32m    856\u001b[0m     \u001b[39m# Binary mode does not support 'encoding' and 'newline'.\u001b[39;00m\n\u001b[1;32m    857\u001b[0m     \u001b[39mif\u001b[39;00m ioargs\u001b[39m.\u001b[39mencoding \u001b[39mand\u001b[39;00m \u001b[39m\"\u001b[39m\u001b[39mb\u001b[39m\u001b[39m\"\u001b[39m \u001b[39mnot\u001b[39;00m \u001b[39min\u001b[39;00m ioargs\u001b[39m.\u001b[39mmode:\n\u001b[1;32m    858\u001b[0m         \u001b[39m# Encoding\u001b[39;00m\n\u001b[0;32m--> 859\u001b[0m         handle \u001b[39m=\u001b[39m \u001b[39mopen\u001b[39;49m(\n\u001b[1;32m    860\u001b[0m             handle,\n\u001b[1;32m    861\u001b[0m             ioargs\u001b[39m.\u001b[39;49mmode,\n\u001b[1;32m    862\u001b[0m             encoding\u001b[39m=\u001b[39;49mioargs\u001b[39m.\u001b[39;49mencoding,\n\u001b[1;32m    863\u001b[0m             errors\u001b[39m=\u001b[39;49merrors,\n\u001b[1;32m    864\u001b[0m             newline\u001b[39m=\u001b[39;49m\u001b[39m\"\u001b[39;49m\u001b[39m\"\u001b[39;49m,\n\u001b[1;32m    865\u001b[0m         )\n\u001b[1;32m    866\u001b[0m     \u001b[39melse\u001b[39;00m:\n\u001b[1;32m    867\u001b[0m         \u001b[39m# Binary mode\u001b[39;00m\n\u001b[1;32m    868\u001b[0m         handle \u001b[39m=\u001b[39m \u001b[39mopen\u001b[39m(handle, ioargs\u001b[39m.\u001b[39mmode)\n",
            "\u001b[0;31mOSError\u001b[0m: [Errno 30] Read-only file system: '1000_ama_posts.csv'"
          ]
        }
      ],
      "source": [
        "# Save dataframe to csv\n",
        "posts.to_csv('1000_ama_posts.csv', index=False)"
      ]
    }
  ],
  "metadata": {
    "colab": {
      "provenance": []
    },
    "kernelspec": {
      "display_name": "Python 3",
      "name": "python3"
    },
    "language_info": {
      "codemirror_mode": {
        "name": "ipython",
        "version": 3
      },
      "file_extension": ".py",
      "mimetype": "text/x-python",
      "name": "python",
      "nbconvert_exporter": "python",
      "pygments_lexer": "ipython3",
      "version": "3.11.3"
    }
  },
  "nbformat": 4,
  "nbformat_minor": 0
}
