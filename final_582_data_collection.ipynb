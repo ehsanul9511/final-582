{
  "cells": [
    {
      "cell_type": "code",
      "execution_count": 56,
      "metadata": {
        "colab": {
          "base_uri": "https://localhost:8080/"
        },
        "id": "F87Jj2Mp-t-W",
        "outputId": "3d35d7bf-aa51-40ba-8031-ff168b9d95ee"
      },
      "outputs": [
        {
          "name": "stdout",
          "output_type": "stream",
          "text": [
            "Requirement already satisfied: praw in /Users/ehsanulkabir/miniconda/envs/final582/lib/python3.9/site-packages (7.7.0)\n",
            "Collecting wikipedia-api\n",
            "  Downloading Wikipedia_API-0.5.8-py3-none-any.whl (13 kB)\n",
            "Requirement already satisfied: update-checker>=0.18 in /Users/ehsanulkabir/miniconda/envs/final582/lib/python3.9/site-packages (from praw) (0.18.0)\n",
            "Requirement already satisfied: prawcore<3,>=2.1 in /Users/ehsanulkabir/miniconda/envs/final582/lib/python3.9/site-packages (from praw) (2.3.0)\n",
            "Requirement already satisfied: websocket-client>=0.54.0 in /Users/ehsanulkabir/miniconda/envs/final582/lib/python3.9/site-packages (from praw) (1.5.1)\n",
            "Requirement already satisfied: requests in /Users/ehsanulkabir/miniconda/envs/final582/lib/python3.9/site-packages (from wikipedia-api) (2.29.0)\n",
            "Requirement already satisfied: urllib3<1.27,>=1.21.1 in /Users/ehsanulkabir/miniconda/envs/final582/lib/python3.9/site-packages (from requests->wikipedia-api) (1.26.15)\n",
            "Requirement already satisfied: certifi>=2017.4.17 in /Users/ehsanulkabir/miniconda/envs/final582/lib/python3.9/site-packages (from requests->wikipedia-api) (2022.12.7)\n",
            "Requirement already satisfied: charset-normalizer<4,>=2 in /Users/ehsanulkabir/miniconda/envs/final582/lib/python3.9/site-packages (from requests->wikipedia-api) (3.1.0)\n",
            "Requirement already satisfied: idna<4,>=2.5 in /Users/ehsanulkabir/miniconda/envs/final582/lib/python3.9/site-packages (from requests->wikipedia-api) (3.4)\n",
            "Installing collected packages: wikipedia-api\n",
            "Successfully installed wikipedia-api-0.5.8\n"
          ]
        }
      ],
      "source": [
        "!pip install praw wikipedia-api"
      ]
    },
    {
      "cell_type": "code",
      "execution_count": 2,
      "metadata": {},
      "outputs": [
        {
          "name": "stdout",
          "output_type": "stream",
          "text": [
            "Collecting pandas\n",
            "  Downloading pandas-2.0.1-cp39-cp39-macosx_11_0_arm64.whl (10.9 MB)\n",
            "\u001b[2K     \u001b[90m━━━━━━━━━━━━━━━━━━━━━━━━━━━━━━━━━━━━━━━━\u001b[0m \u001b[32m10.9/10.9 MB\u001b[0m \u001b[31m30.1 MB/s\u001b[0m eta \u001b[36m0:00:00\u001b[0m00:01\u001b[0m00:01\u001b[0m\n",
            "\u001b[?25hCollecting tzdata>=2022.1\n",
            "  Using cached tzdata-2023.3-py2.py3-none-any.whl (341 kB)\n",
            "Collecting numpy>=1.20.3\n",
            "  Downloading numpy-1.24.3-cp39-cp39-macosx_11_0_arm64.whl (13.9 MB)\n",
            "\u001b[2K     \u001b[90m━━━━━━━━━━━━━━━━━━━━━━━━━━━━━━━━━━━━━━━━\u001b[0m \u001b[32m13.9/13.9 MB\u001b[0m \u001b[31m29.8 MB/s\u001b[0m eta \u001b[36m0:00:00\u001b[0m00:01\u001b[0m00:01\u001b[0m\n",
            "\u001b[?25hCollecting pytz>=2020.1\n",
            "  Using cached pytz-2023.3-py2.py3-none-any.whl (502 kB)\n",
            "Requirement already satisfied: python-dateutil>=2.8.2 in /Users/ehsanulkabir/miniconda/envs/final582/lib/python3.9/site-packages (from pandas) (2.8.2)\n",
            "Requirement already satisfied: six>=1.5 in /Users/ehsanulkabir/miniconda/envs/final582/lib/python3.9/site-packages (from python-dateutil>=2.8.2->pandas) (1.16.0)\n",
            "Installing collected packages: pytz, tzdata, numpy, pandas\n",
            "Successfully installed numpy-1.24.3 pandas-2.0.1 pytz-2023.3 tzdata-2023.3\n"
          ]
        }
      ],
      "source": [
        "!pip install pandas"
      ]
    },
    {
      "cell_type": "code",
      "execution_count": 10,
      "metadata": {},
      "outputs": [
        {
          "name": "stdout",
          "output_type": "stream",
          "text": [
            "Collecting tqdm\n",
            "  Using cached tqdm-4.65.0-py3-none-any.whl (77 kB)\n",
            "Installing collected packages: tqdm\n",
            "Successfully installed tqdm-4.65.0\n"
          ]
        }
      ],
      "source": [
        "!pip install tqdm"
      ]
    },
    {
      "cell_type": "code",
      "execution_count": 1,
      "metadata": {
        "id": "pq4Vvsj0_Ga3"
      },
      "outputs": [],
      "source": [
        "import praw\n",
        "import pandas as pd\n",
        "import datetime as dt\n",
        "from tqdm import tqdm\n",
        "import numpy as np\n",
        "import time"
      ]
    },
    {
      "cell_type": "code",
      "execution_count": 2,
      "metadata": {},
      "outputs": [],
      "source": [
        "import logging\n",
        "\n",
        "handler = logging.StreamHandler()\n",
        "handler.setLevel(logging.DEBUG)\n",
        "for logger_name in (\"praw\", \"prawcore\"):\n",
        "    logger = logging.getLogger(logger_name)\n",
        "    logger.setLevel(logging.DEBUG)\n",
        "    logger.addHandler(handler)"
      ]
    },
    {
      "cell_type": "code",
      "execution_count": 3,
      "metadata": {},
      "outputs": [
        {
          "name": "stderr",
          "output_type": "stream",
          "text": [
            "/Users/ehsanulkabir/miniconda/envs/final582/lib/python3.9/site-packages/tqdm/auto.py:21: TqdmWarning: IProgress not found. Please update jupyter and ipywidgets. See https://ipywidgets.readthedocs.io/en/stable/user_install.html\n",
            "  from .autonotebook import tqdm as notebook_tqdm\n"
          ]
        }
      ],
      "source": [
        "from transformers import AutoTokenizer, AutoModelForTokenClassification\n",
        "from transformers import pipeline\n",
        "\n",
        "tokenizer = AutoTokenizer.from_pretrained(\"dslim/bert-base-NER\")\n",
        "model = AutoModelForTokenClassification.from_pretrained(\"dslim/bert-base-NER\")\n",
        "\n",
        "nlp = pipeline(\"ner\", model=model, tokenizer=tokenizer)"
      ]
    },
    {
      "cell_type": "code",
      "execution_count": 4,
      "metadata": {},
      "outputs": [],
      "source": [
        "import wikipediaapi\n",
        "\n",
        "# Initialize the Wikipedia API\n",
        "wiki = wikipediaapi.Wikipedia('en')"
      ]
    },
    {
      "cell_type": "code",
      "execution_count": 5,
      "metadata": {},
      "outputs": [],
      "source": [
        "import gzip\n",
        "\n",
        "# Load the Wikipedia article titles into a set for efficient lookup\n",
        "wiki_titles = set()\n",
        "with gzip.open(\"enwiki-latest-all-titles-in-ns0.gz\", \"rt\", encoding=\"utf-8\") as f:\n",
        "    for title in f:\n",
        "        title = title.strip()\n",
        "        title = title.replace(\"_\", \" \")\n",
        "        wiki_titles.add(title.strip())"
      ]
    },
    {
      "cell_type": "code",
      "execution_count": 6,
      "metadata": {
        "id": "PlhUitj-_R3a"
      },
      "outputs": [],
      "source": [
        "reddit = praw.Reddit(client_id = \"JgHZRyaH_Ya0sSPJ4WB4ZA\", client_secret=\"yNybsXSQCZVR-r-2mo0Ribuae-zKgw\", user_agent=\"scrape\")"
      ]
    },
    {
      "cell_type": "code",
      "execution_count": 7,
      "metadata": {
        "id": "8T5_c7tT_arh"
      },
      "outputs": [],
      "source": [
        "subreddit_name = \"IAmA\""
      ]
    },
    {
      "cell_type": "code",
      "execution_count": 8,
      "metadata": {
        "id": "C64jn5oP_5eE"
      },
      "outputs": [],
      "source": [
        "subreddit = reddit.subreddit(subreddit_name)"
      ]
    },
    {
      "cell_type": "code",
      "execution_count": 10,
      "metadata": {},
      "outputs": [
        {
          "name": "stderr",
          "output_type": "stream",
          "text": [
            "0it [00:00, ?it/s]Fetching: GET https://oauth.reddit.com/r/IAmA/new\n",
            "Data: None\n",
            "Params: {'limit': 1024, 'raw_json': 1}\n",
            "Response: 200 (122866 bytes)\n",
            "100it [00:06, 20.49it/s]Fetching: GET https://oauth.reddit.com/r/IAmA/new\n",
            "Data: None\n",
            "Params: {'limit': 1024, 'after': 't3_11t5otw', 'raw_json': 1}\n",
            "Response: 200 (123557 bytes)\n",
            "199it [00:12, 18.96it/s]Fetching: GET https://oauth.reddit.com/r/IAmA/new\n",
            "Data: None\n",
            "Params: {'limit': 1024, 'after': 't3_10b1o85', 'raw_json': 1}\n",
            "Response: 200 (149099 bytes)\n",
            "300it [00:19, 20.65it/s]Fetching: GET https://oauth.reddit.com/r/IAmA/new\n",
            "Data: None\n",
            "Params: {'limit': 1024, 'after': 't3_yv832k', 'raw_json': 1}\n",
            "Response: 200 (150819 bytes)\n",
            "400it [00:25, 21.23it/s]Fetching: GET https://oauth.reddit.com/r/IAmA/new\n",
            "Data: None\n",
            "Params: {'limit': 1024, 'after': 't3_xqdtf2', 'raw_json': 1}\n",
            "Response: 200 (157436 bytes)\n",
            "500it [00:32, 18.87it/s]Fetching: GET https://oauth.reddit.com/r/IAmA/new\n",
            "Data: None\n",
            "Params: {'limit': 1024, 'after': 't3_wbcrx5', 'raw_json': 1}\n",
            "Response: 200 (167815 bytes)\n",
            "598it [00:39, 20.19it/s]Fetching: GET https://oauth.reddit.com/r/IAmA/new\n",
            "Data: None\n",
            "Params: {'limit': 1024, 'after': 't3_v802o0', 'raw_json': 1}\n",
            "Response: 200 (80638 bytes)\n",
            "643it [00:42, 15.01it/s]\n"
          ]
        }
      ],
      "source": [
        "# Get all posts from the subreddit\n",
        "top_subreddit = subreddit.new(limit=None)\n",
        "\n",
        "\n",
        "# get 1000 posts from subreddit\n",
        "# also get the comments from each post\n",
        "# get 10 comments from each post that are not longer than 1000 characters\n",
        "posts = []\n",
        "# comments = []\n",
        "for post in tqdm(top_subreddit):\n",
        "    post_container = {}\n",
        "    post_container[\"title\"] = post.title\n",
        "    post_container[\"body\"] = post.selftext\n",
        "    post_container[\"upvotes\"] = post.score\n",
        "    post_container[\"downvotes\"] = post.downs\n",
        "    post_container[\"upvote_ratio\"] = post.upvote_ratio\n",
        "    post_container[\"url\"] = post.url\n",
        "    post_container[\"num_comments\"] = post.num_comments\n",
        "    post_container[\"created\"] = post.created\n",
        "    post_container[\"author\"] = post.author\n",
        "    post_container[\"author_flair_text\"] = post.author_flair_text\n",
        "    post_container[\"id\"] = post.id\n",
        "    ner_results = nlp(post.title)\n",
        "    person_entities = [entity for entity in ner_results if entity['entity'] == 'I-PER' or entity['entity'] == 'B-PER']\n",
        "    person_entities = [entity['word'] for entity in person_entities]\n",
        "    poster_name = \" \".join(person_entities)\n",
        "    post_container[\"person_entities\"] = poster_name\n",
        "\n",
        "    post_container[\"has_wiki\"] = poster_name in wiki_titles and len(poster_name) > 0 and len(poster_name.split()) > 1\n",
        "\n",
        "    posts.append(post_container)\n",
        "    # posts.append(post_container)"
      ]
    },
    {
      "cell_type": "code",
      "execution_count": null,
      "metadata": {},
      "outputs": [],
      "source": [
        "posts"
      ]
    },
    {
      "cell_type": "code",
      "execution_count": null,
      "metadata": {},
      "outputs": [],
      "source": [
        "for i in tqdm(range(len(posts))):\n",
        "    post_container = posts[i]\n",
        "    ner_results = nlp(post_container[\"title\"])\n",
        "    person_entities = [entity for entity in ner_results if entity['entity'] == 'I-PER' or entity['entity'] == 'B-PER']\n",
        "    person_entities = [entity['word'] for entity in person_entities]\n",
        "    poster_name = \" \".join(person_entities)\n",
        "    post_container[\"person_entities\"] = poster_name\n",
        "\n",
        "    post_container[\"has_wiki\"] = poster_name in wiki_titles and len(poster_name) > 0 and len(poster_name.split()) > 1\n",
        "\n",
        "    if post_container[\"has_wiki\"]:\n",
        "        post_container[\"wiki_url\"] = \"https://en.wikipedia.org/wiki/\" + poster_name.replace(\" \", \"_\")\n",
        "\n",
        "        wiki_page = wiki.page(poster_name)\n",
        "        post_container[\"wiki_summary\"] = wiki_page.summary\n",
        "\n",
        "        \n",
        "        post_container[\"comments\"] = []\n",
        "        post = reddit.submission(id=post_container[\"id\"])\n",
        "        post.comments.replace_more(limit=100)\n",
        "        for comment in post.comments.list():\n",
        "            post_container[\"comments\"].append(comment.body)"
      ]
    },
    {
      "cell_type": "code",
      "execution_count": null,
      "metadata": {},
      "outputs": [],
      "source": []
    },
    {
      "cell_type": "code",
      "execution_count": 116,
      "metadata": {},
      "outputs": [
        {
          "data": {
            "text/plain": [
              "282"
            ]
          },
          "execution_count": 116,
          "metadata": {},
          "output_type": "execute_result"
        }
      ],
      "source": [
        "len(posts)"
      ]
    },
    {
      "cell_type": "code",
      "execution_count": 105,
      "metadata": {},
      "outputs": [
        {
          "name": "stderr",
          "output_type": "stream",
          "text": [
            "998it [47:02,  2.83s/it]\n"
          ]
        }
      ],
      "source": [
        "# Get all posts from the subreddit\n",
        "top_subreddit = subreddit.top(limit=10)\n",
        "\n",
        "\n",
        "# get 1000 posts from subreddit\n",
        "# also get the comments from each post\n",
        "# get 10 comments from each post that are not longer than 1000 characters\n",
        "posts = []\n",
        "# comments = []\n",
        "for post in tqdm(top_subreddit):\n",
        "    post_container = {}\n",
        "    post_container[\"title\"] = post.title\n",
        "    post_container[\"body\"] = post.selftext\n",
        "    post_container[\"upvotes\"] = post.score\n",
        "    post_container[\"downvotes\"] = post.downs\n",
        "    post_container[\"upvote_ratio\"] = post.upvote_ratio\n",
        "    post_container[\"url\"] = post.url\n",
        "    post_container[\"num_comments\"] = post.num_comments\n",
        "    post_container[\"created\"] = post.created\n",
        "    post_container[\"author\"] = post.author\n",
        "    post_container[\"author_flair_text\"] = post.author_flair_text\n",
        "    post_container[\"id\"] = post.id\n",
        "\n",
        "    ner_results = nlp(post.title)\n",
        "    person_entities = [entity for entity in ner_results if entity['entity'] == 'I-PER' or entity['entity'] == 'B-PER']\n",
        "    person_entities = [entity['word'] for entity in person_entities]\n",
        "    poster_name = \" \".join(person_entities)\n",
        "    post_container[\"person_entities\"] = poster_name\n",
        "\n",
        "    post_container[\"has_wiki\"] = poster_name in wiki_titles and len(poster_name) > 0 and len(poster_name.split()) > 1\n",
        "\n",
        "    if post_container[\"has_wiki\"]:\n",
        "        post_container[\"wiki_url\"] = \"https://en.wikipedia.org/wiki/\" + poster_name.replace(\" \", \"_\")\n",
        "\n",
        "        wiki_page = wiki.page(poster_name)\n",
        "        post_container[\"wiki_summary\"] = wiki_page.summary\n",
        "\n",
        "        \n",
        "        post_container[\"comments\"] = []\n",
        "        post.comments.replace_more(limit=10)\n",
        "        for comment in post.comments.list():\n",
        "            post_container[\"comments\"].append(comment.body)\n",
        "\n",
        "    posts.append(post_container)"
      ]
    },
    {
      "cell_type": "code",
      "execution_count": 119,
      "metadata": {},
      "outputs": [],
      "source": [
        "posts_df = pd.DataFrame(posts)"
      ]
    },
    {
      "cell_type": "code",
      "execution_count": 120,
      "metadata": {},
      "outputs": [
        {
          "data": {
            "text/html": [
              "<div>\n",
              "<style scoped>\n",
              "    .dataframe tbody tr th:only-of-type {\n",
              "        vertical-align: middle;\n",
              "    }\n",
              "\n",
              "    .dataframe tbody tr th {\n",
              "        vertical-align: top;\n",
              "    }\n",
              "\n",
              "    .dataframe thead th {\n",
              "        text-align: right;\n",
              "    }\n",
              "</style>\n",
              "<table border=\"1\" class=\"dataframe\">\n",
              "  <thead>\n",
              "    <tr style=\"text-align: right;\">\n",
              "      <th></th>\n",
              "      <th>title</th>\n",
              "      <th>body</th>\n",
              "      <th>upvotes</th>\n",
              "      <th>downvotes</th>\n",
              "      <th>upvote_ratio</th>\n",
              "      <th>url</th>\n",
              "      <th>num_comments</th>\n",
              "      <th>created</th>\n",
              "      <th>author</th>\n",
              "      <th>author_flair_text</th>\n",
              "      <th>id</th>\n",
              "      <th>person_entities</th>\n",
              "      <th>has_wiki</th>\n",
              "      <th>wiki_url</th>\n",
              "      <th>wiki_summary</th>\n",
              "      <th>comments</th>\n",
              "    </tr>\n",
              "  </thead>\n",
              "  <tbody>\n",
              "    <tr>\n",
              "      <th>0</th>\n",
              "      <td>2 yaers ago I was working after hours on my so...</td>\n",
              "      <td>IGN trailer: [https://www.youtube.com/watch?v=...</td>\n",
              "      <td>85</td>\n",
              "      <td>0</td>\n",
              "      <td>0.76</td>\n",
              "      <td>https://www.reddit.com/r/IAmA/comments/134hns3...</td>\n",
              "      <td>38</td>\n",
              "      <td>1.682933e+09</td>\n",
              "      <td>mikimiki1618</td>\n",
              "      <td>None</td>\n",
              "      <td>134hns3</td>\n",
              "      <td></td>\n",
              "      <td>False</td>\n",
              "      <td>NaN</td>\n",
              "      <td>NaN</td>\n",
              "      <td>NaN</td>\n",
              "    </tr>\n",
              "    <tr>\n",
              "      <th>1</th>\n",
              "      <td>We’re experts in immunology at The University ...</td>\n",
              "      <td>Happy International Day of [Immunology](https:...</td>\n",
              "      <td>1422</td>\n",
              "      <td>0</td>\n",
              "      <td>0.87</td>\n",
              "      <td>https://www.reddit.com/r/IAmA/comments/132tfat...</td>\n",
              "      <td>513</td>\n",
              "      <td>1.682776e+09</td>\n",
              "      <td>UniOfManchester</td>\n",
              "      <td></td>\n",
              "      <td>132tfat</td>\n",
              "      <td></td>\n",
              "      <td>False</td>\n",
              "      <td>NaN</td>\n",
              "      <td>NaN</td>\n",
              "      <td>NaN</td>\n",
              "    </tr>\n",
              "    <tr>\n",
              "      <th>2</th>\n",
              "      <td>I've been a Private Jet Pilot for 15 years, As...</td>\n",
              "      <td>I have been a professional private jet pilot f...</td>\n",
              "      <td>3888</td>\n",
              "      <td>0</td>\n",
              "      <td>0.90</td>\n",
              "      <td>https://www.reddit.com/r/IAmA/comments/132az7h...</td>\n",
              "      <td>1537</td>\n",
              "      <td>1.682719e+09</td>\n",
              "      <td>Legacy500Driver</td>\n",
              "      <td>:verified: Verified</td>\n",
              "      <td>132az7h</td>\n",
              "      <td></td>\n",
              "      <td>False</td>\n",
              "      <td>NaN</td>\n",
              "      <td>NaN</td>\n",
              "      <td>NaN</td>\n",
              "    </tr>\n",
              "    <tr>\n",
              "      <th>3</th>\n",
              "      <td>I’m Callie, Insider’s senior music reporter an...</td>\n",
              "      <td>I founded Insider’s music team in 2020. I most...</td>\n",
              "      <td>496</td>\n",
              "      <td>0</td>\n",
              "      <td>0.75</td>\n",
              "      <td>https://www.reddit.com/r/IAmA/comments/131xn11...</td>\n",
              "      <td>79</td>\n",
              "      <td>1.682696e+09</td>\n",
              "      <td>thisisinsider</td>\n",
              "      <td>:verified: Scheduled AMA</td>\n",
              "      <td>131xn11</td>\n",
              "      <td>Callie</td>\n",
              "      <td>False</td>\n",
              "      <td>NaN</td>\n",
              "      <td>NaN</td>\n",
              "      <td>NaN</td>\n",
              "    </tr>\n",
              "    <tr>\n",
              "      <th>4</th>\n",
              "      <td>IAmA the COO of Joyce Moving and Storage looki...</td>\n",
              "      <td>**Hi Reddit, I'm Will Joyce Jr, the COO of Jo...</td>\n",
              "      <td>23</td>\n",
              "      <td>0</td>\n",
              "      <td>0.67</td>\n",
              "      <td>https://www.reddit.com/r/IAmA/comments/13242sx...</td>\n",
              "      <td>18</td>\n",
              "      <td>1.682703e+09</td>\n",
              "      <td>Joyce_Van_Lines</td>\n",
              "      <td>None</td>\n",
              "      <td>13242sx</td>\n",
              "      <td></td>\n",
              "      <td>False</td>\n",
              "      <td>NaN</td>\n",
              "      <td>NaN</td>\n",
              "      <td>NaN</td>\n",
              "    </tr>\n",
              "    <tr>\n",
              "      <th>...</th>\n",
              "      <td>...</td>\n",
              "      <td>...</td>\n",
              "      <td>...</td>\n",
              "      <td>...</td>\n",
              "      <td>...</td>\n",
              "      <td>...</td>\n",
              "      <td>...</td>\n",
              "      <td>...</td>\n",
              "      <td>...</td>\n",
              "      <td>...</td>\n",
              "      <td>...</td>\n",
              "      <td>...</td>\n",
              "      <td>...</td>\n",
              "      <td>...</td>\n",
              "      <td>...</td>\n",
              "      <td>...</td>\n",
              "    </tr>\n",
              "    <tr>\n",
              "      <th>277</th>\n",
              "      <td>Louis Rossman and iFixit here, making it legal...</td>\n",
              "      <td>**Who we are:**\\n\\n* kwiens: [Kyle Wiens](http...</td>\n",
              "      <td>19781</td>\n",
              "      <td>0</td>\n",
              "      <td>0.94</td>\n",
              "      <td>https://www.reddit.com/r/IAmA/comments/yytfe2/...</td>\n",
              "      <td>1025</td>\n",
              "      <td>1.668802e+09</td>\n",
              "      <td>kwiens</td>\n",
              "      <td></td>\n",
              "      <td>yytfe2</td>\n",
              "      <td>Louis Ross ##man</td>\n",
              "      <td>False</td>\n",
              "      <td>NaN</td>\n",
              "      <td>NaN</td>\n",
              "      <td>NaN</td>\n",
              "    </tr>\n",
              "    <tr>\n",
              "      <th>278</th>\n",
              "      <td>[crosspost/ r/colorado] I’m Daniel Bishop. I’m...</td>\n",
              "      <td>[Click here to view the AMA and join in the co...</td>\n",
              "      <td>420</td>\n",
              "      <td>0</td>\n",
              "      <td>0.86</td>\n",
              "      <td>https://www.reddit.com/r/IAmA/comments/yyp24l/...</td>\n",
              "      <td>1</td>\n",
              "      <td>1.668791e+09</td>\n",
              "      <td>cryfi</td>\n",
              "      <td>None</td>\n",
              "      <td>yyp24l</td>\n",
              "      <td>Daniel Bishop Bishop Jim Bishop</td>\n",
              "      <td>False</td>\n",
              "      <td>NaN</td>\n",
              "      <td>NaN</td>\n",
              "      <td>NaN</td>\n",
              "    </tr>\n",
              "    <tr>\n",
              "      <th>279</th>\n",
              "      <td>I'm Dr Joseph Davis, Medical Director at Cayma...</td>\n",
              "      <td>Hi! I'm Dr Joseph Davis. I am one of the world...</td>\n",
              "      <td>36</td>\n",
              "      <td>0</td>\n",
              "      <td>0.84</td>\n",
              "      <td>https://www.reddit.com/r/IAmA/comments/yyt49d/...</td>\n",
              "      <td>63</td>\n",
              "      <td>1.668802e+09</td>\n",
              "      <td>DrJosephDavisDO</td>\n",
              "      <td></td>\n",
              "      <td>yyt49d</td>\n",
              "      <td>Joseph Davis</td>\n",
              "      <td>True</td>\n",
              "      <td>https://en.wikipedia.org/wiki/Joseph_Davis</td>\n",
              "      <td>Joe Davis (1901–1978) was a British snooker an...</td>\n",
              "      <td>[For more AMAs on this topic, subscribe to r/I...</td>\n",
              "    </tr>\n",
              "    <tr>\n",
              "      <th>280</th>\n",
              "      <td>I'm John Swierk, assistant professor of Chemis...</td>\n",
              "      <td>Hello all, I've been studying the photochemis...</td>\n",
              "      <td>2115</td>\n",
              "      <td>0</td>\n",
              "      <td>0.90</td>\n",
              "      <td>https://www.reddit.com/r/IAmA/comments/yxw6oj/...</td>\n",
              "      <td>117</td>\n",
              "      <td>1.668706e+09</td>\n",
              "      <td>intengineering</td>\n",
              "      <td>None</td>\n",
              "      <td>yxw6oj</td>\n",
              "      <td>John S ##wi ##er ##k</td>\n",
              "      <td>False</td>\n",
              "      <td>NaN</td>\n",
              "      <td>NaN</td>\n",
              "      <td>NaN</td>\n",
              "    </tr>\n",
              "    <tr>\n",
              "      <th>281</th>\n",
              "      <td>I'm Gilbert King, a Pulitzer-Prize winning inv...</td>\n",
              "      <td>**UPDATE: It's been great answering all of you...</td>\n",
              "      <td>1567</td>\n",
              "      <td>0</td>\n",
              "      <td>0.90</td>\n",
              "      <td>https://www.reddit.com/r/IAmA/comments/ywyatm/...</td>\n",
              "      <td>142</td>\n",
              "      <td>1.668616e+09</td>\n",
              "      <td>lavaforgood</td>\n",
              "      <td></td>\n",
              "      <td>ywyatm</td>\n",
              "      <td>Gilbert King Kelsey Michelle Sc ##hof ##ield</td>\n",
              "      <td>False</td>\n",
              "      <td>NaN</td>\n",
              "      <td>NaN</td>\n",
              "      <td>NaN</td>\n",
              "    </tr>\n",
              "  </tbody>\n",
              "</table>\n",
              "<p>282 rows × 16 columns</p>\n",
              "</div>"
            ],
            "text/plain": [
              "                                                 title   \n",
              "0    2 yaers ago I was working after hours on my so...  \\\n",
              "1    We’re experts in immunology at The University ...   \n",
              "2    I've been a Private Jet Pilot for 15 years, As...   \n",
              "3    I’m Callie, Insider’s senior music reporter an...   \n",
              "4    IAmA the COO of Joyce Moving and Storage looki...   \n",
              "..                                                 ...   \n",
              "277  Louis Rossman and iFixit here, making it legal...   \n",
              "278  [crosspost/ r/colorado] I’m Daniel Bishop. I’m...   \n",
              "279  I'm Dr Joseph Davis, Medical Director at Cayma...   \n",
              "280  I'm John Swierk, assistant professor of Chemis...   \n",
              "281  I'm Gilbert King, a Pulitzer-Prize winning inv...   \n",
              "\n",
              "                                                  body  upvotes  downvotes   \n",
              "0    IGN trailer: [https://www.youtube.com/watch?v=...       85          0  \\\n",
              "1    Happy International Day of [Immunology](https:...     1422          0   \n",
              "2    I have been a professional private jet pilot f...     3888          0   \n",
              "3    I founded Insider’s music team in 2020. I most...      496          0   \n",
              "4     **Hi Reddit, I'm Will Joyce Jr, the COO of Jo...       23          0   \n",
              "..                                                 ...      ...        ...   \n",
              "277  **Who we are:**\\n\\n* kwiens: [Kyle Wiens](http...    19781          0   \n",
              "278  [Click here to view the AMA and join in the co...      420          0   \n",
              "279  Hi! I'm Dr Joseph Davis. I am one of the world...       36          0   \n",
              "280   Hello all, I've been studying the photochemis...     2115          0   \n",
              "281  **UPDATE: It's been great answering all of you...     1567          0   \n",
              "\n",
              "     upvote_ratio                                                url   \n",
              "0            0.76  https://www.reddit.com/r/IAmA/comments/134hns3...  \\\n",
              "1            0.87  https://www.reddit.com/r/IAmA/comments/132tfat...   \n",
              "2            0.90  https://www.reddit.com/r/IAmA/comments/132az7h...   \n",
              "3            0.75  https://www.reddit.com/r/IAmA/comments/131xn11...   \n",
              "4            0.67  https://www.reddit.com/r/IAmA/comments/13242sx...   \n",
              "..            ...                                                ...   \n",
              "277          0.94  https://www.reddit.com/r/IAmA/comments/yytfe2/...   \n",
              "278          0.86  https://www.reddit.com/r/IAmA/comments/yyp24l/...   \n",
              "279          0.84  https://www.reddit.com/r/IAmA/comments/yyt49d/...   \n",
              "280          0.90  https://www.reddit.com/r/IAmA/comments/yxw6oj/...   \n",
              "281          0.90  https://www.reddit.com/r/IAmA/comments/ywyatm/...   \n",
              "\n",
              "     num_comments       created           author         author_flair_text   \n",
              "0              38  1.682933e+09     mikimiki1618                      None  \\\n",
              "1             513  1.682776e+09  UniOfManchester                             \n",
              "2            1537  1.682719e+09  Legacy500Driver       :verified: Verified   \n",
              "3              79  1.682696e+09    thisisinsider  :verified: Scheduled AMA   \n",
              "4              18  1.682703e+09  Joyce_Van_Lines                      None   \n",
              "..            ...           ...              ...                       ...   \n",
              "277          1025  1.668802e+09           kwiens                             \n",
              "278             1  1.668791e+09            cryfi                      None   \n",
              "279            63  1.668802e+09  DrJosephDavisDO                             \n",
              "280           117  1.668706e+09   intengineering                      None   \n",
              "281           142  1.668616e+09      lavaforgood                             \n",
              "\n",
              "          id                               person_entities  has_wiki   \n",
              "0    134hns3                                                   False  \\\n",
              "1    132tfat                                                   False   \n",
              "2    132az7h                                                   False   \n",
              "3    131xn11                                        Callie     False   \n",
              "4    13242sx                                                   False   \n",
              "..       ...                                           ...       ...   \n",
              "277   yytfe2                              Louis Ross ##man     False   \n",
              "278   yyp24l               Daniel Bishop Bishop Jim Bishop     False   \n",
              "279   yyt49d                                  Joseph Davis      True   \n",
              "280   yxw6oj                          John S ##wi ##er ##k     False   \n",
              "281   ywyatm  Gilbert King Kelsey Michelle Sc ##hof ##ield     False   \n",
              "\n",
              "                                       wiki_url   \n",
              "0                                           NaN  \\\n",
              "1                                           NaN   \n",
              "2                                           NaN   \n",
              "3                                           NaN   \n",
              "4                                           NaN   \n",
              "..                                          ...   \n",
              "277                                         NaN   \n",
              "278                                         NaN   \n",
              "279  https://en.wikipedia.org/wiki/Joseph_Davis   \n",
              "280                                         NaN   \n",
              "281                                         NaN   \n",
              "\n",
              "                                          wiki_summary   \n",
              "0                                                  NaN  \\\n",
              "1                                                  NaN   \n",
              "2                                                  NaN   \n",
              "3                                                  NaN   \n",
              "4                                                  NaN   \n",
              "..                                                 ...   \n",
              "277                                                NaN   \n",
              "278                                                NaN   \n",
              "279  Joe Davis (1901–1978) was a British snooker an...   \n",
              "280                                                NaN   \n",
              "281                                                NaN   \n",
              "\n",
              "                                              comments  \n",
              "0                                                  NaN  \n",
              "1                                                  NaN  \n",
              "2                                                  NaN  \n",
              "3                                                  NaN  \n",
              "4                                                  NaN  \n",
              "..                                                 ...  \n",
              "277                                                NaN  \n",
              "278                                                NaN  \n",
              "279  [For more AMAs on this topic, subscribe to r/I...  \n",
              "280                                                NaN  \n",
              "281                                                NaN  \n",
              "\n",
              "[282 rows x 16 columns]"
            ]
          },
          "execution_count": 120,
          "metadata": {},
          "output_type": "execute_result"
        }
      ],
      "source": [
        "posts_df"
      ]
    },
    {
      "cell_type": "code",
      "execution_count": 108,
      "metadata": {},
      "outputs": [],
      "source": [
        "posts_df.to_csv(\"all_1000_IAmA_posts.csv\")"
      ]
    },
    {
      "cell_type": "code",
      "execution_count": 109,
      "metadata": {},
      "outputs": [],
      "source": [
        "posts_df = posts_df[posts_df[\"has_wiki\"] == True]"
      ]
    },
    {
      "cell_type": "code",
      "execution_count": 110,
      "metadata": {},
      "outputs": [],
      "source": [
        "posts_df.to_csv(\"all_1000_IAmA_posts_with_wiki.csv\")"
      ]
    },
    {
      "cell_type": "code",
      "execution_count": 101,
      "metadata": {},
      "outputs": [],
      "source": [
        "posts_df.reset_index(inplace=True)"
      ]
    },
    {
      "cell_type": "code",
      "execution_count": 104,
      "metadata": {},
      "outputs": [
        {
          "data": {
            "text/plain": [
              "index                                                              975\n",
              "title                Iam Independent Journalist Tim Pool, founding ...\n",
              "body                 Howdy all,\\n\\nMy name is Tim Pool. In the past...\n",
              "upvotes                                                          11969\n",
              "downvotes                                                            0\n",
              "upvote_ratio                                                      0.71\n",
              "url                  https://www.reddit.com/r/IAmA/comments/5q3ck5/...\n",
              "num_comments                                                      2037\n",
              "created                                                   1485353324.0\n",
              "author                                                         Timcast\n",
              "author_flair_text                                                 None\n",
              "id                                                              5q3ck5\n",
              "person_entities                                               Tim Pool\n",
              "has_wiki                                                          True\n",
              "wiki_url                        https://en.wikipedia.org/wiki/Tim_Pool\n",
              "wiki_summary         Timothy Daniel Pool (born March 9, 1986) is an...\n",
              "Name: 113, dtype: object"
            ]
          },
          "execution_count": 104,
          "metadata": {},
          "output_type": "execute_result"
        }
      ],
      "source": [
        "posts_df.iloc[113]"
      ]
    },
    {
      "cell_type": "code",
      "execution_count": 92,
      "metadata": {},
      "outputs": [
        {
          "data": {
            "text/plain": [
              "{'AJ Green',\n",
              " 'Adam Savage',\n",
              " 'Andrew Yang',\n",
              " 'Andy Newman',\n",
              " 'Andy Weir',\n",
              " 'Barack Obama',\n",
              " 'Bernie Sanders',\n",
              " 'Bill Gates',\n",
              " 'Bill Murray',\n",
              " 'Brendan Fraser',\n",
              " 'Bruce Campbell',\n",
              " 'Charles Williams',\n",
              " 'Charlie Duke',\n",
              " 'Chris Hansen',\n",
              " 'Chris Hunt',\n",
              " 'Chris Pratt',\n",
              " 'DJ Shadow',\n",
              " 'Daniel Radcliffe',\n",
              " 'Daniel Stern',\n",
              " 'Danny Thompson',\n",
              " 'Daryl Davis',\n",
              " 'David Cross',\n",
              " 'David Simon',\n",
              " 'Don Lewis',\n",
              " 'Donald Trump',\n",
              " 'Drew Hansen',\n",
              " 'Dylan Moran',\n",
              " 'Edward Snow',\n",
              " 'Elizabeth Smart',\n",
              " 'Frank Oz',\n",
              " 'Gordon Ramsay',\n",
              " 'Guillermo del Toro',\n",
              " 'H Jon Benjamin',\n",
              " 'Ian Anderson',\n",
              " 'James May',\n",
              " 'Jason Rogers',\n",
              " 'Jeff Bridges',\n",
              " 'Jill Stein',\n",
              " 'John Green',\n",
              " 'John Oliver',\n",
              " 'John Plant',\n",
              " 'Jon Snow',\n",
              " 'Jon Stewart',\n",
              " 'Jordan B Peterson',\n",
              " 'Jordan Prentice',\n",
              " 'Katy Perry',\n",
              " 'Ken Bone',\n",
              " 'Ken Jennings',\n",
              " 'Kim Jong',\n",
              " 'Kristen Bell',\n",
              " 'Leroy Jenkins',\n",
              " 'Liam Gallagher',\n",
              " 'Lisa Fletcher',\n",
              " 'Marilyn Manson',\n",
              " 'Martin Starr',\n",
              " 'Matt Damon',\n",
              " 'Max Brooks',\n",
              " 'Michael Phelps',\n",
              " 'Michael Stevens',\n",
              " 'Mike Rowe',\n",
              " 'Mike Tyson',\n",
              " 'Neil Patrick Harris',\n",
              " 'Nick Jonas',\n",
              " 'Patrick Stewart',\n",
              " 'Paul Thomas Anderson',\n",
              " 'Rand Paul',\n",
              " 'Richard King',\n",
              " 'Rick Smith',\n",
              " 'Riley Reid',\n",
              " 'Rob Davis',\n",
              " 'Ron Jeremy',\n",
              " 'Roy Moore',\n",
              " 'Ryan Reynolds',\n",
              " 'Scott Kelly',\n",
              " 'Sean Bean',\n",
              " 'Sean Evans',\n",
              " 'Sean Murray',\n",
              " 'Shark Tank',\n",
              " 'Sophie Zhang',\n",
              " 'Stephen Colbert',\n",
              " 'Terry Jones',\n",
              " 'Tim Pool',\n",
              " 'Todd Howard',\n",
              " 'Tony Hale',\n",
              " 'Tori Black',\n",
              " 'Wallace Shawn',\n",
              " 'Yao Ming'}"
            ]
          },
          "execution_count": 92,
          "metadata": {},
          "output_type": "execute_result"
        }
      ],
      "source": [
        "set(posts_df[\"person_entities\"].to_numpy().tolist())"
      ]
    },
    {
      "cell_type": "code",
      "execution_count": 26,
      "metadata": {},
      "outputs": [],
      "source": [
        "# get post from post id\n",
        "post = reddit.submission(id=\"l9y3ud\")"
      ]
    },
    {
      "cell_type": "code",
      "execution_count": 27,
      "metadata": {},
      "outputs": [
        {
          "data": {
            "text/plain": [
              "''"
            ]
          },
          "execution_count": 27,
          "metadata": {},
          "output_type": "execute_result"
        }
      ],
      "source": [
        "post.selftext"
      ]
    },
    {
      "cell_type": "code",
      "execution_count": 36,
      "metadata": {},
      "outputs": [],
      "source": [
        "# Create a dataframe from the list of posts\n",
        "posts_df = pd.DataFrame(posts)"
      ]
    },
    {
      "cell_type": "code",
      "execution_count": 47,
      "metadata": {},
      "outputs": [],
      "source": [
        "# filter comments that are shorter than 100 characters or longer than 1000 characters\n",
        "# also filter comments that do not contain the word \"?\"\n",
        "posts_df[\"comments\"] = posts_df[\"comments\"].apply(lambda x: [comment for comment in x if len(comment) > 50 and len(comment) < 150 and \"?\" in comment])"
      ]
    },
    {
      "cell_type": "code",
      "execution_count": 29,
      "metadata": {},
      "outputs": [],
      "source": [
        "posts_df.to_json(\"top_10_ama_posts.json\")"
      ]
    },
    {
      "cell_type": "code",
      "execution_count": 64,
      "metadata": {},
      "outputs": [
        {
          "data": {
            "text/plain": [
              "'I’m Bill Gates, co-chair of the Bill & Melinda Gates Foundation. Ask Me Anything.'"
            ]
          },
          "execution_count": 64,
          "metadata": {},
          "output_type": "execute_result"
        }
      ],
      "source": [
        "posts_df.iloc[5][\"title\"]"
      ]
    },
    {
      "cell_type": "code",
      "execution_count": 57,
      "metadata": {},
      "outputs": [],
      "source": [
        "import wikipediaapi"
      ]
    },
    {
      "cell_type": "code",
      "execution_count": 58,
      "metadata": {},
      "outputs": [],
      "source": [
        "wiki_wiki = wikipediaapi.Wikipedia('en')"
      ]
    },
    {
      "cell_type": "code",
      "execution_count": 59,
      "metadata": {},
      "outputs": [],
      "source": [
        "page = wiki_wiki.page('List_of_Academy_Award-winning_films')"
      ]
    },
    {
      "cell_type": "code",
      "execution_count": 63,
      "metadata": {},
      "outputs": [
        {
          "data": {
            "text/plain": [
              "'This is a list of Academy Award–winning films.\\nIf a film won the Academy Award for Best Picture, its entry is listed in a shaded background with a boldface title.\\nCompetitive Oscars are separated from non-competitive Oscars (i.e. Honorary Award, Special Achievement Award, Juvenile Award); as such, any films that were awarded a non-competitive award will be shown in brackets next to the number of competitive wins.\\n\\nStatistics\\nAs of March 1, 2016\\n\\nTotal number of films: 1,239\\nTotal number of Best Picture winners: 90\\nTotal number of awards ceremonies: 90\\nTotal number of awards associated with a film: 1,948 Competitive + 46 Honorary\\nTotal number of nominations associated with a film: 4,403\\nTotal number of Oscar Statuettes awarded: 2,810 Competitive + 49 Honorary = 2,859 in total\\n\\nSuperlatives\\nFilms with the most awards: Ben-Hur (1959), Titanic (1997), and The Lord of the Rings: The Return of the King (2003) each earned 11 Academy Awards.\\nFilms with the most nominations: All About Eve (1950), Titanic (1997), and La La Land (2016) each earned 14 Academy Award nominations.\\nFilm with the highest clean sweep: The Lord of the Rings: The Return of the King (2003) won all 11 Academy Awards from its 11 nominations.\\nFilms with the most nominations without a single win: The Turning Point (1977) and The Color Purple (1985) (11 nominations each)\\nFilm with the most awards without winning Best Picture: Cabaret (1972) won eight Academy Awards from its ten nominations. It lost Best Picture to The Godfather (1972).\\n\\n\\n== References =='"
            ]
          },
          "execution_count": 63,
          "metadata": {},
          "output_type": "execute_result"
        }
      ],
      "source": [
        "page.text"
      ]
    }
  ],
  "metadata": {
    "colab": {
      "provenance": []
    },
    "kernelspec": {
      "display_name": "Python 3",
      "name": "python3"
    },
    "language_info": {
      "codemirror_mode": {
        "name": "ipython",
        "version": 3
      },
      "file_extension": ".py",
      "mimetype": "text/x-python",
      "name": "python",
      "nbconvert_exporter": "python",
      "pygments_lexer": "ipython3",
      "version": "3.9.16"
    }
  },
  "nbformat": 4,
  "nbformat_minor": 0
}
