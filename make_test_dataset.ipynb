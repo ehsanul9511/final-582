{
 "cells": [
  {
   "cell_type": "code",
   "execution_count": 1,
   "metadata": {},
   "outputs": [],
   "source": [
    "import pandas as pd\n",
    "import numpy as np"
   ]
  },
  {
   "cell_type": "code",
   "execution_count": 3,
   "metadata": {},
   "outputs": [],
   "source": [
    "filename = 'data_2014'\n",
    "df = pd.read_csv(f'{filename}_with_topics_full.csv')\n",
    "wiki_df = pd.read_csv(f'{filename}_with_context.csv')"
   ]
  },
  {
   "cell_type": "code",
   "execution_count": 4,
   "metadata": {},
   "outputs": [],
   "source": [
    "# merge the two dataframes using index\n",
    "df = df.merge(wiki_df, left_index=True, right_index=True)"
   ]
  },
  {
   "cell_type": "code",
   "execution_count": 5,
   "metadata": {},
   "outputs": [],
   "source": [
    "df = df[['comments', 'context']]"
   ]
  },
  {
   "cell_type": "code",
   "execution_count": 6,
   "metadata": {},
   "outputs": [],
   "source": [
    "# drop rows with context as empty string\n",
    "df = df[df['context'] != '']\n",
    "df = df[df['context'] != 'nan']"
   ]
  },
  {
   "cell_type": "code",
   "execution_count": 7,
   "metadata": {},
   "outputs": [],
   "source": [
    "import ast\n",
    "df['comments'] = df['comments'].apply(ast.literal_eval)"
   ]
  },
  {
   "cell_type": "code",
   "execution_count": 8,
   "metadata": {},
   "outputs": [],
   "source": [
    "# filter rows that does not have topic in the comments\n",
    "z = lambda x: 'topic' in x['comments'][0]\n",
    "\n",
    "df = df[df.apply(z, axis=1)]"
   ]
  },
  {
   "cell_type": "code",
   "execution_count": 9,
   "metadata": {},
   "outputs": [],
   "source": [
    "# pivot the dataframe to have one comment per row\n",
    "df_new = df.explode('comments')"
   ]
  },
  {
   "cell_type": "code",
   "execution_count": 10,
   "metadata": {},
   "outputs": [],
   "source": [
    "df_new['context_index'] = df_new.index\n",
    "# drop rows with context as NaN\n",
    "df_new = df_new.dropna(subset=['context'])"
   ]
  },
  {
   "cell_type": "code",
   "execution_count": 11,
   "metadata": {},
   "outputs": [],
   "source": [
    "# drop rows that have comments with no topic\n",
    "df_new = df_new[df_new['comments'].apply(lambda x: 'topic' in x)]"
   ]
  },
  {
   "cell_type": "code",
   "execution_count": 13,
   "metadata": {},
   "outputs": [],
   "source": [
    "df_new['topic'] = df_new['comments'].apply(lambda x: x['topic'])"
   ]
  },
  {
   "cell_type": "code",
   "execution_count": 16,
   "metadata": {},
   "outputs": [],
   "source": [
    "df_new['text'] = df_new.apply(lambda x: f'<topic> {x[\"topic\"]} <context> {x[\"context\"]}', axis=1)\n",
    "df_new['question'] = df_new['comments'].apply(lambda x: x['body'])"
   ]
  },
  {
   "cell_type": "code",
   "execution_count": 18,
   "metadata": {},
   "outputs": [],
   "source": [
    "# df_new[['question', 'text']].to_csv('question_generator.csv', index=False)\n",
    "question_generation_test = df_new[['question', 'text']].copy()\n",
    "\n",
    "# reset the index\n",
    "question_generation_test.reset_index(drop=True, inplace=True)\n",
    "\n",
    "# shuffle the dataframe\n",
    "question_generation_test = question_generation_test.sample(frac=1).reset_index(drop=True)\n",
    "\n",
    "# save\n",
    "question_generation_test.to_csv('question_generator_test.csv', index=False)\n"
   ]
  }
 ],
 "metadata": {
  "kernelspec": {
   "display_name": "final582",
   "language": "python",
   "name": "python3"
  },
  "language_info": {
   "codemirror_mode": {
    "name": "ipython",
    "version": 3
   },
   "file_extension": ".py",
   "mimetype": "text/x-python",
   "name": "python",
   "nbconvert_exporter": "python",
   "pygments_lexer": "ipython3",
   "version": "3.8.16"
  },
  "orig_nbformat": 4
 },
 "nbformat": 4,
 "nbformat_minor": 2
}
