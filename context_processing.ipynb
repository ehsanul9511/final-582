{
 "cells": [
  {
   "cell_type": "code",
   "execution_count": 15,
   "metadata": {},
   "outputs": [],
   "source": [
    "import pandas as pd"
   ]
  },
  {
   "cell_type": "code",
   "execution_count": 16,
   "metadata": {},
   "outputs": [
    {
     "name": "stdout",
     "output_type": "stream",
     "text": [
      "Bill Clinton has a Wikipedia article!\n"
     ]
    }
   ],
   "source": [
    "import gzip\n",
    "\n",
    "# Load the Wikipedia article titles into a set for efficient lookup\n",
    "wiki_titles = set()\n",
    "with gzip.open(\"enwiki-latest-all-titles-in-ns0.gz\", \"rt\", encoding=\"utf-8\") as f:\n",
    "    for title in f:\n",
    "        title = title.strip()\n",
    "        title = title.replace(\"_\", \" \")\n",
    "        wiki_titles.add(title.strip())\n",
    "\n",
    "# Check if a person name has a Wikipedia article associated with it\n",
    "person_name = \"Bill Clinton\"\n",
    "if person_name in wiki_titles:\n",
    "    print(f\"{person_name} has a Wikipedia article!\")\n",
    "else:\n",
    "    print(f\"{person_name} does not have a Wikipedia article.\")"
   ]
  },
  {
   "cell_type": "code",
   "execution_count": 17,
   "metadata": {},
   "outputs": [],
   "source": [
    "import wikipedia\n",
    "\n",
    "# set the language for the Wikipedia API\n",
    "wikipedia.set_lang(\"en\")"
   ]
  },
  {
   "cell_type": "code",
   "execution_count": 19,
   "metadata": {},
   "outputs": [
    {
     "name": "stdout",
     "output_type": "stream",
     "text": [
      "I am Wolfgang Gartner. Ask me anything you want.\n",
      "Wolfgang Gartner has a Wikipedia article!\n",
      "We are the Pornhub team. Ask Us Anything.\n",
      "Pornhub has a Wikipedia article!\n",
      "I am Hans Zimmer, back on reddit once more. Ask me anything!\n",
      "sssss does not have a Wikipedia article. Did you mean: ['Sssssss', 'Navon figure', '2gether (Thai TV series)', 'Hemachandra', 'Production code number', 'Shotgun shell', 'Scrubb (band)', 'Moonwalk (dance)', 'Typographical Number Theory', 'Hexasulfur']?\n",
      "Hans Zimmer has a Wikipedia article!\n",
      "I'm Greg Bristol, retired FBI Special Agent fighting human trafficking. AMA!\n",
      "FBI has a Wikipedia article!\n",
      "This is Fat Mike from NOFX. I got tricked into doing this, shit! AMA\n",
      "NOFX has a Wikipedia article!\n",
      "I am Bryan Caplan, economist and professor at George Mason University and advocate of free immigration and free trade. AMA!\n",
      "sssss does not have a Wikipedia article. Did you mean: ['Sssssss', 'Navon figure', '2gether (Thai TV series)', 'Hemachandra', 'Production code number', 'Shotgun shell', 'Scrubb (band)', 'Moonwalk (dance)', 'Typographical Number Theory', 'Hexasulfur']?\n",
      "Bryan Caplan has a Wikipedia article!\n",
      "I am Ken Burns, documentary filmmaker. Ask me anything.\n",
      "Ken Burns has a Wikipedia article!\n",
      "Make it Work. Tim Gunn here from Project Runway, ask me anything.\n",
      "Tim Gunn has a Wikipedia article!\n",
      "We are RocketJump, creators of Video Game High School and freddiew! Ask us anything!\n",
      "Video Game High School has a Wikipedia article!\n",
      "IamA passenger on yesterday's Hijacked plane from Ethiopian Airlines to Geneva. Contrary to news coverage, it was hell. AMA!\n",
      "Story has a Wikipedia article!\n",
      "Jason Bateman here - ask me anything!\n",
      "Jason Bateman has a Wikipedia article!\n",
      "WeAreA videogame developer AUA!\n",
      "Videogame has a Wikipedia article!\n",
      "I am Jesse Ventura. I always speak my mind and search for the truth and now I want to hear from you. AMA\n",
      "sssss does not have a Wikipedia article. Did you mean: ['Sssssss', 'Navon figure', '2gether (Thai TV series)', 'Hemachandra', 'Production code number', 'Shotgun shell', 'Scrubb (band)', 'Moonwalk (dance)', 'Typographical Number Theory', 'Hexasulfur']?\n",
      "Jesse Ventura has a Wikipedia article!\n",
      "I am Dr. Sanjay Gupta, neurosurgeon and Chief Medical Correspondent at CNN. I'm doubling down on the legalization of medical marijuana. AMA\n",
      "Story has a Wikipedia article!\n",
      "Strongest Man in the World? I am Hafþór Júlíus \"Thor\" Björnsson of Iceland, Ask Me Anything.\n",
      "Story has a Wikipedia article!\n",
      "Alright you perverts! I'm that dude with three testicles...ask me anything!\n",
      "Story has a Wikipedia article!\n",
      "I am Max Brooks, author of \"World War Z\" and the upcoming graphic novel \"Harlem Hellfighters\". Ask me anything.\n",
      "Max Brooks has a Wikipedia article!\n",
      "IamArnold, I am back, and I brought David Ayer with me... Ask us anything.\n",
      "David Ayer has a Wikipedia article!\n",
      "My name is Karen Gillan. I'm an actress. Ask me anything!\n",
      "Karen Gillan has a Wikipedia article!\n",
      "This is Daniel Handler, aka Lemony Snicket, trapped in a windowless room but nonetheless willing to answer any questions I receive from total strangers.\n",
      "Lemony Snicket has a Wikipedia article!\n",
      "We are Regular Ordinary Swedish Meal Time, and we are back. Ask us anything!\n",
      "Regular Ordinary Swedish Meal Time does not have a Wikipedia article. Did you mean: ['Epic Meal Time', 'Sweden', 'Last meal', 'Ancient Israelite cuisine', 'Pentecost', 'Désirée Clary', 'Freeze drying', 'Danish cuisine', 'Early modern European cuisine', 'Mole (animal)']?\n",
      "Story has a Wikipedia article!\n",
      "We are the performers and writers from RiffTrax.com, formerly from MST3K. AMA!\n",
      "RiffTrax has a Wikipedia article!\n",
      "I've been traveling around the world without flying for 2.5 years, just crossed the Pacific Ocean on a cargo ship. AMA!\n",
      "Story has a Wikipedia article!\n",
      "IAmA Casino Pit Boss with years of experience in Table Games and Casino Ops and would love to answer questions you may have about the business!\n",
      "Story has a Wikipedia article!\n",
      "We are the Microsoft Office for iPad team. Ask Us Anything.\n",
      "iPad does not have a Wikipedia article. Did you mean: ['IPad', 'List of iPad models', 'IPad Pro', 'IOS', 'IPad (1st generation)', 'IPad 2', 'IPad (6th generation)', 'IPad Air 2', 'IPad Air (4th generation)', 'IPad Mini']?\n",
      "IPad has a Wikipedia article!\n",
      "I am author and scholar of religions Reza Aslan. I'm here to answer your questions about God, Jesus, Easter and anything else on your mind. AMA!\n",
      "Reza Aslan has a Wikipedia article!\n",
      "Ask Gov. Gary Johnson\n",
      "Governor has a Wikipedia article!\n",
      "IamA Nigerian who witnessed the 2001 Jos riots and the Boko Haram insurgency AMA!\n",
      "Boko Haram has a Wikipedia article!\n",
      "I am Larry King, back again on reddit. AMAA.\n",
      "Larry King has a Wikipedia article!\n",
      "Hi, I’m Warren Farrell, author of *The Myth of Male Power* and *Father and Child Reunion*\n",
      "Warren Farrell has a Wikipedia article!\n",
      "I am one of the top 40 ranked Female Professional Pool Players on the Pro Tour. I'm 27 years old. ASK ME ANYTHING!!!\n",
      "Story has a Wikipedia article!\n",
      "We am Andrew Jackson Jihad AMA!\n",
      "Andrew Jackson has a Wikipedia article!\n",
      "I am Richard Ayoade, and ask me anything.\n",
      "Richard Ayoade has a Wikipedia article!\n",
      "Sarah McLachlan here on reddit. Ask me anything. Fire away!\n",
      "Sarah McLachlan has a Wikipedia article!\n",
      "I am Charles Ramsey, the scary-looking black dude who helped rescue three kidnapped women from that freak Ariel Castro in Cleveland one year ago . . . AMA\n",
      "Story has a Wikipedia article!\n",
      "We are candidates for the Pirate Party in the European Parliamentary Elections - Ask us anything!\n",
      "Pirate Party has a Wikipedia article!\n",
      "Hello, it's Sean Bean. A legend on LEGENDS. AMA!\n",
      "Sean Bean has a Wikipedia article!\n",
      "I'm Watsky. Ask me anything.\n",
      "Watsky has a Wikipedia article!\n",
      "Hello there, I'm R.A. Salvatore, a fantasy author for more than a quarter--century now. Ask Me Anything.\n",
      "R.A. Salvatore has a Wikipedia article!\n",
      "IamA teenager with pectus carinatum (pigeon chest), who is currently wearing a chest brace. AMA\n",
      "Pigeon Chest does not have a Wikipedia article. Did you mean: ['Pectus carinatum', 'Pigeon fever', 'Fancy pigeon', 'Common wood pigeon', 'Lahore pigeon', 'Columbidae', 'Rickets', 'Victoria crowned pigeon', 'Haller index', 'Rock dove']?\n",
      "sssss does not have a Wikipedia article. Did you mean: ['Sssssss', 'Navon figure', '2gether (Thai TV series)', 'Hemachandra', 'Production code number', 'Shotgun shell', 'Scrubb (band)', 'Moonwalk (dance)', 'Typographical Number Theory', 'Hexasulfur']?\n",
      "Pectus carinatum has a Wikipedia article!\n",
      "I am Dr. Sanjay Gupta, neurosurgeon and Chief Medical Correspondent at CNN. Ebola can be terrifying but when it comes to protecting ourselves and the world, knowledge is power. AMA!\n",
      "Story has a Wikipedia article!\n",
      "I am Gov. Gary Johnson, Honorary Chairman of the Our America Initiative. AMA!\n",
      "Governor has a Wikipedia article!\n",
      "IamA Cable technician for Time Warner Cable.I am here to answer ALL of your questions! So AMA!\n",
      "Time Warner has a Wikipedia article!\n",
      "I am Paris Themmen. I played Mike Teevee in the original Willy Wonka. AMA!\n",
      "Willy Wonka has a Wikipedia article!\n",
      "I am bestselling author Lee Child, creator of the Jack Reacher novels. Ask Me Anything!\n",
      "Jack Reacher has a Wikipedia article!\n",
      "I am Andrew Scott, Moriarty in BBC’s Sherlock and starring in British comedy PRIDE, in UK cinemas Sept 12. AMA!\n",
      "Andrew Scott (Actor) does not have a Wikipedia article. Did you mean: ['Andrew Scott (actor)', 'Andrew Scott', 'Scott Caan', 'Adam Scott (actor)', 'Andrew Walker (actor)', 'Andrew Buchan', 'Andrew Koenig', 'Andrew Rannells', 'Andrew Stevens', 'Andrew Caldwell (actor)']?\n",
      "Andrew Scott (actor) has a Wikipedia article!\n",
      "We are Michael Cera. And Kieran Culkin. Ask us stuff.\n",
      "Michael Cera has a Wikipedia article!\n",
      "Jason McCourty of the Tennessee Titans here, AMA.\n",
      "Tennessee Titans has a Wikipedia article!\n",
      "I'm Guardian editor Matt Wells. Got questions on Scottish independence? Ask away!\n",
      "Guardian (Newspaper) does not have a Wikipedia article. Did you mean: ['The Guardian', 'TheGuardian.com', 'Mail & Guardian', 'Guardian Media Group', 'Guardian', 'The Guardian (Anglican newspaper)', 'The Observer', 'The Nassau Guardian', 'The Guardian (Nigeria)', 'The Guardian Weekly']?\n",
      "The Guardian has a Wikipedia article!\n",
      "I quit my job in an opticians - I'm now free to give you inside info on how not to get ripped off when getting glasses or contact lenses! AMA!\n",
      "Story has a Wikipedia article!\n",
      "I am an 80-year-old Holocaust survivor who co-founded the US Animal Rights movement. AMA\n",
      "sssss does not have a Wikipedia article. Did you mean: ['Sssssss', 'Navon figure', '2gether (Thai TV series)', 'Hemachandra', 'Production code number', 'Shotgun shell', 'Scrubb (band)', 'Moonwalk (dance)', 'Typographical Number Theory', 'Hexasulfur']?\n",
      "Story has a Wikipedia article!\n",
      "I am Ron Perlman, eater of tuna on rye (currently). AM-the-fuck-A.\n",
      "Ron Perlman (Actor) does not have a Wikipedia article. Did you mean: ['Ron Perlman', 'List of Ron Perlman performances', 'Perlman', 'Ron Perleman', 'Delroy Edwards (musician)', 'Lehman College', 'Beauty and the Beast (1987 TV series)', 'Season of the Witch (2011 film)', 'Ron (given name)', 'Ron Howard']?\n",
      "Ron Perlman has a Wikipedia article!\n",
      "I am finished riding a bicycle solo across Africa, sleeping in the wild and conquering some of my deepest fears but one year on, I have now reached the Pyramids of Egypt AMA\n",
      "Story has a Wikipedia article!\n",
      "I am Cyndi Lauper. Whaddya wanna know?\n",
      "Cyndi Lauper has a Wikipedia article!\n",
      "We are Canadian rock band Billy Talent! ASK US ANYTHING.\n",
      "Billy Talent has a Wikipedia article!\n",
      "IAMA physicist/author. Ask me to calculate anything. (part 2)\n",
      "Story has a Wikipedia article!\n",
      "Hi! My name is Earl... Thomas. I'm part of the Seattle Seahawks' Legion of Boom. AMAA.\n",
      "Legion of Boom has a Wikipedia article!\n",
      "I am a water economist. AMA on water issues anywhere on earth, now or in the future!\n",
      "Story has a Wikipedia article!\n",
      "I'm Marques Brownlee (aka MKBHD) and I make tech videos on YouTube. AMA!\n",
      "ssss does not have a Wikipedia article. Did you mean: ['SSSS.Gridman', 'SSSS.Dynazenon', 'Ssss', 'SSSS', 'Gridman Universe', 'List of SSSS.Dynazenon episodes', 'Staphylococcal scalded skin syndrome', 'List of SSSS.Gridman episodes', 'Secondary Security Screening Selection', 'List of characters in the Gridman Universe']?\n",
      "Marques Brownlee has a Wikipedia article!\n",
      "I am Joel Hodgson, creator of Mystery Science Theater 3000, why don't you come at me?\n",
      "Mystery Science Theater 3000 has a Wikipedia article!\n",
      "IamA Baggage handler at a major US airport, I handle your luggage and more! AMA!\n",
      "Story has a Wikipedia article!\n",
      "This is the legend The Iron Sheik. AMA.\n",
      "The Iron Sheik has a Wikipedia article!\n",
      "I am Mikko Hypponen, a computer security expert. Ask me anything!\n",
      "Mikko Hypponen has a Wikipedia article!\n",
      "I am Billy Corgan of the Smashing Pumpkins and Madame Zuzu's. AMA.\n",
      "Smashing Pumpkins has a Wikipedia article!\n",
      "We are Knife Party (aka Rob Swire and Gareth McGrillen). Ask us anything!\n",
      "Knife Party has a Wikipedia article!\n",
      "We are Starbomb. We released a video game comedy album called Player Select! ASK US STUFF!!!\n",
      "Starbomb has a Wikipedia article!\n",
      "Chris Rock here! AMA!\n",
      "Chris Rock (Comedian) does not have a Wikipedia article. Did you mean: ['Chris Rock', 'Tony Rock', 'Chris Rock filmography', 'Will Smith–Chris Rock slapping incident', 'The Chris Rock Show', 'Chris Rock: Tamborine', 'List of Everybody Hates Chris characters', 'Chris Rock: Bring the Pain', 'Everybody Hates Chris', 'Chris Farley']?\n",
      "Chris Rock has a Wikipedia article!\n",
      "IamA 28 year old comedian dying of cancer. Trying to inspire people to have more fun with life. Raw and uncut. AMA!\n",
      "Story has a Wikipedia article!\n",
      "I am an oilfield worker, AMA.\n",
      "Story has a Wikipedia article!\n",
      "US Marine. Was deployed to Afghanistan, was in multiple firefights, and was hit by a 60lb IED. AMA\n",
      "Story has a Wikipedia article!\n"
     ]
    }
   ],
   "source": [
    "filename = 'data_2014'\n",
    "df = pd.read_csv(f'{filename}_with_topics_full.csv')\n",
    "# df = pd.read_json(filename)\n",
    "\n",
    "for index, row in df.iterrows():\n",
    "    title = row['title']\n",
    "    print(title)\n",
    "\n",
    "    # ask for user input\n",
    "    while True:\n",
    "        usertext = input(\"Enter a person's name: \")\n",
    "        # check if the title is in the set\n",
    "        if usertext in wiki_titles:\n",
    "            print(f\"{usertext} has a Wikipedia article!\")\n",
    "            break\n",
    "        elif usertext == 'q':\n",
    "            break\n",
    "        else:\n",
    "            titles = wikipedia.search(usertext)\n",
    "            print(f\"{usertext} does not have a Wikipedia article. Did you mean: {titles}?\")\n",
    "\n",
    "    df.at[index, 'wiki'] = usertext\n"
   ]
  },
  {
   "cell_type": "code",
   "execution_count": 21,
   "metadata": {},
   "outputs": [],
   "source": [
    "df[['title', 'wiki']].to_csv(f'{filename}_wiki.csv')"
   ]
  },
  {
   "cell_type": "code",
   "execution_count": 22,
   "metadata": {},
   "outputs": [],
   "source": [
    "df_wiki = pd.read_csv(f'{filename}_wiki.csv')"
   ]
  },
  {
   "cell_type": "code",
   "execution_count": 23,
   "metadata": {},
   "outputs": [],
   "source": [
    "import numpy as np"
   ]
  },
  {
   "cell_type": "code",
   "execution_count": 24,
   "metadata": {},
   "outputs": [],
   "source": [
    "import wikipediaapi\n",
    "\n",
    "# Initialize the Wikipedia API\n",
    "wiki_api = wikipediaapi.Wikipedia('en')"
   ]
  },
  {
   "cell_type": "code",
   "execution_count": 25,
   "metadata": {},
   "outputs": [],
   "source": [
    "# grab the first paragraph from the summary of the Wikipedia article\n",
    "for index, row in df_wiki.iterrows():\n",
    "    title = row['title']\n",
    "    wiki = row['wiki']\n",
    "    if wiki in ['Request', 'Story']:\n",
    "        df_wiki.at[index, 'summary'] = np.nan\n",
    "        continue\n",
    "    try:\n",
    "        summary = wiki_api.page(wiki).summary.split('\\n')[0]\n",
    "        df_wiki.at[index, 'summary'] = summary\n",
    "        # print(f\"{wiki} summary: {summary}\")\n",
    "    except:\n",
    "        print(f\"Error: {wiki} does not have a summary.\")"
   ]
  },
  {
   "cell_type": "code",
   "execution_count": 26,
   "metadata": {},
   "outputs": [],
   "source": [
    "df_wiki.to_csv(f'{filename}_wiki_summary.csv')"
   ]
  },
  {
   "cell_type": "code",
   "execution_count": 27,
   "metadata": {},
   "outputs": [],
   "source": [
    "df_wiki = pd.read_csv(f'{filename}_wiki_summary.csv')"
   ]
  },
  {
   "cell_type": "code",
   "execution_count": 28,
   "metadata": {},
   "outputs": [
    {
     "name": "stderr",
     "output_type": "stream",
     "text": [
      "[nltk_data] Downloading package punkt to\n",
      "[nltk_data]     /Users/ehsanulkabir/nltk_data...\n",
      "[nltk_data]   Package punkt is already up-to-date!\n"
     ]
    },
    {
     "data": {
      "text/plain": [
       "True"
      ]
     },
     "execution_count": 28,
     "metadata": {},
     "output_type": "execute_result"
    }
   ],
   "source": [
    "import re\n",
    "import nltk\n",
    "\n",
    "nltk.download('punkt') "
   ]
  },
  {
   "cell_type": "code",
   "execution_count": 29,
   "metadata": {},
   "outputs": [],
   "source": [
    "# replace nan summaries with empty strings\n",
    "df_wiki['summary'] = df_wiki['summary'].fillna('')\n",
    "\n",
    "# only keep as many sentences as needed to have a summary that is more than 50 tokens\n",
    "def get_first_sentence(summary):\n",
    "    sentences = nltk.sent_tokenize(summary)\n",
    "    for i, sentence in enumerate(sentences):\n",
    "        if len(nltk.word_tokenize(' '.join(sentences[:i]))) > 50:\n",
    "            return ' '.join(sentences[:i])\n",
    "    return summary\n",
    "\n",
    "df_wiki['summary'] = df_wiki['summary'].apply(get_first_sentence)\n",
    "\n",
    "# remove non-engish characters\n",
    "df_wiki['summary'] = df_wiki['summary'].apply(lambda x: re.sub(r'[^\\x00-\\x7F]+', '', x))\n",
    "\n",
    "# collapse multiple spaces into one\n",
    "df_wiki['summary'] = df_wiki['summary'].apply(lambda x: re.sub(r'\\s+', ' ', x))\n"
   ]
  },
  {
   "cell_type": "code",
   "execution_count": 30,
   "metadata": {},
   "outputs": [],
   "source": [
    "df_wiki.to_csv(f'{filename}_wiki_summary_clean.csv')"
   ]
  },
  {
   "cell_type": "code",
   "execution_count": 31,
   "metadata": {},
   "outputs": [],
   "source": [
    "df_wiki = pd.read_csv(f'{filename}_wiki_summary_clean.csv')"
   ]
  },
  {
   "cell_type": "code",
   "execution_count": 32,
   "metadata": {},
   "outputs": [],
   "source": [
    "# preprocess title\n",
    "# replace 'iama' in any variation of capital/lowercase letters with 'I am a'\n",
    "df_wiki['title'] = df_wiki['title'].apply(lambda x: re.sub(r'iama ', 'I am a ', x, flags=re.IGNORECASE))\n",
    "\n",
    "# replace ' ama' in any variation of capital/lowercase letters with ''\n",
    "df_wiki['title'] = df_wiki['title'].apply(lambda x: re.sub(r' ama', '', x, flags=re.IGNORECASE))\n",
    "\n",
    "# replace ' aua' in any variation of capital/lowercase letters with ''\n",
    "df_wiki['title'] = df_wiki['title'].apply(lambda x: re.sub(r' aua', '', x, flags=re.IGNORECASE))\n",
    "\n",
    "# replace '&amp;' with '&'\n",
    "df_wiki['title'] = df_wiki['title'].apply(lambda x: re.sub(r'&amp;', '&', x))"
   ]
  },
  {
   "cell_type": "code",
   "execution_count": 33,
   "metadata": {},
   "outputs": [],
   "source": [
    "# find a list of non-alphanumeric characters in the title\n",
    "non_alphanumeric = df_wiki['title'].apply(lambda x: re.findall(r'[^a-zA-Z0-9 ]', x))\n",
    "# merge all the lists into one list\n",
    "non_alphanumeric = [item for sublist in non_alphanumeric for item in sublist]\n",
    "# remove duplicates\n",
    "non_alphanumeric = list(set(non_alphanumeric))\n",
    "\n",
    "safe_characters = [' ', '&', '-', \"'\", '.', ',', '!', '?', ':', ';', '(', ')', '[', ']', '/', '\"', '%', '$', '@', '#', '+', '=']\n",
    "\n",
    "# remove safe characters from the list of non-alphanumeric characters\n",
    "for char in safe_characters:\n",
    "    if char in non_alphanumeric:\n",
    "        non_alphanumeric.remove(char)\n",
    "\n",
    "# remove non-alphanumeric characters from the title\n",
    "def remove_non_alphanumeric(title):\n",
    "    for char in non_alphanumeric:\n",
    "        title = title.replace(char, '')\n",
    "    return title\n",
    "\n",
    "df_wiki['title'] = df_wiki['title'].apply(remove_non_alphanumeric)"
   ]
  },
  {
   "cell_type": "code",
   "execution_count": 34,
   "metadata": {},
   "outputs": [],
   "source": [
    "# function to truncate after 'Ask' in the title\n",
    "def truncate_title(title):\n",
    "    # find the index of 'Ask' in the title\n",
    "    index = title.lower().find('ask ')\n",
    "    # if 'Ask' is not found, return the original title\n",
    "    if index == -1:\n",
    "        return title\n",
    "    # otherwise, return the title truncated after 'Ask'\n",
    "    else:\n",
    "        return title[:index]\n",
    "    \n",
    "df_wiki['title'] = df_wiki['title'].apply(truncate_title)\n",
    "\n",
    "# remove leading and trailing whitespace\n",
    "df_wiki['title'] = df_wiki['title'].apply(lambda x: x.strip())\n",
    "\n",
    "# replace consecutive punctuation with the last punctuation\n",
    "df_wiki['title'] = df_wiki['title'].apply(lambda x: re.sub(r'[.,?!:;]+(?=[.,?!:;])', '', x))"
   ]
  },
  {
   "cell_type": "code",
   "execution_count": 35,
   "metadata": {},
   "outputs": [],
   "source": [
    "df_wiki.to_csv(f'{filename}_wiki_summary_title_clean.csv')"
   ]
  },
  {
   "cell_type": "code",
   "execution_count": 36,
   "metadata": {},
   "outputs": [],
   "source": [
    "df_wiki = pd.read_csv(f'{filename}_wiki_summary_title_clean.csv')"
   ]
  },
  {
   "cell_type": "code",
   "execution_count": 39,
   "metadata": {},
   "outputs": [],
   "source": [
    "# replace nan summary and title with empty strings\n",
    "df_wiki['summary'] = df_wiki['summary'].fillna('')\n",
    "df_wiki['title'] = df_wiki['title'].fillna('')"
   ]
  },
  {
   "cell_type": "code",
   "execution_count": 40,
   "metadata": {},
   "outputs": [],
   "source": [
    "# combine the title and summary into one column: context\n",
    "df_wiki['context'] = df_wiki.apply(lambda x: x['title'] + ' ' + x['summary'], axis=1)"
   ]
  },
  {
   "cell_type": "code",
   "execution_count": 41,
   "metadata": {},
   "outputs": [],
   "source": [
    "# make context empty string if there is no summary\n",
    "df_wiki['context'] = df_wiki.apply(lambda x: '' if x['summary'] == '' else x['context'], axis=1)"
   ]
  },
  {
   "cell_type": "code",
   "execution_count": 42,
   "metadata": {},
   "outputs": [],
   "source": [
    "df_wiki[['context', 'title']].to_csv(f'{filename}_with_context.csv')"
   ]
  },
  {
   "cell_type": "code",
   "execution_count": 43,
   "metadata": {},
   "outputs": [
    {
     "data": {
      "text/plain": [
       "array(['I am Wolfgang Gartner. Joseph Thomas Youngman (born March 17, 1982), better known by his stage name Wolfgang Gartner, is an American DJ and music producer. Much of his music prior to 2010 was released through his own record label, Kindergarten, but he signed with Ultra Records in 2010 and Ministry of Sound in the UK in 2011.',\n",
       "       'We are the Pornhub team. Pornhub is a Canadian-owned internet pornography website. It is one of several pornographic video-streaming websites owned by MindGeek. As of November 2022, Pornhub is the 13th-most-trafficked website in the world and the second-most-trafficked adult website after XVideos.Pornhub was launched in Montreal, Canada, in 2007. Pornhub also has an office and servers in Limassol, Cyprus.',\n",
       "       'I am Hans Zimmer, back on reddit once more. Hans Florian Zimmer (German pronunciation: [hans floian tsm] (listen); born 12 September 1957) is a German film score composer and music producer. He has won two Oscars and four Grammys, and has been nominated for two Emmys and a Tony.',\n",
       "       \"I'm Greg Bristol, retired FBI Special Agent fighting human trafficking! The Federal Bureau of Investigation (FBI) is the domestic intelligence and security service of the United States and its principal federal law enforcement agency. Operating under the jurisdiction of the United States Department of Justice, the FBI is also a member of the U.S. Intelligence Community and reports to both the Attorney General and the Director of National Intelligence.\",\n",
       "       'This is Fat Mike from NOFX. I got tricked into doing this, shit! NOFX () is an American punk rock band formed in Los Angeles in 1983. Vocalist/bassist Fat Mike, guitarist Eric Melvin and drummer Erik Sandin are original founding and longest-serving members of the band, who have appeared on every release of the band, although Sandin departed briefly in 1985, only to rejoin the following year.',\n",
       "       'I am Bryan Caplan, economist and professor at George Mason University and advocate of free immigration and free trade! Bryan Douglas Caplan (born April 8, 1971) is an American economist and author. Caplan is a professor of economics at George Mason University, research fellow at the Mercatus Center, adjunct scholar at the Cato Institute, and former contributor to the Freakonomics blog and EconLog.',\n",
       "       'I am Ken Burns, documentary filmmaker. Kenneth Lauren Burns (born July 29, 1953) is an American filmmaker known for his documentary films and television series, many of which chronicle American history and culture. His work is often produced in association with WETA-TV and/or the National Endowment for the Humanities and distributed by PBS.',\n",
       "       'Make it Work. Tim Gunn here from Project Runway, Timothy MacKenzie Gunn (born July 29, 1953) is an American author, academic, and television personality. He served on the faculty of Parsons School of Design from 1982 to 2007 and was chair of fashion design at the school from August 2000 to March 2007, after which he joined Liz Claiborne (now Kate Spade & Company) as its chief creative officer.',\n",
       "       'We are RocketJump, creators of Video Game High School and freddiew! Video Game High School (often abbreviated VGHS) is an American action comedy web series from RocketJump Studios. It was written by Matthew Arnold, Will Campos and Brian Firenzi and directed by Matthew Arnold, Brandon Laatsch, and Freddie Wong. RocketJump Studios describes the series as \"a show about best friends, first loves, and landing that perfect head shot\".',\n",
       "       '',\n",
       "       'Jason Bateman here - Jason Kent Bateman (born January 14, 1969) is an American actor, director, and producer. He is known for his roles of Michael Bluth in the Fox/Netflix sitcom Arrested Development and Marty Byrde in the Netflix crime drama series Ozark (20172022). He has received several awards including a Golden Globe Award, a Primetime Emmy Award, and three Screen Actors Guild Awards.',\n",
       "       'WeAreA videogame developer! A video game is an electronic game that involves interaction with a user interface or input device (such as a joystick, controller, keyboard, or motion sensing device) to generate visual feedback from a display device, most commonly shown in a video format on a television set, computer monitor, flat-panel display or touchscreen on handheld devices, or a virtual reality headset, hence the name.',\n",
       "       \"I am Jesse Ventura. I always speak my mind and search for the truth and now I want to hear from you. Jesse Ventura (born James George Janos; July 15, 1951) is an American politician, actor, and retired professional wrestler. After achieving fame in the World Wrestling Federation (WWF), he served as the 38th governor of Minnesota from 1999 to 2003. He was elected governor with the Reform Party and is the party's only candidate to win a major government office.\",\n",
       "       '', '', '',\n",
       "       'I am Max Brooks, author of \"World War Z\" and the upcoming graphic novel \"Harlem Hellfighters\". Maximillian Michael Brooks (born May 22, 1972) is an American actor and author. He is the son of comedy filmmaker Mel Brooks and actress Anne Bancroft. Much of Brooks\\'s writing focuses on zombie stories. He is a senior fellow at the Modern War Institute at West Point, New York.',\n",
       "       'IamArnold, I am back, and I brought David Ayer with me. David Ayer (born January 18 , 1968) is an American filmmaker known for making crime films that are set in Los Angeles and deal with gangs and police corruption. His screenplays include Training Day (2001), The Fast and the Furious (2001), and S.W.A.T.',\n",
       "       \"My name is Karen Gillan. I'm an actress. Karen Sheila Gillan (; born 28 November 1987) is a Scottish actress. She gained recognition for her work in British film and television, particularly for playing Amy Pond, a primary companion to the Eleventh Doctor in the science fiction series Doctor Who (20102013), for which she received several awards and nominations.\",\n",
       "       \"This is Daniel Handler, aka Lemony Snicket, trapped in a windowless room but nonetheless willing to answer any questions I receive from total strangers. Lemony Snicket is the pen name of American author Daniel Handler (born February 28, 1970). Handler has published several children's books under the name, most notably A Series of Unfortunate Events, which has sold over 60 million copies and spawned a 2004 film and TV series from 2017 to 2019.\",\n",
       "       '',\n",
       "       'We are the performers and writers from RiffTrax.com, formerly from MST3K! RiffTrax is an American company that produces scripted humorous commentary tracks which are synced to mostly public domain feature films, education shorts, and television episodes. With the talents of former Mystery Science Theater 3000 (MST3K) cast members and writers, RiffTrax also produces several live shows each year which are broadcast to movie theaters.',\n",
       "       '', '',\n",
       "       'We are the Microsoft Office for iPad team. The iPad is a brand of iOS and iPadOS-based tablet computers that are developed by Apple Inc. The iPad was conceived before the related iPhone but the iPhone was developed and released first. Speculation about the development, operating system, and release of the original iPad began in 2002 prior to its introduction on January 27, 2010.',\n",
       "       \"I am author and scholar of religions Reza Aslan. I'm here to answer your questions about God, Jesus, Easter and anything else on your mind! Reza Aslan (Persian: , IPA: [ez sln]; born May 3, 1972) is an Iranian-American scholar of sociology of religion, writer, and television host. A convert to evangelical Christianity from Shia Islam as a youth, Aslan eventually reverted to Islam but continued to write about Christianity.\",\n",
       "       \" A governor is an administrative leader and head of a polity or political region, ranking under the head of state and in some cases, such as governors-general, as the head of a state's official representative. Depending on the type of political region or polity, a governor may be either appointed or elected, and the governor's powers can vary significantly, depending on the public laws in place locally.\",\n",
       "       \"I am a Nigerian who witnessed the 2001 Jos riots and the Boko Haram insurgency! Boko Haram, officially known as Jam'at Ahl as-Sunnah lid-Da'wah wa'l-Jihd (Arabic: , lit. 'Group of the People of Sunnah for Dawah and Jihad'), is an Islamist militant organization based in northeastern Nigeria, which is also active in Chad, Niger, northern Cameroon, and Mali.\",\n",
       "       'I am Larry King, back again on reddit.A. Larry King (born Lawrence Harvey Zeiger; November 19, 1933 January 23, 2021) was an American television and radio host, whose awards included 2 Peabodys, an Emmy and 10 Cable ACE Awards. Over his career, he hosted over 50,000 interviews.King was born and raised in New York City to Jewish parents who immigrated to the United States from Belarus in the 1930s.',\n",
       "       \"Hi, Im Warren Farrell, author of The Myth of Male Power and Father and Child Reunion Warren Thomas Farrell (born June 26, 1943) is an American political scientist, activist, and author of seven books on men's and women's issues. He is a leading figure of the Men's Rights Movement.Farrell initially came to prominence in the 1970s as a supporter of second wave feminism; he served on the New York City Board of the National Organization for Women (NOW).\",\n",
       "       '',\n",
       "       'We am Andrew Jackson Jihad! Andrew Jackson (March 15, 1767 June 8, 1845) was an American lawyer, planter, general, and statesman who served as the seventh president of the United States from 1829 to 1837. Before being elected to the presidency, he gained fame as a general in the U.S. Army and served in both houses of the U.S. Congress.',\n",
       "       'I am Richard Ayoade, and Richard Ellef Ayoade ( EYE-oh-AH-dee; born 23 May 1977) is a British comedian, actor, broadcaster and filmmaker. He played the role of socially awkward IT technician Maurice Moss in Channel 4 sitcom The IT Crowd (20062013), for which he won the 2014 BAFTA for Best Male Comedy Performance.',\n",
       "       \"Sarah McLachlan here on reddit. Sarah Ann McLachlan OC OBC (born January 28, 1968) is a Canadian singer-songwriter. As of 2015, she had sold over 40 million albums worldwide. McLachlan's best-selling album to date is Surfacing, for which she won two Grammy Awards (out of four nominations) and four Juno Awards.\",\n",
       "       '',\n",
       "       'We are candidates for the Pirate Party in the European Parliamentary Elections - Pirate Party is a label adopted by political parties around the world. Pirate parties support civil rights, direct democracy (including e-democracy) or alternatively participation in government, reform of copyright and patent laws to make them more flexible and open to encourage innovation and creativity, use of free and open-source software, free sharing of knowledge (open content and open access), information privacy, transparency, freedom of information, free speech, anti-corruption, net neutrality and oppose mass surveillance, censorship and Big Tech.Their libertarian philosophy is based on the idea that the Internet is a public space and that everyone should have the right to access it equally, they argue that interference by governments and IT big business violates the right to live as one wishes, without fear or coercion, and that the citizens should have the right to express their opinions freely and without restraint, even if those opinions are controversial or unpopular.',\n",
       "       \"Hello, it's Sean Bean. A legend on LEGENDS! Sean Bean (born Shaun Mark Bean on 17 April 1959) is an English actor. After graduating from the Royal Academy of Dramatic Art, Bean made his professional debut in a theatre production of Romeo and Juliet in 1983. Retaining his Yorkshire accent, he first found mainstream success for his portrayal of Richard Sharpe in the ITV series Sharpe, which originally ran from 1993 to 1997.\",\n",
       "       \"I'm Watsky. George Virden Watsky (born September 15, 1986), known mononymously as Watsky, is an American rapper, singer, songwriter, record producer, poet, author, and illustrator.\",\n",
       "       \"Hello there, I'm R.A. Salvatore, a fantasy author for more than a quarter--century now. Robert Anthony Salvatore (born January 20, 1959) is an American author best known for The Legend of Drizzt, a series of fantasy novels set in the Forgotten Realms and starring the popular character Drizzt Do'Urden. He has also written The DemonWars Saga, a series of high fantasy novels; several other Forgotten Realms novels; and Vector Prime, the first novel in the Star Wars: The New Jedi Order series.\",\n",
       "       'I am a teenager with pectus carinatum (pigeon chest), who is currently wearing a chest brace. Pectus carinatum, also called pigeon chest, is a malformation of the chest characterized by a protrusion of the sternum and ribs. It is distinct from the related malformation pectus excavatum.',\n",
       "       '',\n",
       "       \"I am Gov. Gary Johnson, Honorary Chairman of the Our America Initiative! A governor is an administrative leader and head of a polity or political region, ranking under the head of state and in some cases, such as governors-general, as the head of a state's official representative. Depending on the type of political region or polity, a governor may be either appointed or elected, and the governor's powers can vary significantly, depending on the public laws in place locally.\",\n",
       "       'I am a Cable technician for Time Warner Cable.I am here to answer ALL of your questions! So! Warner Media, LLC (traded as WarnerMedia) was an American multinational mass media and entertainment conglomerate. It was headquartered at the 30 Hudson Yards complex in New York City, United States.',\n",
       "       \"I am Paris Themmen. I played Mike Teevee in the original Willy Wonka! Willy Wonka is a fictional character appearing in British author Roald Dahl's 1964 children's novel Charlie and the Chocolate Factory and its 1972 sequel Charlie and the Great Glass Elevator. He is the eccentric founder and proprietor of the Wonka Chocolate Factory.Wonka has been portrayed in film multiple times.\",\n",
       "       \"I am bestselling author Lee Child, creator of the Jack Reacher novels. Jack Reacher is the protagonist of a series of crime thriller novels by British author Lee Child, a 2012 theatrical adaptation, its 2016 sequel, and a television series on Amazon Prime Video. In the stories, Jack Reacher was a major in the US Army's military police.\",\n",
       "       \"I am Andrew Scott, Moriarty in BBCs Sherlock and starring in British comedy PRIDE, in UK cinemas Sept 12! Andrew Scott (born 21 October 1976) is an Irish actor. He played Jim Moriarty in the BBC series Sherlock, for which he won the BAFTA Television Award for Best Supporting Actor. Scott's role as the priest on the second series of Fleabag earned a nomination for the Golden Globe Award for Best Supporting Actor Series, Miniseries or Television Film and won the Critics' Choice Television Award for Best Supporting Actor in a Comedy Series.\",\n",
       "       'We are Michael Cera. And Kieran Culkin. Michael Austin Cera (; Italian: [tera]; born June 7, 1988) is a Canadian actor. He is known for his awkward, offbeat characters in coming of age comedy films and for portraying George Michael Bluth in the sitcom Arrested Development (20032006, 2013, 20182019). ',\n",
       "       'Jason McCourty of the Tennessee Titans here. The Tennessee Titans are a professional American football team based in Nashville, Tennessee. The Titans compete in the National Football League (NFL) as a member club of the American Football Conference (AFC) South division, and play their home games at Nissan Stadium.',\n",
       "       \"I'm Guardian editor Matt Wells. Got questions on Scottish independence? The Guardian is a British daily newspaper. It was founded in 1821 as The Manchester Guardian, and changed its name in 1959. Along with its sister papers, The Observer and The Guardian Weekly, The Guardian is part of the Guardian Media Group, owned by the Scott Trust.\",\n",
       "       '', '',\n",
       "       \"I am Ron Perlman, eater of tuna on rye (currently). AM-the-fuck-A. Ronald Perlman (born April 13, 1950) is an American actor. His credits include the roles of Amoukar in Quest for Fire (1981), Salvatore in The Name of the Rose (1986), Vincent in the television series Beauty and the Beast (19871990), for which he won a Golden Globe Award, One in The City of Lost Children (1995), Johner in Alien Resurrection (1997), Hellboy in both Hellboy (2004) and its sequel Hellboy II: The Golden Army (2008), Clay Morrow on the television series Sons of Anarchy (20082013), Nino in Drive (2011) and Benedict Drask in Don't Look Up (2021).\",\n",
       "       '',\n",
       "       'I am Cyndi Lauper. Whaddya wanna know? Cynthia Ann Stephanie Lauper (born June 22, 1953) is an American singer, songwriter, actress, and activist. Her career has spanned over 40 years. Her album She\\'s So Unusual (1983) was the first debut album by a female artist to achieve four top-five hits on the Billboard Hot 100\"Girls Just Want to Have Fun\", \"Time After Time\", \"She Bop\", and \"All Through the Night\"and earned Lauper the Best New Artist award at the 27th Annual Grammy Awards in 1985.',\n",
       "       \"We are Canadian rock band Billy Talent! Billy Talent is a Canadian rock band from Mississauga, Ontario. They formed in 1993 with lead vocalist Benjamin Kowalewicz, guitarist Ian D'Sa, bassist Jonathan Gallant, and drummer Aaron Solowoniuk. There have been no lineup changes, although Solowoniuk is currently taking a hiatus from the band due to a relapse of multiple sclerosis.\",\n",
       "       '',\n",
       "       \"Hi! My name is Earl. Thomas. I'm part of the Seattle Seahawks' Legion of Boom.A. The Legion of Boom (LOB) was the Seattle Seahawks secondary in the early 2010s. [1][2][3][4][5] The original group that was nicknamed the Legion of Boom consisted of the main starters in the Seahawks defensive backfield (the cornerback and safety positions): Richard Sherman, Earl Thomas, Kam Chancellor, Brandon Browner, Walter Thurmond and Byron Maxwell.\",\n",
       "       '',\n",
       "       \"I'm Marques Brownlee (aka MKBHD) and I make tech videos on YouTube! Marques Keith Brownlee ( mar-KEZ BROWN-lee; born December 3, 1993), also known professionally as MKBHD, is an American YouTuber and professional ultimate Frisbee player, best known for his technology-focused videos as well as his podcast Waveform. As of April 2023, he has about 19.4 million subscribers across all channels and 3.61 billion total video views.\",\n",
       "       \"I am Joel Hodgson, creator of Mystery Science Theater 3000, why don't you come at me? Mystery Science Theater 3000 (abbreviated as MST3K) is an American science fiction comedy film review television series created by Joel Hodgson. The show premiered on KTMA-TV (now WUCW) in Minneapolis, Minnesota, on November 24, 1988. It then moved to nationwide broadcast, first on The Comedy Channel/Comedy Central for seven seasons until its cancellation in 1996.\",\n",
       "       '',\n",
       "       \"This is the legend The Iron Sheik. Hossein Khosrow Ali Vaziri (Persian: , romanized: Hossein Xosr 'Ali Vaziri; born March 15, 1942), better known by his ring name The Iron Sheik, is an Iranian-born American retired professional wrestler, amateur wrestler and actor. He is the only Iranian champion in WWE history, having won the WWF World Heavyweight Championship in 1983.\",\n",
       "       'I am Mikko Hypponen, a computer security expert. Mikko Hermanni Hyppnen (Finnish pronunciation: [miko hypnen]; born 13 October 1969) is a Finnish computer security expert, speaker and author. He is known for the Hyppnen Law about IoT security, which states that whenever an appliance is described as being \"smart\", it is vulnerable.',\n",
       "       \"I am Billy Corgan of the Smashing Pumpkins and Madame Zuzu's. The Smashing Pumpkins (also referred to as simply Smashing Pumpkins) are an American alternative rock band from Chicago, Illinois. Formed in 1988 by frontman and guitarist Billy Corgan, bassist D'arcy Wretzky, guitarist James Iha and drummer Jimmy Chamberlin, the band has undergone several line-up changes since their reunion in 2006, with Corgan being the sole constant member since its inception.\",\n",
       "       'We are Knife Party (aka Rob Swire and Gareth McGrillen). Knife Party are an Australian electronic music duo consisting of Rob Swire and Gareth McGrillen, two members of the drum and bass band Pendulum.',\n",
       "       'We are Starbomb. We released a video game comedy album called Player Select! Starbomb is an American musical comedy group composed of Dan Avidan and Brian Wecht of musical comedy duo Ninja Sex Party together with Flash animator and Internet personality Arin Hanson and \"space rock masters\" TWRP, a Canadian music group known for collaborations with NSP. The songs of Starbomb consist of video game parodies; Avidan provides sung vocals, Hanson provides rapping vocals, and Wecht performs instruments.',\n",
       "       'Chris Rock here! Christopher Julius Rock (born February 7, 1965) is an American stand-up comedian, actor, and filmmaker. Rock gained prominence as a stand-up comedian, who with his edgy humor and quick wit tackled subjects such as race relations, human sexuality, and observational humor.',\n",
       "       '', '', ''], dtype=object)"
      ]
     },
     "execution_count": 43,
     "metadata": {},
     "output_type": "execute_result"
    }
   ],
   "source": [
    "df_wiki['context'].to_numpy()"
   ]
  }
 ],
 "metadata": {
  "kernelspec": {
   "display_name": "final582",
   "language": "python",
   "name": "python3"
  },
  "language_info": {
   "codemirror_mode": {
    "name": "ipython",
    "version": 3
   },
   "file_extension": ".py",
   "mimetype": "text/x-python",
   "name": "python",
   "nbconvert_exporter": "python",
   "pygments_lexer": "ipython3",
   "version": "3.9.16"
  },
  "orig_nbformat": 4
 },
 "nbformat": 4,
 "nbformat_minor": 2
}
