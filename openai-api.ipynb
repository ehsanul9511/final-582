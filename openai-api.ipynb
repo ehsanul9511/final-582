{
 "cells": [
  {
   "cell_type": "code",
   "execution_count": null,
   "metadata": {},
   "outputs": [],
   "source": [
    "!pip install openai"
   ]
  },
  {
   "cell_type": "code",
   "execution_count": null,
   "metadata": {},
   "outputs": [],
   "source": [
    "api_key = \"API_KEY_HERE\""
   ]
  },
  {
   "cell_type": "code",
   "execution_count": null,
   "metadata": {},
   "outputs": [],
   "source": [
    "# Note: you need to be using OpenAI Python v0.27.0 for the code below to work\n",
    "import openai\n",
    "\n",
    "# OpenAI API key\n",
    "openai.api_key = api_key"
   ]
  },
  {
   "cell_type": "code",
   "execution_count": null,
   "metadata": {},
   "outputs": [],
   "source": [
    "import pandas as pd\n",
    "import ast\n",
    "import nltk\n",
    "from tqdm import tqdm\n",
    "import time\n",
    "# sleep import\n",
    "from time import sleep"
   ]
  },
  {
   "cell_type": "code",
   "execution_count": null,
   "metadata": {},
   "outputs": [],
   "source": [
    "# df = pd.read_csv('data_2015_to_2021.csv')\n",
    "df = pd.read_csv('data_2014.csv')"
   ]
  },
  {
   "cell_type": "code",
   "execution_count": null,
   "metadata": {},
   "outputs": [],
   "source": [
    "comments = df['comments'][20]\n",
    "comments = ast.literal_eval(comments)\n",
    "\n",
    "# each comment is a dictionary with keys: body and score\n",
    "# sort comments by score descending\n",
    "comments = sorted(comments, key=lambda x: x['score'], reverse=True)\n",
    "\n",
    "# filter out comments that have no ? in body\n",
    "comments = [comment for comment in comments if '?' in comment['body']]\n",
    "\n",
    "# filter out comments that have more than 15 words or less than 5 words\n",
    "comments = [comment for comment in comments if len(nltk.word_tokenize(comment['body'])) > 5 and len(nltk.word_tokenize(comment['body'])) < 50]\n",
    "\n",
    "# filter out comments that have score less than 10\n",
    "comments = [comment for comment in comments if comment['score'] > 10]\n",
    "\n",
    "# filter out comments that have https in body\n",
    "comments = [comment for comment in comments if 'https' not in comment['body']]"
   ]
  },
  {
   "cell_type": "code",
   "execution_count": null,
   "metadata": {},
   "outputs": [],
   "source": [
    "print(time.time())\n",
    "sleep(1)\n",
    "print(time.time())"
   ]
  },
  {
   "cell_type": "code",
   "execution_count": null,
   "metadata": {},
   "outputs": [],
   "source": [
    "# loop through each row in the dataframe\n",
    "for index, row in df.iterrows():\n",
    "    print(f'{index+1} row')\n",
    "    comments = row['comments']\n",
    "    comments = ast.literal_eval(comments)\n",
    "    comments = sorted(comments, key=lambda x: x['score'], reverse=True)\n",
    "    comments = [comment for comment in comments if '?' in comment['body']]\n",
    "    comments = [comment for comment in comments if len(nltk.word_tokenize(comment['body'])) > 5 and len(nltk.word_tokenize(comment['body'])) < 50]\n",
    "    comments = [comment for comment in comments if comment['score'] > 10]\n",
    "    comments = [comment for comment in comments if 'http' not in comment['body']]\n",
    "    for i, comment in enumerate(comments):\n",
    "        query = f'Describe the topic of the question below in a single word/phrase. \\n\\nQ: {comment[\"body\"]}\\n\\nA:'\n",
    "        t = time.time()\n",
    "        response = openai.Completion.create(\n",
    "            model=\"text-davinci-003\",\n",
    "            prompt=query,\n",
    "            max_tokens=5,\n",
    "            temperature=0\n",
    "        )\n",
    "        time_left = 1.0 - (time.time() - t)\n",
    "        if time_left > 0:\n",
    "            sleep(time_left)\n",
    "        topic = response['choices'][0]['text']\n",
    "        # print(f'{i+1}. {topic}')\n",
    "        comments[i]['topic'] = topic\n",
    "    df.at[index, 'comments'] = comments\n",
    "    df.to_csv('data_2014_with_topics_full.csv', index=False)"
   ]
  }
 ],
 "metadata": {
  "kernelspec": {
   "display_name": "final582",
   "language": "python",
   "name": "python3"
  },
  "language_info": {
   "codemirror_mode": {
    "name": "ipython",
    "version": 3
   },
   "file_extension": ".py",
   "mimetype": "text/x-python",
   "name": "python",
   "nbconvert_exporter": "python",
   "pygments_lexer": "ipython3",
   "version": "3.9.16"
  },
  "orig_nbformat": 4
 },
 "nbformat": 4,
 "nbformat_minor": 2
}
